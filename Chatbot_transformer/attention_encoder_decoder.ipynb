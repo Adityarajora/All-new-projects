{
 "cells": [
  {
   "cell_type": "markdown",
   "id": "7ff0a3a0",
   "metadata": {},
   "source": [
    "# In this notebook, I'll apply Encode-decoder architecture with attention mechanism"
   ]
  },
  {
   "cell_type": "markdown",
   "id": "a33b5112",
   "metadata": {},
   "source": [
    "## Overview\n",
    "***\n",
    "*A chatbot or chatterbot is a software application used to conduct an on-line chat conversation via text or text-to-speech, in lieu of providing direct contact with a live human agent chatbot is a type of software that can help human by automating conversations and interact with them through messaging platforms. here are different approaches and tools that you can use when building chatbots. Depending on the use case you want to address, some technologies are more appropriate than others. Combining artificial intelligence forms such as natural language processing, machine learning, and semantic understanding may be the best option to achieve the desired results.*\n",
    "***\n"
   ]
  },
  {
   "cell_type": "markdown",
   "id": "d1bcc417",
   "metadata": {},
   "source": [
    "## How to build a Chatbot for our task?\n",
    "***\n",
    "ChatBots are usually Task specific means if there a chatbot which serves only food delivery app have trained on a dataset which\n",
    "completely different from the dataset on which chatbot which serves online healthcare app. Similary, for this kaggle problem\n",
    "we have provided with movie dataset which may feel that its not specific to any task, but actually it is specific to how people\n",
    "will interect generally as these movie dialogues are nothing but daily life conversation between people however, that chatbot\n",
    "may reply things which sounds too much dramatic and filmy like some dialogue of Tom cruise, shah rukh khan etc.\n",
    "\n",
    "We can approch this problem by applying Neural network models like encoder-decoder architecture with some attention mechanism.\n",
    "***"
   ]
  },
  {
   "cell_type": "code",
   "execution_count": 1,
   "id": "0a2e9785",
   "metadata": {},
   "outputs": [],
   "source": [
    "import numpy as np\n",
    "import codecs\n",
    "import tensorflow as tf\n",
    "import pandas as pd\n",
    "import ast\n",
    "import tqdm\n",
    "import matplotlib.pyplot as plt\n",
    "%matplotlib inline\n",
    "# import seaborn as sns\n",
    "import pandas as pd\n",
    "import re\n",
    "import tensorflow as tf\n",
    "from tensorflow.keras.layers import Embedding, LSTM, Dense\n",
    "from tensorflow.keras.models import Model\n",
    "from tensorflow.keras.preprocessing.text import Tokenizer\n",
    "from tensorflow.keras.preprocessing.sequence import pad_sequences\n",
    "import numpy as np\n",
    "import re\n",
    "import warnings\n",
    "warnings.filterwarnings('ignore')"
   ]
  },
  {
   "cell_type": "markdown",
   "id": "127a1155",
   "metadata": {},
   "source": [
    "## Loading data, preprared while EDA and preprocessing"
   ]
  },
  {
   "cell_type": "code",
   "execution_count": 2,
   "id": "29c375b6",
   "metadata": {},
   "outputs": [],
   "source": [
    "import joblib\n",
    "train = joblib.load(\"train\")\n",
    "validation = joblib.load(\"validation\")"
   ]
  },
  {
   "cell_type": "code",
   "execution_count": 3,
   "id": "6d1df2a1",
   "metadata": {},
   "outputs": [],
   "source": [
    "tknizer_q = Tokenizer(filters = '!\"#$%&()*+,-./:;=?@[\\\\]^_`{|}~\\t\\n')\n",
    "tknizer_q.fit_on_texts(train['question'].values)\n",
    "tknizer_a = Tokenizer(filters = '!\"#$%&()*+,-./:;=?@[\\\\]^_`{|}~\\t\\n')\n",
    "tknizer_a.fit_on_texts(train['answer_in'].values)"
   ]
  },
  {
   "cell_type": "code",
   "execution_count": 4,
   "id": "4627ba4c",
   "metadata": {},
   "outputs": [
    {
     "name": "stdout",
     "output_type": "stream",
     "text": [
      "29704\n",
      "29595\n"
     ]
    }
   ],
   "source": [
    "q_word_idx = tknizer_q.word_index\n",
    "q_idx_word = {v: k for k, v in q_word_idx.items()}\n",
    "\n",
    "a_word_idx = tknizer_a.word_index\n",
    "a_idx_word = {v: k for k, v in a_word_idx.items()}\n",
    "\n",
    "print(len(q_word_idx.keys()))\n",
    "print(len(a_word_idx.keys()))"
   ]
  },
  {
   "cell_type": "code",
   "execution_count": 18,
   "id": "bd5c82ab",
   "metadata": {},
   "outputs": [
    {
     "data": {
      "text/plain": [
       "array(['<start> i am glad they let you out <end>',\n",
       "       '<start> some i have been talking to the parkers one thing i know i am not doing  i am not going back',\n",
       "       '<start> do not i get a kiss', ...,\n",
       "       '<start> oh sure you are biased  you are a fellow muncian but would an imbecile come up with this',\n",
       "       '<start> dr crowe',\n",
       "       '<start> nothing you got a hell of a way to make a living'],\n",
       "      dtype=object)"
      ]
     },
     "execution_count": 18,
     "metadata": {},
     "output_type": "execute_result"
    }
   ],
   "source": [
    "train['answer_in'].values"
   ]
  },
  {
   "cell_type": "code",
   "execution_count": 19,
   "id": "04070324",
   "metadata": {},
   "outputs": [
    {
     "data": {
      "text/plain": [
       "(1, 14920)"
      ]
     },
     "execution_count": 19,
     "metadata": {},
     "output_type": "execute_result"
    }
   ],
   "source": [
    "a_word_idx['<start>'], a_word_idx['<end>']"
   ]
  },
  {
   "cell_type": "code",
   "execution_count": 5,
   "id": "5f319c00",
   "metadata": {},
   "outputs": [],
   "source": [
    "vocab_size_a = len(a_word_idx.keys())\n",
    "vocab_size_q = len(q_word_idx.keys())"
   ]
  },
  {
   "cell_type": "code",
   "execution_count": 6,
   "id": "808e7f81",
   "metadata": {},
   "outputs": [],
   "source": [
    "class Dataset:\n",
    "    def __init__(self, data, tknizer_q, tknizer_a):\n",
    "        self.encoder_inps = data['question'].values\n",
    "        self.decoder_inps = data['answer_in'].values\n",
    "        self.decoder_outs = data['answer_out'].values\n",
    "        self.tknizer_q = tknizer_q\n",
    "        self.tknizer_a = tknizer_a\n",
    "\n",
    "    def __getitem__(self, i):\n",
    "        self.encoder_seq = self.tknizer_q.texts_to_sequences([self.encoder_inps[i]]) # need to pass list of values\n",
    "        self.decoder_inp_seq = self.tknizer_a.texts_to_sequences([self.decoder_inps[i]])\n",
    "        self.decoder_out_seq = self.tknizer_a.texts_to_sequences([self.decoder_outs[i]])\n",
    "\n",
    "        self.encoder_seq = pad_sequences(self.encoder_seq,maxlen=27, dtype='int32', padding='post')\n",
    "        self.decoder_inp_seq = pad_sequences(self.decoder_inp_seq,maxlen=27, dtype='int32', padding='post')\n",
    "        self.decoder_out_seq = pad_sequences(self.decoder_out_seq,maxlen=27, dtype='int32', padding='post')\n",
    "        return self.encoder_seq, self.decoder_inp_seq, self.decoder_out_seq\n",
    "\n",
    "    def __len__(self): # your model.fit_gen requires this function\n",
    "        return len(self.encoder_inps)\n",
    "\n",
    "    \n",
    "class Dataloder(tf.keras.utils.Sequence):    \n",
    "    def __init__(self, dataset, batch_size=1):\n",
    "        self.dataset = dataset\n",
    "        self.batch_size = batch_size\n",
    "        self.indexes = np.arange(len(self.dataset.encoder_inps))\n",
    "\n",
    "\n",
    "    def __getitem__(self, i):\n",
    "        start = i * self.batch_size\n",
    "        stop = (i + 1) * self.batch_size\n",
    "        data = []\n",
    "        for j in range(start, stop):\n",
    "            data.append(self.dataset[j])\n",
    "\n",
    "        batch = [np.squeeze(np.stack(samples, axis=1), axis=0) for samples in zip(*data)]\n",
    "        return tuple([[batch[0],batch[1]],batch[2]])\n",
    "\n",
    "    def __len__(self):  # your model.fit_gen requires this function\n",
    "        return len(self.indexes) // self.batch_size\n",
    "\n",
    "    def on_epoch_end(self):\n",
    "        self.indexes = np.random.permutation(self.indexes)"
   ]
  },
  {
   "cell_type": "code",
   "execution_count": 15,
   "id": "3403777d",
   "metadata": {},
   "outputs": [
    {
     "name": "stdout",
     "output_type": "stream",
     "text": [
      "(128, 27) (128, 27) (128, 27)\n"
     ]
    }
   ],
   "source": [
    "train_dataset = Dataset(train, tknizer_q, tknizer_a)\n",
    "test_dataset  = Dataset(validation, tknizer_q, tknizer_a)\n",
    "train_dataloader = Dataloder(train_dataset, batch_size=128)\n",
    "test_dataloader = Dataloder(test_dataset, batch_size=128)\n",
    "\n",
    "print(train_dataloader[0][0][0].shape, train_dataloader[0][0][1].shape, train_dataloader[0][1].shape)"
   ]
  },
  {
   "cell_type": "code",
   "execution_count": null,
   "id": "211926d6",
   "metadata": {},
   "outputs": [],
   "source": [
    "# ([q,a_in],a_out), ([q,a_in],a_out), ([q,a_in],a_out) ...."
   ]
  },
  {
   "cell_type": "code",
   "execution_count": null,
   "id": "5726d8d0",
   "metadata": {},
   "outputs": [],
   "source": []
  },
  {
   "cell_type": "code",
   "execution_count": 8,
   "id": "599aea03",
   "metadata": {},
   "outputs": [],
   "source": [
    "class Encoder(tf.keras.Model):\n",
    "    '''\n",
    "    Encoder model -- That takes a input sequence and returns output sequence\n",
    "    '''\n",
    "    def __init__(self, ques_vocab_size, embedding_dim, encoder_input_length, lstm_units):\n",
    "\n",
    "        #Initialize Embedding layer\n",
    "        #Intialize Encoder LSTM layer\n",
    "        super().__init__(name=\"encode_model_attention\")\n",
    "        self.ques_vocab_size = ques_vocab_size\n",
    "        self.embedding_dim = embedding_dim\n",
    "        self.lstm_units = lstm_units\n",
    "        self.encoder_input_length = encoder_input_length\n",
    "        self.embedding = Embedding(input_dim=self.ques_vocab_size, output_dim=self.embedding_dim, input_length=self.encoder_input_length,\\\n",
    "                  mask_zero=True, name=\"embedding_layer_encoder\")\n",
    "        self.LSTM = LSTM(self.lstm_units, return_state=True, return_sequences=True, name=\"Encoder_LSTM\")\n",
    "\n",
    "    def call(self,input_sequence):\n",
    "        '''\n",
    "          This function takes a sequence input and the initial states of the encoder.\n",
    "          Pass the input_sequence input to the Embedding layer, Pass the embedding layer ouput to encoder_lstm\n",
    "          returns -- All encoder_outputs, last time steps hidden and cell state\n",
    "        '''\n",
    "        input_embeddings = self.embedding(input_sequence)\n",
    "        self.lstm_output, self.lstm_state_h, self.lstm_state_c = self.LSTM(input_embeddings)\n",
    "        return self.lstm_output, self.lstm_state_h,self.lstm_state_c\n",
    "\n",
    "    \n",
    "    def initialize_states(self,batch_size):\n",
    "        '''\n",
    "        Given a batch size it will return intial hidden state and intial cell state.\n",
    "        If batch size is 32- Hidden state is zeros of size [32,lstm_units], cell state zeros is of size [32,lstm_units]\n",
    "        '''\n",
    "        lstm_state_h = tf.zeros([batch_size, self.lstm_size])\n",
    "        lstm_state_c = tf.zeros([batch_size, self.lstm_size])\n",
    "\n",
    "        return lstm_state_h, lstm_state_c\n",
    "\n",
    "\n"
   ]
  },
  {
   "cell_type": "code",
   "execution_count": 9,
   "id": "42a459d7",
   "metadata": {},
   "outputs": [],
   "source": [
    "from tensorflow.keras.layers import *\n",
    "class Attention(tf.keras.layers.Layer):\n",
    "    '''\n",
    "    Class the calculates score based on the scoring_function using Bahdanu attention mechanism.\n",
    "    '''\n",
    "    def __init__(self, att_units):\n",
    "\n",
    "        super().__init__(name=\"Attention_Bahdanau\")\n",
    "        self.K = 100\n",
    "        self.dense_1 = Dense(self.K, activation='relu')\n",
    "        self.dense_2 = Dense(self.K, activation='relu')\n",
    "        self.dense_3 = Dense(1, activation='relu')\n",
    "  \n",
    "\n",
    "    def call(self, decoder_hidden_state, encoder_output):\n",
    "        '''\n",
    "          Attention mechanism takes two inputs current step -- decoder_hidden_state and all the encoder_outputs.\n",
    "          * Based on the scoring function we will find the score or similarity between decoder_hidden_state and encoder_output.\n",
    "            Multiply the score function with your encoder_outputs to get the context vector.\n",
    "            Function returns context vector and attention weights(softmax - scores)\n",
    "        '''\n",
    "            \n",
    "        k1 = self.dense_1(encoder_output)\n",
    "        k2 =  self.dense_2(decoder_hidden_state)\n",
    "        add = tf.keras.layers.Add()([k1, k2])\n",
    "        tanh = tf.keras.layers.Activation(activation=\"tanh\")(add)\n",
    "        ei = self.dense_3(tanh)\n",
    "        ei = tf.squeeze(ei,-1)\n",
    "        alphas = Softmax()(ei) \n",
    "        alphas = tf.expand_dims(alphas, axis=-1)\n",
    "        mull = tf.keras.layers.Multiply()([encoder_output, alphas])\n",
    "        context_vec = tf.reduce_mean(mull, axis=-2)                \n",
    "        return context_vec, alphas\n"
   ]
  },
  {
   "cell_type": "code",
   "execution_count": 10,
   "id": "ff4c1571",
   "metadata": {},
   "outputs": [],
   "source": [
    "class OneStepDecoder(tf.keras.Model):\n",
    "    def __init__(self,ans_vocab_size, embedding_dim, decoder_input_length, lstm_units, attention_units):\n",
    "        super().__init__(name=\"OneStepDecoder\")\n",
    "        # Initialize decoder embedding layer, LSTM and any other objects needed\n",
    "        \n",
    "        self.lstm_units = lstm_units\n",
    "        self.attention_units = attention_units\n",
    "        self.attention = Attention(attention_units)\n",
    "        self.embedding = Embedding(input_dim = ans_vocab_size, output_dim = embedding_dim, input_length = decoder_input_length,\n",
    "                                   mask_zero=True, trainable=True )\n",
    "        #weights=[embedding_matrix]\n",
    "        \n",
    "        self.lstm = LSTM(self.lstm_units, return_sequences=True, return_state=True,name=\"OneStepDecoder_LSTM\")\n",
    "        self.dense = Dense(ans_vocab_size, activation='softmax')\n",
    "        \n",
    "\n",
    "    def call(self, input_to_decoder, encoder_output, state_h, state_c):\n",
    "        '''\n",
    "             One step decoder mechanisim step by step:\n",
    "          A. Pass the input_to_decoder to the embedding layer and then get the output(batch_size,1,embedding_dim)\n",
    "          B. Using the encoder_output and decoder hidden state, compute the context vector.\n",
    "          C. Concat the context vector with the step A output\n",
    "          D. Pass the Step-C output to LSTM/GRU and get the decoder output and states(hidden and cell state)\n",
    "          E. Pass the decoder output to dense layer(vocab size) and store the result into output.\n",
    "          F. Return the states from step D, output from Step E, attention weights from Step -B\n",
    "        '''\n",
    "        #adding attention information to embeddings now\n",
    "        embeddings = self.embedding(input_to_decoder)\n",
    "        context_vector, attention_weights = self.attention(state_h, encoder_output)\n",
    "        attention_embeddings = tf.concat([tf.expand_dims(context_vector, 1), embeddings], axis=-1)\n",
    "        \n",
    "        x, state_h, state_c = self.lstm(attention_embeddings, initial_state=[state_h, state_c])\n",
    "        \n",
    "        output = self.dense(x)\n",
    "        \n",
    "        output = tf.squeeze(output,1)\n",
    "        \n",
    "        return output, state_h, state_c, attention_weights, context_vector\n",
    "        \n",
    "        "
   ]
  },
  {
   "cell_type": "code",
   "execution_count": 11,
   "id": "78e820da",
   "metadata": {},
   "outputs": [],
   "source": [
    "class Decoder(tf.keras.Model):\n",
    "    def __init__(self, ans_vocab_size, embedding_dim, decoder_input_length, lstm_units, attention_units):\n",
    "        #Intialize necessary variables and create an object from the class onestepdecoder\n",
    "        super().__init__(name=\"Decode_Attention\")\n",
    "        self.ans_vocab_size = ans_vocab_size\n",
    "        self.embedding_dim = embedding_dim\n",
    "        self.decoder_input_length = decoder_input_length\n",
    "        self.lstm_units = lstm_units\n",
    "        self.attention_units = attention_units\n",
    "        self.onestepdecoder = OneStepDecoder(self.ans_vocab_size, \\\n",
    "                                             self.embedding_dim, \\\n",
    "                                             self.decoder_input_length, \\\n",
    "                                             self.lstm_units, self.attention_units)\n",
    "        \n",
    "    def call(self, input_to_decoder, encoder_output, decoder_hidden_state, decoder_cell_state):\n",
    "\n",
    "        #Initialize an empty Tensor array, that will store the outputs at each and every time step\n",
    "        #Create a tensor array as shown in the reference notebook\n",
    "        \n",
    "        #Iterate till the length of the decoder input\n",
    "            # Call onestepdecoder for each token in decoder_input\n",
    "            # Store the output in tensorarray\n",
    "        # Return the tensor array\n",
    "        \n",
    "        all_outputs = tf.TensorArray(tf.float32, size=27, name=\"output_arrays\")\n",
    "        for timestep in range(27):\n",
    "            output,decoder_hidden_state,decoder_cell_state,attention_weights,context_vector = self.onestepdecoder(\\\n",
    "                                input_to_decoder[:, timestep:timestep+1],encoder_output,\\\n",
    "                                decoder_hidden_state,decoder_cell_state\n",
    "                               )\n",
    "            \n",
    "            all_outputs = all_outputs.write(timestep, output)\n",
    "        all_outputs = tf.transpose(all_outputs.stack(), [1,0,2])\n",
    "        return all_outputs\n",
    "    "
   ]
  },
  {
   "cell_type": "code",
   "execution_count": 12,
   "id": "4d387f09",
   "metadata": {},
   "outputs": [],
   "source": [
    "class encoder_decoder(tf.keras.Model):\n",
    "    def __init__(self,ques_vocab_size, ans_vocab_size, encoder_input_length, dencoder_input_length, emb_dim, lstm_units, attention_units):\n",
    "        #Intialize objects from encoder decoder\n",
    "        super().__init__(name=\"Encoder_Decoder_Attention_model\")\n",
    "    \n",
    "        self.encoder = Encoder(ques_vocab_size, emb_dim, encoder_input_length, lstm_units )\n",
    "        self.decoder = Decoder(ans_vocab_size, emb_dim, dencoder_input_length, lstm_units, attention_units)\n",
    "                             \n",
    "    def call(self,data):\n",
    "        #Intialize encoder states, Pass the encoder_sequence to the embedding layer\n",
    "        # Decoder initial states are encoder final states, Initialize it accordingly\n",
    "        # Pass the decoder sequence,encoder_output,decoder states to Decoder\n",
    "        # return the decoder output\n",
    "        input_q, input_a = data[0], data[1]\n",
    "        encoder_output, encoder_h, encoder_c = self.encoder(input_q)\n",
    "        decoder_output = self.decoder(input_a, encoder_output, encoder_h, encoder_c)\n",
    "        return decoder_output\n",
    "        \n",
    "\n",
    "\n",
    "\n"
   ]
  },
  {
   "cell_type": "code",
   "execution_count": 13,
   "id": "ab8f74d5",
   "metadata": {},
   "outputs": [],
   "source": [
    "import tensorflow as tf\n",
    "from sklearn.metrics import roc_auc_score\n",
    "from tensorflow.keras.utils import to_categorical\n",
    "\n",
    "\n",
    "from tensorflow.keras.callbacks import Callback, ModelCheckpoint, EarlyStopping, TensorBoard, LearningRateScheduler\n",
    "from sklearn.metrics import recall_score, f1_score, roc_curve, auc\n",
    "import datetime\n",
    "\n",
    "filepath=\"model_save_attention_4/weights-{epoch:02d}-{val_loss:.2f}\"\n",
    "checkpoint = ModelCheckpoint(filepath=filepath, monitor='val_loss', save_format=\"tf\", save_freq=\"epoch\",  verbose=1, save_best_only=True, mode='auto')\n",
    "           "
   ]
  },
  {
   "cell_type": "code",
   "execution_count": 251,
   "id": "1025facd",
   "metadata": {},
   "outputs": [
    {
     "name": "stdout",
     "output_type": "stream",
     "text": [
      "Epoch 1/20\n",
      "871/871 [==============================] - ETA: 0s - loss: 2.1390 - accuracy: 0.7089\n",
      "Epoch 1: val_loss improved from inf to 1.70939, saving model to model_save_attention\\weights-01-1.71\n"
     ]
    },
    {
     "name": "stderr",
     "output_type": "stream",
     "text": [
      "WARNING:absl:Found untraced functions such as lstm_cell_6_layer_call_fn, lstm_cell_6_layer_call_and_return_conditional_losses, dense_12_layer_call_fn, dense_12_layer_call_and_return_conditional_losses, dense_13_layer_call_fn while saving (showing 5 of 10). These functions will not be directly callable after loading.\n"
     ]
    },
    {
     "name": "stdout",
     "output_type": "stream",
     "text": [
      "INFO:tensorflow:Assets written to: model_save_attention\\weights-01-1.71\\assets\n"
     ]
    },
    {
     "name": "stderr",
     "output_type": "stream",
     "text": [
      "INFO:tensorflow:Assets written to: model_save_attention\\weights-01-1.71\\assets\n",
      "WARNING:absl:<keras.layers.recurrent.LSTMCell object at 0x0000024090E417F0> has the same name 'LSTMCell' as a built-in Keras object. Consider renaming <class 'keras.layers.recurrent.LSTMCell'> to avoid naming conflicts when loading with `tf.keras.models.load_model`. If renaming is not possible, pass the object in the `custom_objects` parameter of the load function.\n",
      "WARNING:absl:<__main__.Attention object at 0x0000024090E6D400> has the same name 'Attention' as a built-in Keras object. Consider renaming <class '__main__.Attention'> to avoid naming conflicts when loading with `tf.keras.models.load_model`. If renaming is not possible, pass the object in the `custom_objects` parameter of the load function.\n",
      "WARNING:absl:<keras.layers.recurrent.LSTMCell object at 0x00000240FB4D6A30> has the same name 'LSTMCell' as a built-in Keras object. Consider renaming <class 'keras.layers.recurrent.LSTMCell'> to avoid naming conflicts when loading with `tf.keras.models.load_model`. If renaming is not possible, pass the object in the `custom_objects` parameter of the load function.\n"
     ]
    },
    {
     "name": "stdout",
     "output_type": "stream",
     "text": [
      "871/871 [==============================] - 470s 504ms/step - loss: 2.1390 - accuracy: 0.7089 - val_loss: 1.7094 - val_accuracy: 0.7322\n",
      "Epoch 2/20\n",
      "871/871 [==============================] - ETA: 0s - loss: 1.6838 - accuracy: 0.7389\n",
      "Epoch 2: val_loss improved from 1.70939 to 1.56630, saving model to model_save_attention\\weights-02-1.57\n"
     ]
    },
    {
     "name": "stderr",
     "output_type": "stream",
     "text": [
      "WARNING:absl:Found untraced functions such as lstm_cell_6_layer_call_fn, lstm_cell_6_layer_call_and_return_conditional_losses, dense_12_layer_call_fn, dense_12_layer_call_and_return_conditional_losses, dense_13_layer_call_fn while saving (showing 5 of 10). These functions will not be directly callable after loading.\n"
     ]
    },
    {
     "name": "stdout",
     "output_type": "stream",
     "text": [
      "INFO:tensorflow:Assets written to: model_save_attention\\weights-02-1.57\\assets\n"
     ]
    },
    {
     "name": "stderr",
     "output_type": "stream",
     "text": [
      "INFO:tensorflow:Assets written to: model_save_attention\\weights-02-1.57\\assets\n",
      "WARNING:absl:<keras.layers.recurrent.LSTMCell object at 0x0000024090E417F0> has the same name 'LSTMCell' as a built-in Keras object. Consider renaming <class 'keras.layers.recurrent.LSTMCell'> to avoid naming conflicts when loading with `tf.keras.models.load_model`. If renaming is not possible, pass the object in the `custom_objects` parameter of the load function.\n",
      "WARNING:absl:<__main__.Attention object at 0x0000024090E6D400> has the same name 'Attention' as a built-in Keras object. Consider renaming <class '__main__.Attention'> to avoid naming conflicts when loading with `tf.keras.models.load_model`. If renaming is not possible, pass the object in the `custom_objects` parameter of the load function.\n",
      "WARNING:absl:<keras.layers.recurrent.LSTMCell object at 0x00000240FB4D6A30> has the same name 'LSTMCell' as a built-in Keras object. Consider renaming <class 'keras.layers.recurrent.LSTMCell'> to avoid naming conflicts when loading with `tf.keras.models.load_model`. If renaming is not possible, pass the object in the `custom_objects` parameter of the load function.\n"
     ]
    },
    {
     "name": "stdout",
     "output_type": "stream",
     "text": [
      "871/871 [==============================] - 436s 500ms/step - loss: 1.6838 - accuracy: 0.7389 - val_loss: 1.5663 - val_accuracy: 0.7480\n",
      "Epoch 3/20\n",
      "871/871 [==============================] - ETA: 0s - loss: 1.5756 - accuracy: 0.7456\n",
      "Epoch 3: val_loss improved from 1.56630 to 1.51757, saving model to model_save_attention\\weights-03-1.52\n"
     ]
    },
    {
     "name": "stderr",
     "output_type": "stream",
     "text": [
      "WARNING:absl:Found untraced functions such as lstm_cell_6_layer_call_fn, lstm_cell_6_layer_call_and_return_conditional_losses, dense_12_layer_call_fn, dense_12_layer_call_and_return_conditional_losses, dense_13_layer_call_fn while saving (showing 5 of 10). These functions will not be directly callable after loading.\n"
     ]
    },
    {
     "name": "stdout",
     "output_type": "stream",
     "text": [
      "INFO:tensorflow:Assets written to: model_save_attention\\weights-03-1.52\\assets\n"
     ]
    },
    {
     "name": "stderr",
     "output_type": "stream",
     "text": [
      "INFO:tensorflow:Assets written to: model_save_attention\\weights-03-1.52\\assets\n",
      "WARNING:absl:<keras.layers.recurrent.LSTMCell object at 0x0000024090E417F0> has the same name 'LSTMCell' as a built-in Keras object. Consider renaming <class 'keras.layers.recurrent.LSTMCell'> to avoid naming conflicts when loading with `tf.keras.models.load_model`. If renaming is not possible, pass the object in the `custom_objects` parameter of the load function.\n",
      "WARNING:absl:<__main__.Attention object at 0x0000024090E6D400> has the same name 'Attention' as a built-in Keras object. Consider renaming <class '__main__.Attention'> to avoid naming conflicts when loading with `tf.keras.models.load_model`. If renaming is not possible, pass the object in the `custom_objects` parameter of the load function.\n",
      "WARNING:absl:<keras.layers.recurrent.LSTMCell object at 0x00000240FB4D6A30> has the same name 'LSTMCell' as a built-in Keras object. Consider renaming <class 'keras.layers.recurrent.LSTMCell'> to avoid naming conflicts when loading with `tf.keras.models.load_model`. If renaming is not possible, pass the object in the `custom_objects` parameter of the load function.\n"
     ]
    },
    {
     "name": "stdout",
     "output_type": "stream",
     "text": [
      "871/871 [==============================] - 440s 505ms/step - loss: 1.5756 - accuracy: 0.7456 - val_loss: 1.5176 - val_accuracy: 0.7518\n",
      "Epoch 4/20\n",
      "871/871 [==============================] - ETA: 0s - loss: 1.5113 - accuracy: 0.7493\n",
      "Epoch 4: val_loss improved from 1.51757 to 1.49310, saving model to model_save_attention\\weights-04-1.49\n"
     ]
    },
    {
     "name": "stderr",
     "output_type": "stream",
     "text": [
      "WARNING:absl:Found untraced functions such as lstm_cell_6_layer_call_fn, lstm_cell_6_layer_call_and_return_conditional_losses, dense_12_layer_call_fn, dense_12_layer_call_and_return_conditional_losses, dense_13_layer_call_fn while saving (showing 5 of 10). These functions will not be directly callable after loading.\n"
     ]
    },
    {
     "name": "stdout",
     "output_type": "stream",
     "text": [
      "INFO:tensorflow:Assets written to: model_save_attention\\weights-04-1.49\\assets\n"
     ]
    },
    {
     "name": "stderr",
     "output_type": "stream",
     "text": [
      "INFO:tensorflow:Assets written to: model_save_attention\\weights-04-1.49\\assets\n",
      "WARNING:absl:<keras.layers.recurrent.LSTMCell object at 0x0000024090E417F0> has the same name 'LSTMCell' as a built-in Keras object. Consider renaming <class 'keras.layers.recurrent.LSTMCell'> to avoid naming conflicts when loading with `tf.keras.models.load_model`. If renaming is not possible, pass the object in the `custom_objects` parameter of the load function.\n",
      "WARNING:absl:<__main__.Attention object at 0x0000024090E6D400> has the same name 'Attention' as a built-in Keras object. Consider renaming <class '__main__.Attention'> to avoid naming conflicts when loading with `tf.keras.models.load_model`. If renaming is not possible, pass the object in the `custom_objects` parameter of the load function.\n",
      "WARNING:absl:<keras.layers.recurrent.LSTMCell object at 0x00000240FB4D6A30> has the same name 'LSTMCell' as a built-in Keras object. Consider renaming <class 'keras.layers.recurrent.LSTMCell'> to avoid naming conflicts when loading with `tf.keras.models.load_model`. If renaming is not possible, pass the object in the `custom_objects` parameter of the load function.\n"
     ]
    },
    {
     "name": "stdout",
     "output_type": "stream",
     "text": [
      "871/871 [==============================] - 436s 501ms/step - loss: 1.5113 - accuracy: 0.7493 - val_loss: 1.4931 - val_accuracy: 0.7537\n",
      "Epoch 5/20\n",
      "871/871 [==============================] - ETA: 0s - loss: 1.4597 - accuracy: 0.7520\n",
      "Epoch 5: val_loss improved from 1.49310 to 1.47880, saving model to model_save_attention\\weights-05-1.48\n"
     ]
    },
    {
     "name": "stderr",
     "output_type": "stream",
     "text": [
      "WARNING:absl:Found untraced functions such as lstm_cell_6_layer_call_fn, lstm_cell_6_layer_call_and_return_conditional_losses, dense_12_layer_call_fn, dense_12_layer_call_and_return_conditional_losses, dense_13_layer_call_fn while saving (showing 5 of 10). These functions will not be directly callable after loading.\n"
     ]
    },
    {
     "name": "stdout",
     "output_type": "stream",
     "text": [
      "INFO:tensorflow:Assets written to: model_save_attention\\weights-05-1.48\\assets\n"
     ]
    },
    {
     "name": "stderr",
     "output_type": "stream",
     "text": [
      "INFO:tensorflow:Assets written to: model_save_attention\\weights-05-1.48\\assets\n",
      "WARNING:absl:<keras.layers.recurrent.LSTMCell object at 0x0000024090E417F0> has the same name 'LSTMCell' as a built-in Keras object. Consider renaming <class 'keras.layers.recurrent.LSTMCell'> to avoid naming conflicts when loading with `tf.keras.models.load_model`. If renaming is not possible, pass the object in the `custom_objects` parameter of the load function.\n",
      "WARNING:absl:<__main__.Attention object at 0x0000024090E6D400> has the same name 'Attention' as a built-in Keras object. Consider renaming <class '__main__.Attention'> to avoid naming conflicts when loading with `tf.keras.models.load_model`. If renaming is not possible, pass the object in the `custom_objects` parameter of the load function.\n",
      "WARNING:absl:<keras.layers.recurrent.LSTMCell object at 0x00000240FB4D6A30> has the same name 'LSTMCell' as a built-in Keras object. Consider renaming <class 'keras.layers.recurrent.LSTMCell'> to avoid naming conflicts when loading with `tf.keras.models.load_model`. If renaming is not possible, pass the object in the `custom_objects` parameter of the load function.\n"
     ]
    },
    {
     "name": "stdout",
     "output_type": "stream",
     "text": [
      "871/871 [==============================] - 436s 501ms/step - loss: 1.4597 - accuracy: 0.7520 - val_loss: 1.4788 - val_accuracy: 0.7550\n",
      "Epoch 6/20\n",
      "871/871 [==============================] - ETA: 0s - loss: 1.4136 - accuracy: 0.7543\n",
      "Epoch 6: val_loss improved from 1.47880 to 1.47275, saving model to model_save_attention\\weights-06-1.47\n"
     ]
    },
    {
     "name": "stderr",
     "output_type": "stream",
     "text": [
      "WARNING:absl:Found untraced functions such as lstm_cell_6_layer_call_fn, lstm_cell_6_layer_call_and_return_conditional_losses, dense_12_layer_call_fn, dense_12_layer_call_and_return_conditional_losses, dense_13_layer_call_fn while saving (showing 5 of 10). These functions will not be directly callable after loading.\n"
     ]
    },
    {
     "name": "stdout",
     "output_type": "stream",
     "text": [
      "INFO:tensorflow:Assets written to: model_save_attention\\weights-06-1.47\\assets\n"
     ]
    },
    {
     "name": "stderr",
     "output_type": "stream",
     "text": [
      "INFO:tensorflow:Assets written to: model_save_attention\\weights-06-1.47\\assets\n",
      "WARNING:absl:<keras.layers.recurrent.LSTMCell object at 0x0000024090E417F0> has the same name 'LSTMCell' as a built-in Keras object. Consider renaming <class 'keras.layers.recurrent.LSTMCell'> to avoid naming conflicts when loading with `tf.keras.models.load_model`. If renaming is not possible, pass the object in the `custom_objects` parameter of the load function.\n",
      "WARNING:absl:<__main__.Attention object at 0x0000024090E6D400> has the same name 'Attention' as a built-in Keras object. Consider renaming <class '__main__.Attention'> to avoid naming conflicts when loading with `tf.keras.models.load_model`. If renaming is not possible, pass the object in the `custom_objects` parameter of the load function.\n",
      "WARNING:absl:<keras.layers.recurrent.LSTMCell object at 0x00000240FB4D6A30> has the same name 'LSTMCell' as a built-in Keras object. Consider renaming <class 'keras.layers.recurrent.LSTMCell'> to avoid naming conflicts when loading with `tf.keras.models.load_model`. If renaming is not possible, pass the object in the `custom_objects` parameter of the load function.\n"
     ]
    },
    {
     "name": "stdout",
     "output_type": "stream",
     "text": [
      "871/871 [==============================] - 435s 500ms/step - loss: 1.4136 - accuracy: 0.7543 - val_loss: 1.4727 - val_accuracy: 0.7562\n",
      "Epoch 7/20\n",
      "871/871 [==============================] - ETA: 0s - loss: 1.3701 - accuracy: 0.7565\n",
      "Epoch 7: val_loss improved from 1.47275 to 1.46967, saving model to model_save_attention\\weights-07-1.47\n"
     ]
    },
    {
     "name": "stderr",
     "output_type": "stream",
     "text": [
      "WARNING:absl:Found untraced functions such as lstm_cell_6_layer_call_fn, lstm_cell_6_layer_call_and_return_conditional_losses, dense_12_layer_call_fn, dense_12_layer_call_and_return_conditional_losses, dense_13_layer_call_fn while saving (showing 5 of 10). These functions will not be directly callable after loading.\n"
     ]
    },
    {
     "name": "stdout",
     "output_type": "stream",
     "text": [
      "INFO:tensorflow:Assets written to: model_save_attention\\weights-07-1.47\\assets\n"
     ]
    },
    {
     "name": "stderr",
     "output_type": "stream",
     "text": [
      "INFO:tensorflow:Assets written to: model_save_attention\\weights-07-1.47\\assets\n",
      "WARNING:absl:<keras.layers.recurrent.LSTMCell object at 0x0000024090E417F0> has the same name 'LSTMCell' as a built-in Keras object. Consider renaming <class 'keras.layers.recurrent.LSTMCell'> to avoid naming conflicts when loading with `tf.keras.models.load_model`. If renaming is not possible, pass the object in the `custom_objects` parameter of the load function.\n",
      "WARNING:absl:<__main__.Attention object at 0x0000024090E6D400> has the same name 'Attention' as a built-in Keras object. Consider renaming <class '__main__.Attention'> to avoid naming conflicts when loading with `tf.keras.models.load_model`. If renaming is not possible, pass the object in the `custom_objects` parameter of the load function.\n",
      "WARNING:absl:<keras.layers.recurrent.LSTMCell object at 0x00000240FB4D6A30> has the same name 'LSTMCell' as a built-in Keras object. Consider renaming <class 'keras.layers.recurrent.LSTMCell'> to avoid naming conflicts when loading with `tf.keras.models.load_model`. If renaming is not possible, pass the object in the `custom_objects` parameter of the load function.\n"
     ]
    },
    {
     "name": "stdout",
     "output_type": "stream",
     "text": [
      "871/871 [==============================] - 441s 506ms/step - loss: 1.3701 - accuracy: 0.7565 - val_loss: 1.4697 - val_accuracy: 0.7566\n",
      "Epoch 8/20\n",
      "871/871 [==============================] - ETA: 0s - loss: 1.3279 - accuracy: 0.7587\n",
      "Epoch 8: val_loss did not improve from 1.46967\n",
      "871/871 [==============================] - 395s 454ms/step - loss: 1.3279 - accuracy: 0.7587 - val_loss: 1.4721 - val_accuracy: 0.7569\n",
      "Epoch 9/20\n",
      "871/871 [==============================] - ETA: 0s - loss: 1.2868 - accuracy: 0.7614\n",
      "Epoch 9: val_loss did not improve from 1.46967\n",
      "871/871 [==============================] - 380s 437ms/step - loss: 1.2868 - accuracy: 0.7614 - val_loss: 1.4764 - val_accuracy: 0.7570\n",
      "Epoch 10/20\n",
      "871/871 [==============================] - ETA: 0s - loss: 1.2465 - accuracy: 0.7648\n",
      "Epoch 10: val_loss did not improve from 1.46967\n",
      "871/871 [==============================] - 376s 431ms/step - loss: 1.2465 - accuracy: 0.7648 - val_loss: 1.4839 - val_accuracy: 0.7566\n",
      "Epoch 11/20\n",
      "871/871 [==============================] - ETA: 0s - loss: 1.2083 - accuracy: 0.7688\n",
      "Epoch 11: val_loss did not improve from 1.46967\n",
      "871/871 [==============================] - 379s 435ms/step - loss: 1.2083 - accuracy: 0.7688 - val_loss: 1.4919 - val_accuracy: 0.7570\n",
      "Epoch 12/20\n",
      "871/871 [==============================] - ETA: 0s - loss: 1.1723 - accuracy: 0.7727\n",
      "Epoch 12: val_loss did not improve from 1.46967\n",
      "871/871 [==============================] - 377s 433ms/step - loss: 1.1723 - accuracy: 0.7727 - val_loss: 1.4994 - val_accuracy: 0.7563\n",
      "Epoch 13/20\n",
      "871/871 [==============================] - ETA: 0s - loss: 1.1389 - accuracy: 0.7765\n",
      "Epoch 13: val_loss did not improve from 1.46967\n",
      "871/871 [==============================] - 387s 444ms/step - loss: 1.1389 - accuracy: 0.7765 - val_loss: 1.5081 - val_accuracy: 0.7562\n",
      "Epoch 14/20\n",
      "871/871 [==============================] - ETA: 0s - loss: 1.1080 - accuracy: 0.7804\n",
      "Epoch 14: val_loss did not improve from 1.46967\n",
      "871/871 [==============================] - 373s 428ms/step - loss: 1.1080 - accuracy: 0.7804 - val_loss: 1.5187 - val_accuracy: 0.7556\n",
      "Epoch 15/20\n",
      "871/871 [==============================] - ETA: 0s - loss: 1.0787 - accuracy: 0.7843\n",
      "Epoch 15: val_loss did not improve from 1.46967\n",
      "871/871 [==============================] - 376s 431ms/step - loss: 1.0787 - accuracy: 0.7843 - val_loss: 1.5283 - val_accuracy: 0.7551\n",
      "Epoch 16/20\n",
      "871/871 [==============================] - ETA: 0s - loss: 1.0509 - accuracy: 0.7880\n",
      "Epoch 16: val_loss did not improve from 1.46967\n",
      "871/871 [==============================] - 384s 441ms/step - loss: 1.0509 - accuracy: 0.7880 - val_loss: 1.5393 - val_accuracy: 0.7542\n",
      "Epoch 17/20\n",
      "871/871 [==============================] - ETA: 0s - loss: 1.0246 - accuracy: 0.7918\n",
      "Epoch 17: val_loss did not improve from 1.46967\n",
      "871/871 [==============================] - 383s 440ms/step - loss: 1.0246 - accuracy: 0.7918 - val_loss: 1.5500 - val_accuracy: 0.7544\n",
      "Epoch 18/20\n",
      "871/871 [==============================] - ETA: 0s - loss: 0.9994 - accuracy: 0.7954\n",
      "Epoch 18: val_loss did not improve from 1.46967\n",
      "871/871 [==============================] - 376s 432ms/step - loss: 0.9994 - accuracy: 0.7954 - val_loss: 1.5612 - val_accuracy: 0.7535\n",
      "Epoch 19/20\n",
      "871/871 [==============================] - ETA: 0s - loss: 0.9752 - accuracy: 0.7989\n",
      "Epoch 19: val_loss did not improve from 1.46967\n",
      "871/871 [==============================] - 377s 433ms/step - loss: 0.9752 - accuracy: 0.7989 - val_loss: 1.5723 - val_accuracy: 0.7531\n",
      "Epoch 20/20\n",
      "871/871 [==============================] - ETA: 0s - loss: 0.9519 - accuracy: 0.8026\n",
      "Epoch 20: val_loss did not improve from 1.46967\n",
      "871/871 [==============================] - 379s 435ms/step - loss: 0.9519 - accuracy: 0.8026 - val_loss: 1.5845 - val_accuracy: 0.7525\n"
     ]
    }
   ],
   "source": [
    "ques_vocab_size = vocab_size_q + 1\n",
    "ans_vocab_size = vocab_size_a + 1\n",
    "encoder_input_length = 27\n",
    "dencoder_input_length = 27\n",
    "lstm_units = 512\n",
    "attention_units = 512\n",
    "emb_dim = 100\n",
    "\n",
    "model_attention = encoder_decoder(ques_vocab_size, \n",
    "                                  ans_vocab_size, \n",
    "                                  encoder_input_length, \n",
    "                                  dencoder_input_length,\n",
    "                                  emb_dim,\n",
    "                                  lstm_units, \n",
    "                                  attention_units)\n",
    "\n",
    "optimizer = tf.keras.optimizers.Adam()\n",
    "model_attention.compile(optimizer=optimizer, loss='sparse_categorical_crossentropy', metrics=['accuracy'])\n",
    "\n",
    "\n",
    "train_steps=train.shape[0]//128\n",
    "valid_steps=validation.shape[0]//128\n",
    "history_dot = model_attention.fit(train_dataloader, \\\n",
    "                                      steps_per_epoch=train_steps, \\\n",
    "                                      epochs=20, \\\n",
    "                                      validation_data=test_dataloader, \\\n",
    "                                      validation_steps=valid_steps,\n",
    "                                      callbacks=[checkpoint])\n"
   ]
  },
  {
   "cell_type": "code",
   "execution_count": 253,
   "id": "95bf8f69",
   "metadata": {},
   "outputs": [
    {
     "data": {
      "text/plain": [
       "<matplotlib.legend.Legend at 0x242d54021f0>"
      ]
     },
     "execution_count": 253,
     "metadata": {},
     "output_type": "execute_result"
    },
    {
     "data": {
      "image/png": "[encoded data removed]",
      "text/plain": [
       "<Figure size 432x288 with 1 Axes>"
      ]
     },
     "metadata": {
      "needs_background": "light"
     },
     "output_type": "display_data"
    }
   ],
   "source": [
    "loss = history_dot.history['loss']\n",
    "val_loss = history_dot.history['val_loss']\n",
    "epoch = 20\n",
    "plt.xlabel('epoch')\n",
    "plt.ylabel('loss/val_loss')\n",
    "plt.title('Learning')\n",
    "plt.plot(range(epoch), loss, label = \"loss\")\n",
    "plt.plot(range(epoch), val_loss, label = \"val_loss\")\n",
    "plt.legend()\n"
   ]
  },
  {
   "cell_type": "code",
   "execution_count": 254,
   "id": "b0f8f451",
   "metadata": {},
   "outputs": [
    {
     "name": "stdout",
     "output_type": "stream",
     "text": [
      "Model: \"Encoder_Decoder_Attention_model\"\n",
      "_________________________________________________________________\n",
      " Layer (type)                Output Shape              Param #   \n",
      "=================================================================\n",
      " encode_model_attention (Enc  multiple                 4215024   \n",
      " oder)                                                           \n",
      "                                                                 \n",
      " Decode_Attention (Decoder)  multiple                  20523303  \n",
      "                                                                 \n",
      "=================================================================\n",
      "Total params: 24,738,327\n",
      "Trainable params: 24,738,327\n",
      "Non-trainable params: 0\n",
      "_________________________________________________________________\n"
     ]
    }
   ],
   "source": [
    "model_attention.summary()"
   ]
  },
  {
   "cell_type": "code",
   "execution_count": 19,
   "id": "d285fef0",
   "metadata": {},
   "outputs": [],
   "source": [
    "import matplotlib.pyplot as plt\n",
    "import matplotlib.ticker as ticker\n",
    "\n",
    "def plot_attention(attention, sentence, predicted_sentence):\n",
    "    fig = plt.figure(figsize=(10,10))\n",
    "    ax = fig.add_subplot(1, 1, 1)\n",
    "    ax.matshow(attention, cmap='viridis')\n",
    "    \n",
    "    fontdict = {'fontsize': 14}\n",
    "    sentence = sentence.split(\" \")\n",
    "    predicted_sentence = predicted_sentence.split(\" \")\n",
    "    ax.xaxis.set_major_locator(ticker.MultipleLocator(1))\n",
    "    ax.yaxis.set_major_locator(ticker.MultipleLocator(1))\n",
    "    ax.set_xticklabels([''] + sentence, fontdict=fontdict, rotation=90)\n",
    "    ax.set_yticklabels([''] + predicted_sentence, fontdict=fontdict)\n",
    "\n",
    "\n",
    "\n",
    "    plt.show()"
   ]
  },
  {
   "cell_type": "code",
   "execution_count": 28,
   "id": "50905e07",
   "metadata": {},
   "outputs": [],
   "source": [
    "def predict(input_test_sentence):\n",
    "\n",
    "    '''\n",
    "    A. Given input sentence, convert the sentence into integers using tokenizer used earlier\n",
    "    B. Pass the input_sequence to encoder. we get encoder_outputs, last time step hidden and cell state\n",
    "    C. Initialize index of <start> as input to decoder. and encoder final states as input_states to onestepdecoder.\n",
    "    D. till we reach max_length of decoder or till the model predicted word <end>:\n",
    "         predictions, input_states, attention_weights = model.layers[1].onestepdecoder(input_to_decoder, encoder_output, input_states)\n",
    "         Save the attention weights\n",
    "         And get the word using the tokenizer(word index) and then store it in a string.\n",
    "    E. Call plot_attention(#params)\n",
    "    F. Return the predicted sentence\n",
    "    '''\n",
    "    ENCODER_SEQ_LEN = 27\n",
    "    DECODER_SEQ_LEN = 27 \n",
    "    nums = tknizer_q.texts_to_sequences([input_test_sentence])\n",
    "    nums_padded = pad_sequences(nums, maxlen=27, dtype='int32', padding='post')\n",
    "    encoder_output, enc_state_h, enc_state_c = model_attention.layers[0](nums_padded)\n",
    "    pred, alphas = [], []\n",
    "    cur_vec = np.ones((1, 1))*1\n",
    "    osd = model_attention.layers[1].onestepdecoder\n",
    "    for i in range(DECODER_SEQ_LEN):\n",
    "        \n",
    "        \n",
    "        output, state_h, state_c, attention_weights, context_vector = osd(cur_vec, encoder_output, enc_state_h, enc_state_c )\n",
    "        \n",
    "        enc_state_h, enc_state_c = state_h, state_c\n",
    "        alphas.append(attention_weights.numpy().flatten())\n",
    "        \n",
    " \n",
    "        cur_vec = np.reshape(np.argmax(output), (1, 1)) \n",
    "#         print(f\"at time step {i} the word is \", cur_vec)\n",
    "        \n",
    "        if a_idx_word[cur_vec[0][0]] == '<end>':\n",
    "            break\n",
    "        pred.append(cur_vec)\n",
    "        \n",
    "        \n",
    "     \n",
    "    pred_string = \"\"\n",
    "\n",
    "    pred_string = \" \".join([a_idx_word[i[0][0]] for i in pred]) + \" <end>\"\n",
    "    \n",
    "#     print(\"PREDICTED STRING:\",pred_string)\n",
    "    \n",
    "   \n",
    "    \n",
    "#     plot_attention(alphas, input_test_sentence, pred_string)\n",
    "    \n",
    "    return  input_test_sentence, pred_string"
   ]
  },
  {
   "cell_type": "code",
   "execution_count": 316,
   "id": "be7515eb",
   "metadata": {},
   "outputs": [
    {
     "name": "stdout",
     "output_type": "stream",
     "text": [
      "tf.Tensor(\n",
      "[[4.3833587e-08 1.2463202e-08 1.8376322e-01 ... 1.0806967e-08\n",
      "  1.1699211e-08 1.2061286e-08]], shape=(1, 29554), dtype=float32)\n",
      "at time step 0 the word is  [[3]]\n",
      "tf.Tensor(\n",
      "[[2.5590246e-08 8.2964409e-09 2.6101186e-03 ... 8.6477243e-09\n",
      "  8.9658876e-09 8.1512415e-09]], shape=(1, 29554), dtype=float32)\n",
      "at time step 1 the word is  [[13]]\n",
      "tf.Tensor(\n",
      "[[3.3584974e-10 4.0732671e-09 4.3675222e-04 ... 4.2360124e-09\n",
      "  4.2827257e-09 3.7426910e-09]], shape=(1, 29554), dtype=float32)\n",
      "at time step 2 the word is  [[9]]\n",
      "tf.Tensor(\n",
      "[[3.5733260e-07 4.2503455e-08 5.6771314e-06 ... 4.0967659e-08\n",
      "  4.1249145e-08 4.1009759e-08]], shape=(1, 29554), dtype=float32)\n",
      "at time step 3 the word is  [[13450]]\n",
      "tf.Tensor(\n",
      "[[1.8505514e-07 5.3202644e-08 7.4637961e-04 ... 5.9698792e-08\n",
      "  5.7581587e-08 5.6036765e-08]], shape=(1, 29554), dtype=float32)\n",
      "at time step 4 the word is  [[750]]\n",
      "tf.Tensor(\n",
      "[[4.9667236e-08 5.6355240e-09 1.4667844e-02 ... 5.3862936e-09\n",
      "  5.9934142e-09 6.0920251e-09]], shape=(1, 29554), dtype=float32)\n",
      "at time step 5 the word is  [[4417]]\n",
      "tf.Tensor(\n",
      "[[4.1801101e-03 1.3057548e-08 1.8776468e-03 ... 1.1953153e-08\n",
      "  1.3346462e-08 1.1908869e-08]], shape=(1, 29554), dtype=float32)\n",
      "at time step 6 the word is  [[196]]\n",
      "tf.Tensor(\n",
      "[[2.4018904e-05 8.7059000e-08 1.3825527e-02 ... 8.6581920e-08\n",
      "  9.2962665e-08 8.9607290e-08]], shape=(1, 29554), dtype=float32)\n",
      "at time step 7 the word is  [[14870]]\n",
      "PREDICTED STRING: you are a celebrated cop twentysix years <end>\n"
     ]
    },
    {
     "data": {
      "image/png": "[encoded data removed]",
      "text/plain": [
       "<Figure size 720x720 with 1 Axes>"
      ]
     },
     "metadata": {
      "needs_background": "light"
     },
     "output_type": "display_data"
    },
    {
     "name": "stdout",
     "output_type": "stream",
     "text": [
      "Input_sentence: you did\n",
      "English predict: you are a celebrated cop twentysix years\n",
      "English actual: spare me your classical answer measurements in  results taken  what if i did not miss\n"
     ]
    }
   ],
   "source": [
    "index = 450\n",
    "input_test_sentence = validation[\"question\"].values[index]\n",
    "actual = validation[\"answer_out\"].values[index]\n",
    "input_sentence, pred_string = predict(input_test_sentence)\n",
    "import re\n",
    "print(f\"Input_sentence: {input_sentence}\")\n",
    "print(f\"English predict: {re.sub('<end>', '', pred_string).strip()}\")\n",
    "print(f\"English actual: {re.sub('<end>', '', actual).strip()}\")"
   ]
  },
  {
   "cell_type": "markdown",
   "id": "d5a38197",
   "metadata": {},
   "source": [
    "# Output is making some sense!"
   ]
  },
  {
   "cell_type": "markdown",
   "id": "8bfd712f",
   "metadata": {},
   "source": [
    "### Let's change the hyperparameter a bit!"
   ]
  },
  {
   "cell_type": "code",
   "execution_count": 32,
   "id": "194de8f5",
   "metadata": {},
   "outputs": [
    {
     "name": "stdout",
     "output_type": "stream",
     "text": [
      "Epoch 1/10\n",
      "871/871 [==============================] - ETA: 0s - loss: 2.1666 - accuracy: 0.7080\n",
      "Epoch 1: val_loss improved from inf to 1.83630, saving model to model_save_attention_2\\weights-01-1.84\n"
     ]
    },
    {
     "name": "stderr",
     "output_type": "stream",
     "text": [
      "WARNING:absl:Found untraced functions such as lstm_cell_2_layer_call_fn, lstm_cell_2_layer_call_and_return_conditional_losses, dense_4_layer_call_fn, dense_4_layer_call_and_return_conditional_losses, dense_5_layer_call_fn while saving (showing 5 of 10). These functions will not be directly callable after loading.\n"
     ]
    },
    {
     "name": "stdout",
     "output_type": "stream",
     "text": [
      "INFO:tensorflow:Assets written to: model_save_attention_2\\weights-01-1.84\\assets\n"
     ]
    },
    {
     "name": "stderr",
     "output_type": "stream",
     "text": [
      "INFO:tensorflow:Assets written to: model_save_attention_2\\weights-01-1.84\\assets\n",
      "WARNING:absl:<keras.layers.recurrent.LSTMCell object at 0x00000247F2776370> has the same name 'LSTMCell' as a built-in Keras object. Consider renaming <class 'keras.layers.recurrent.LSTMCell'> to avoid naming conflicts when loading with `tf.keras.models.load_model`. If renaming is not possible, pass the object in the `custom_objects` parameter of the load function.\n",
      "WARNING:absl:<__main__.Attention object at 0x000002468CB80460> has the same name 'Attention' as a built-in Keras object. Consider renaming <class '__main__.Attention'> to avoid naming conflicts when loading with `tf.keras.models.load_model`. If renaming is not possible, pass the object in the `custom_objects` parameter of the load function.\n",
      "WARNING:absl:<keras.layers.recurrent.LSTMCell object at 0x00000247FEBDF1C0> has the same name 'LSTMCell' as a built-in Keras object. Consider renaming <class 'keras.layers.recurrent.LSTMCell'> to avoid naming conflicts when loading with `tf.keras.models.load_model`. If renaming is not possible, pass the object in the `custom_objects` parameter of the load function.\n"
     ]
    },
    {
     "name": "stdout",
     "output_type": "stream",
     "text": [
      "871/871 [==============================] - 387s 409ms/step - loss: 2.1666 - accuracy: 0.7080 - val_loss: 1.8363 - val_accuracy: 0.7264\n",
      "Epoch 2/10\n",
      "871/871 [==============================] - ETA: 0s - loss: 1.7279 - accuracy: 0.7357\n",
      "Epoch 2: val_loss improved from 1.83630 to 1.59923, saving model to model_save_attention_2\\weights-02-1.60\n"
     ]
    },
    {
     "name": "stderr",
     "output_type": "stream",
     "text": [
      "WARNING:absl:Found untraced functions such as lstm_cell_2_layer_call_fn, lstm_cell_2_layer_call_and_return_conditional_losses, dense_4_layer_call_fn, dense_4_layer_call_and_return_conditional_losses, dense_5_layer_call_fn while saving (showing 5 of 10). These functions will not be directly callable after loading.\n"
     ]
    },
    {
     "name": "stdout",
     "output_type": "stream",
     "text": [
      "INFO:tensorflow:Assets written to: model_save_attention_2\\weights-02-1.60\\assets\n"
     ]
    },
    {
     "name": "stderr",
     "output_type": "stream",
     "text": [
      "INFO:tensorflow:Assets written to: model_save_attention_2\\weights-02-1.60\\assets\n",
      "WARNING:absl:<keras.layers.recurrent.LSTMCell object at 0x00000247F2776370> has the same name 'LSTMCell' as a built-in Keras object. Consider renaming <class 'keras.layers.recurrent.LSTMCell'> to avoid naming conflicts when loading with `tf.keras.models.load_model`. If renaming is not possible, pass the object in the `custom_objects` parameter of the load function.\n",
      "WARNING:absl:<__main__.Attention object at 0x000002468CB80460> has the same name 'Attention' as a built-in Keras object. Consider renaming <class '__main__.Attention'> to avoid naming conflicts when loading with `tf.keras.models.load_model`. If renaming is not possible, pass the object in the `custom_objects` parameter of the load function.\n",
      "WARNING:absl:<keras.layers.recurrent.LSTMCell object at 0x00000247FEBDF1C0> has the same name 'LSTMCell' as a built-in Keras object. Consider renaming <class 'keras.layers.recurrent.LSTMCell'> to avoid naming conflicts when loading with `tf.keras.models.load_model`. If renaming is not possible, pass the object in the `custom_objects` parameter of the load function.\n"
     ]
    },
    {
     "name": "stdout",
     "output_type": "stream",
     "text": [
      "871/871 [==============================] - 348s 399ms/step - loss: 1.7279 - accuracy: 0.7357 - val_loss: 1.5992 - val_accuracy: 0.7440\n",
      "Epoch 3/10\n",
      "871/871 [==============================] - ETA: 0s - loss: 1.6027 - accuracy: 0.7440\n",
      "Epoch 3: val_loss improved from 1.59923 to 1.54597, saving model to model_save_attention_2\\weights-03-1.55\n"
     ]
    },
    {
     "name": "stderr",
     "output_type": "stream",
     "text": [
      "WARNING:absl:Found untraced functions such as lstm_cell_2_layer_call_fn, lstm_cell_2_layer_call_and_return_conditional_losses, dense_4_layer_call_fn, dense_4_layer_call_and_return_conditional_losses, dense_5_layer_call_fn while saving (showing 5 of 10). These functions will not be directly callable after loading.\n"
     ]
    },
    {
     "name": "stdout",
     "output_type": "stream",
     "text": [
      "INFO:tensorflow:Assets written to: model_save_attention_2\\weights-03-1.55\\assets\n"
     ]
    },
    {
     "name": "stderr",
     "output_type": "stream",
     "text": [
      "INFO:tensorflow:Assets written to: model_save_attention_2\\weights-03-1.55\\assets\n",
      "WARNING:absl:<keras.layers.recurrent.LSTMCell object at 0x00000247F2776370> has the same name 'LSTMCell' as a built-in Keras object. Consider renaming <class 'keras.layers.recurrent.LSTMCell'> to avoid naming conflicts when loading with `tf.keras.models.load_model`. If renaming is not possible, pass the object in the `custom_objects` parameter of the load function.\n",
      "WARNING:absl:<__main__.Attention object at 0x000002468CB80460> has the same name 'Attention' as a built-in Keras object. Consider renaming <class '__main__.Attention'> to avoid naming conflicts when loading with `tf.keras.models.load_model`. If renaming is not possible, pass the object in the `custom_objects` parameter of the load function.\n",
      "WARNING:absl:<keras.layers.recurrent.LSTMCell object at 0x00000247FEBDF1C0> has the same name 'LSTMCell' as a built-in Keras object. Consider renaming <class 'keras.layers.recurrent.LSTMCell'> to avoid naming conflicts when loading with `tf.keras.models.load_model`. If renaming is not possible, pass the object in the `custom_objects` parameter of the load function.\n"
     ]
    },
    {
     "name": "stdout",
     "output_type": "stream",
     "text": [
      "871/871 [==============================] - 351s 403ms/step - loss: 1.6027 - accuracy: 0.7440 - val_loss: 1.5460 - val_accuracy: 0.7482\n",
      "Epoch 4/10\n",
      "871/871 [==============================] - ETA: 0s - loss: 1.5396 - accuracy: 0.7476\n",
      "Epoch 4: val_loss improved from 1.54597 to 1.51970, saving model to model_save_attention_2\\weights-04-1.52\n"
     ]
    },
    {
     "name": "stderr",
     "output_type": "stream",
     "text": [
      "WARNING:absl:Found untraced functions such as lstm_cell_2_layer_call_fn, lstm_cell_2_layer_call_and_return_conditional_losses, dense_4_layer_call_fn, dense_4_layer_call_and_return_conditional_losses, dense_5_layer_call_fn while saving (showing 5 of 10). These functions will not be directly callable after loading.\n"
     ]
    },
    {
     "name": "stdout",
     "output_type": "stream",
     "text": [
      "INFO:tensorflow:Assets written to: model_save_attention_2\\weights-04-1.52\\assets\n"
     ]
    },
    {
     "name": "stderr",
     "output_type": "stream",
     "text": [
      "INFO:tensorflow:Assets written to: model_save_attention_2\\weights-04-1.52\\assets\n",
      "WARNING:absl:<keras.layers.recurrent.LSTMCell object at 0x00000247F2776370> has the same name 'LSTMCell' as a built-in Keras object. Consider renaming <class 'keras.layers.recurrent.LSTMCell'> to avoid naming conflicts when loading with `tf.keras.models.load_model`. If renaming is not possible, pass the object in the `custom_objects` parameter of the load function.\n",
      "WARNING:absl:<__main__.Attention object at 0x000002468CB80460> has the same name 'Attention' as a built-in Keras object. Consider renaming <class '__main__.Attention'> to avoid naming conflicts when loading with `tf.keras.models.load_model`. If renaming is not possible, pass the object in the `custom_objects` parameter of the load function.\n",
      "WARNING:absl:<keras.layers.recurrent.LSTMCell object at 0x00000247FEBDF1C0> has the same name 'LSTMCell' as a built-in Keras object. Consider renaming <class 'keras.layers.recurrent.LSTMCell'> to avoid naming conflicts when loading with `tf.keras.models.load_model`. If renaming is not possible, pass the object in the `custom_objects` parameter of the load function.\n"
     ]
    },
    {
     "name": "stdout",
     "output_type": "stream",
     "text": [
      "871/871 [==============================] - 350s 402ms/step - loss: 1.5396 - accuracy: 0.7476 - val_loss: 1.5197 - val_accuracy: 0.7506\n",
      "Epoch 5/10\n",
      "871/871 [==============================] - ETA: 0s - loss: 1.4921 - accuracy: 0.7503\n",
      "Epoch 5: val_loss improved from 1.51970 to 1.50271, saving model to model_save_attention_2\\weights-05-1.50\n"
     ]
    },
    {
     "name": "stderr",
     "output_type": "stream",
     "text": [
      "WARNING:absl:Found untraced functions such as lstm_cell_2_layer_call_fn, lstm_cell_2_layer_call_and_return_conditional_losses, dense_4_layer_call_fn, dense_4_layer_call_and_return_conditional_losses, dense_5_layer_call_fn while saving (showing 5 of 10). These functions will not be directly callable after loading.\n"
     ]
    },
    {
     "name": "stdout",
     "output_type": "stream",
     "text": [
      "INFO:tensorflow:Assets written to: model_save_attention_2\\weights-05-1.50\\assets\n"
     ]
    },
    {
     "name": "stderr",
     "output_type": "stream",
     "text": [
      "INFO:tensorflow:Assets written to: model_save_attention_2\\weights-05-1.50\\assets\n",
      "WARNING:absl:<keras.layers.recurrent.LSTMCell object at 0x00000247F2776370> has the same name 'LSTMCell' as a built-in Keras object. Consider renaming <class 'keras.layers.recurrent.LSTMCell'> to avoid naming conflicts when loading with `tf.keras.models.load_model`. If renaming is not possible, pass the object in the `custom_objects` parameter of the load function.\n",
      "WARNING:absl:<__main__.Attention object at 0x000002468CB80460> has the same name 'Attention' as a built-in Keras object. Consider renaming <class '__main__.Attention'> to avoid naming conflicts when loading with `tf.keras.models.load_model`. If renaming is not possible, pass the object in the `custom_objects` parameter of the load function.\n",
      "WARNING:absl:<keras.layers.recurrent.LSTMCell object at 0x00000247FEBDF1C0> has the same name 'LSTMCell' as a built-in Keras object. Consider renaming <class 'keras.layers.recurrent.LSTMCell'> to avoid naming conflicts when loading with `tf.keras.models.load_model`. If renaming is not possible, pass the object in the `custom_objects` parameter of the load function.\n"
     ]
    },
    {
     "name": "stdout",
     "output_type": "stream",
     "text": [
      "871/871 [==============================] - 354s 407ms/step - loss: 1.4921 - accuracy: 0.7503 - val_loss: 1.5027 - val_accuracy: 0.7523\n",
      "Epoch 6/10\n",
      "871/871 [==============================] - ETA: 0s - loss: 1.4507 - accuracy: 0.7523\n",
      "Epoch 6: val_loss improved from 1.50271 to 1.49320, saving model to model_save_attention_2\\weights-06-1.49\n"
     ]
    },
    {
     "name": "stderr",
     "output_type": "stream",
     "text": [
      "WARNING:absl:Found untraced functions such as lstm_cell_2_layer_call_fn, lstm_cell_2_layer_call_and_return_conditional_losses, dense_4_layer_call_fn, dense_4_layer_call_and_return_conditional_losses, dense_5_layer_call_fn while saving (showing 5 of 10). These functions will not be directly callable after loading.\n"
     ]
    },
    {
     "name": "stdout",
     "output_type": "stream",
     "text": [
      "INFO:tensorflow:Assets written to: model_save_attention_2\\weights-06-1.49\\assets\n"
     ]
    },
    {
     "name": "stderr",
     "output_type": "stream",
     "text": [
      "INFO:tensorflow:Assets written to: model_save_attention_2\\weights-06-1.49\\assets\n",
      "WARNING:absl:<keras.layers.recurrent.LSTMCell object at 0x00000247F2776370> has the same name 'LSTMCell' as a built-in Keras object. Consider renaming <class 'keras.layers.recurrent.LSTMCell'> to avoid naming conflicts when loading with `tf.keras.models.load_model`. If renaming is not possible, pass the object in the `custom_objects` parameter of the load function.\n",
      "WARNING:absl:<__main__.Attention object at 0x000002468CB80460> has the same name 'Attention' as a built-in Keras object. Consider renaming <class '__main__.Attention'> to avoid naming conflicts when loading with `tf.keras.models.load_model`. If renaming is not possible, pass the object in the `custom_objects` parameter of the load function.\n",
      "WARNING:absl:<keras.layers.recurrent.LSTMCell object at 0x00000247FEBDF1C0> has the same name 'LSTMCell' as a built-in Keras object. Consider renaming <class 'keras.layers.recurrent.LSTMCell'> to avoid naming conflicts when loading with `tf.keras.models.load_model`. If renaming is not possible, pass the object in the `custom_objects` parameter of the load function.\n"
     ]
    },
    {
     "name": "stdout",
     "output_type": "stream",
     "text": [
      "871/871 [==============================] - 355s 408ms/step - loss: 1.4507 - accuracy: 0.7523 - val_loss: 1.4932 - val_accuracy: 0.7532\n",
      "Epoch 7/10\n",
      "871/871 [==============================] - ETA: 0s - loss: 1.4120 - accuracy: 0.7543\n",
      "Epoch 7: val_loss improved from 1.49320 to 1.48987, saving model to model_save_attention_2\\weights-07-1.49\n"
     ]
    },
    {
     "name": "stderr",
     "output_type": "stream",
     "text": [
      "WARNING:absl:Found untraced functions such as lstm_cell_2_layer_call_fn, lstm_cell_2_layer_call_and_return_conditional_losses, dense_4_layer_call_fn, dense_4_layer_call_and_return_conditional_losses, dense_5_layer_call_fn while saving (showing 5 of 10). These functions will not be directly callable after loading.\n"
     ]
    },
    {
     "name": "stdout",
     "output_type": "stream",
     "text": [
      "INFO:tensorflow:Assets written to: model_save_attention_2\\weights-07-1.49\\assets\n"
     ]
    },
    {
     "name": "stderr",
     "output_type": "stream",
     "text": [
      "INFO:tensorflow:Assets written to: model_save_attention_2\\weights-07-1.49\\assets\n",
      "WARNING:absl:<keras.layers.recurrent.LSTMCell object at 0x00000247F2776370> has the same name 'LSTMCell' as a built-in Keras object. Consider renaming <class 'keras.layers.recurrent.LSTMCell'> to avoid naming conflicts when loading with `tf.keras.models.load_model`. If renaming is not possible, pass the object in the `custom_objects` parameter of the load function.\n",
      "WARNING:absl:<__main__.Attention object at 0x000002468CB80460> has the same name 'Attention' as a built-in Keras object. Consider renaming <class '__main__.Attention'> to avoid naming conflicts when loading with `tf.keras.models.load_model`. If renaming is not possible, pass the object in the `custom_objects` parameter of the load function.\n",
      "WARNING:absl:<keras.layers.recurrent.LSTMCell object at 0x00000247FEBDF1C0> has the same name 'LSTMCell' as a built-in Keras object. Consider renaming <class 'keras.layers.recurrent.LSTMCell'> to avoid naming conflicts when loading with `tf.keras.models.load_model`. If renaming is not possible, pass the object in the `custom_objects` parameter of the load function.\n"
     ]
    },
    {
     "name": "stdout",
     "output_type": "stream",
     "text": [
      "871/871 [==============================] - 354s 407ms/step - loss: 1.4120 - accuracy: 0.7543 - val_loss: 1.4899 - val_accuracy: 0.7540\n",
      "Epoch 8/10\n",
      "871/871 [==============================] - ETA: 0s - loss: 1.3746 - accuracy: 0.7560\n",
      "Epoch 8: val_loss improved from 1.48987 to 1.48837, saving model to model_save_attention_2\\weights-08-1.49\n"
     ]
    },
    {
     "name": "stderr",
     "output_type": "stream",
     "text": [
      "WARNING:absl:Found untraced functions such as lstm_cell_2_layer_call_fn, lstm_cell_2_layer_call_and_return_conditional_losses, dense_4_layer_call_fn, dense_4_layer_call_and_return_conditional_losses, dense_5_layer_call_fn while saving (showing 5 of 10). These functions will not be directly callable after loading.\n"
     ]
    },
    {
     "name": "stdout",
     "output_type": "stream",
     "text": [
      "INFO:tensorflow:Assets written to: model_save_attention_2\\weights-08-1.49\\assets\n"
     ]
    },
    {
     "name": "stderr",
     "output_type": "stream",
     "text": [
      "INFO:tensorflow:Assets written to: model_save_attention_2\\weights-08-1.49\\assets\n",
      "WARNING:absl:<keras.layers.recurrent.LSTMCell object at 0x00000247F2776370> has the same name 'LSTMCell' as a built-in Keras object. Consider renaming <class 'keras.layers.recurrent.LSTMCell'> to avoid naming conflicts when loading with `tf.keras.models.load_model`. If renaming is not possible, pass the object in the `custom_objects` parameter of the load function.\n",
      "WARNING:absl:<__main__.Attention object at 0x000002468CB80460> has the same name 'Attention' as a built-in Keras object. Consider renaming <class '__main__.Attention'> to avoid naming conflicts when loading with `tf.keras.models.load_model`. If renaming is not possible, pass the object in the `custom_objects` parameter of the load function.\n",
      "WARNING:absl:<keras.layers.recurrent.LSTMCell object at 0x00000247FEBDF1C0> has the same name 'LSTMCell' as a built-in Keras object. Consider renaming <class 'keras.layers.recurrent.LSTMCell'> to avoid naming conflicts when loading with `tf.keras.models.load_model`. If renaming is not possible, pass the object in the `custom_objects` parameter of the load function.\n"
     ]
    },
    {
     "name": "stdout",
     "output_type": "stream",
     "text": [
      "871/871 [==============================] - 358s 411ms/step - loss: 1.3746 - accuracy: 0.7560 - val_loss: 1.4884 - val_accuracy: 0.7547\n",
      "Epoch 9/10\n",
      "871/871 [==============================] - ETA: 0s - loss: 1.3379 - accuracy: 0.7578\n",
      "Epoch 9: val_loss did not improve from 1.48837\n",
      "871/871 [==============================] - 308s 354ms/step - loss: 1.3379 - accuracy: 0.7578 - val_loss: 1.4911 - val_accuracy: 0.7549\n",
      "Epoch 10/10\n",
      "871/871 [==============================] - ETA: 0s - loss: 1.3018 - accuracy: 0.7601\n",
      "Epoch 10: val_loss did not improve from 1.48837\n",
      "871/871 [==============================] - 309s 355ms/step - loss: 1.3018 - accuracy: 0.7601 - val_loss: 1.4951 - val_accuracy: 0.7553\n"
     ]
    }
   ],
   "source": [
    "ques_vocab_size = vocab_size_q + 1\n",
    "ans_vocab_size = vocab_size_a + 1\n",
    "encoder_input_length = 27\n",
    "dencoder_input_length = 27\n",
    "lstm_units = 512\n",
    "attention_units = 512\n",
    "emb_dim = 50\n",
    "\n",
    "model_attention = encoder_decoder(ques_vocab_size, \n",
    "                                  ans_vocab_size, \n",
    "                                  encoder_input_length, \n",
    "                                  dencoder_input_length,\n",
    "                                  emb_dim,\n",
    "                                  lstm_units, \n",
    "                                  attention_units)\n",
    "\n",
    "optimizer = tf.keras.optimizers.Adam()\n",
    "model_attention_2.compile(optimizer=optimizer, loss='sparse_categorical_crossentropy', metrics=['accuracy'])\n",
    "\n",
    "\n",
    "train_steps=train.shape[0]//128\n",
    "valid_steps=validation.shape[0]//128\n",
    "history_dot = model_attention_2.fit(train_dataloader, \\\n",
    "                                      steps_per_epoch=train_steps, \\\n",
    "                                      epochs=10, \\\n",
    "                                      validation_data=test_dataloader, \\\n",
    "                                      validation_steps=valid_steps,\n",
    "                                      callbacks=[checkpoint])\n"
   ]
  },
  {
   "cell_type": "code",
   "execution_count": 79,
   "id": "f3ef86bb",
   "metadata": {},
   "outputs": [
    {
     "name": "stdout",
     "output_type": "stream",
     "text": [
      "Model: \"Encoder_Decoder_Attention_model\"\n",
      "_________________________________________________________________\n",
      " Layer (type)                Output Shape              Param #   \n",
      "=================================================================\n",
      " encode_model_attention (Enc  multiple                 2631674   \n",
      " oder)                                                           \n",
      "                                                                 \n",
      " Decode_Attention (Decoder)  multiple                  18958404  \n",
      "                                                                 \n",
      "=================================================================\n",
      "Total params: 21,590,078\n",
      "Trainable params: 21,590,078\n",
      "Non-trainable params: 0\n",
      "_________________________________________________________________\n"
     ]
    }
   ],
   "source": [
    "model_attention_2.summary()"
   ]
  },
  {
   "cell_type": "markdown",
   "id": "030c318d",
   "metadata": {},
   "source": [
    "## Not better than previous"
   ]
  },
  {
   "cell_type": "code",
   "execution_count": 53,
   "id": "823a41b1",
   "metadata": {},
   "outputs": [
    {
     "name": "stdout",
     "output_type": "stream",
     "text": [
      "at time step 0 the word is  [[3]]\n",
      "at time step 1 the word is  [[13]]\n",
      "at time step 2 the word is  [[5]]\n",
      "at time step 3 the word is  [[66]]\n",
      "at time step 4 the word is  [[7]]\n",
      "at time step 5 the word is  [[30]]\n",
      "at time step 6 the word is  [[9]]\n",
      "at time step 7 the word is  [[114]]\n",
      "at time step 8 the word is  [[14920]]\n",
      "PREDICTED STRING: you are not going to be a little <end>\n"
     ]
    },
    {
     "data": {
      "image/png": "[encoded data removed]",
      "text/plain": [
       "<Figure size 720x720 with 1 Axes>"
      ]
     },
     "metadata": {
      "needs_background": "light"
     },
     "output_type": "display_data"
    },
    {
     "name": "stdout",
     "output_type": "stream",
     "text": [
      "Input_sentence: in a magazine you come across a fullpage photo of a nude girl\n",
      "English predict: you are not going to be a little\n",
      "English actual: is this testing whether i am an android or a lesbian\n"
     ]
    }
   ],
   "source": [
    "model_attention = model_attention_2\n",
    "index = 13223\n",
    "\n",
    "input_test_sentence = validation[\"question\"].values[index]\n",
    "actual = validation[\"answer_out\"].values[index]\n",
    "input_sentence, pred_string = predict_concat(input_test_sentence)\n",
    "import re\n",
    "print(f\"Input_sentence: {input_sentence}\")\n",
    "print(f\"English predict: {re.sub('<end>', '', pred_string).strip()}\")\n",
    "print(f\"English actual: {re.sub('<end>', '', actual).strip()}\")"
   ]
  },
  {
   "cell_type": "markdown",
   "id": "ae0a7e9e",
   "metadata": {},
   "source": [
    "## Increasing LSTM units, let's check!!"
   ]
  },
  {
   "cell_type": "code",
   "execution_count": 16,
   "id": "f1caeee1",
   "metadata": {},
   "outputs": [
    {
     "name": "stdout",
     "output_type": "stream",
     "text": [
      "Epoch 1/10\n",
      "871/871 [==============================] - ETA: 0s - loss: 2.1007 - accuracy: 0.7122\n",
      "Epoch 1: val_loss improved from inf to 1.65801, saving model to model_save_attention_4\\weights-01-1.66\n"
     ]
    },
    {
     "name": "stderr",
     "output_type": "stream",
     "text": [
      "WARNING:absl:Found untraced functions such as lstm_cell_2_layer_call_fn, lstm_cell_2_layer_call_and_return_conditional_losses, dense_4_layer_call_fn, dense_4_layer_call_and_return_conditional_losses, dense_5_layer_call_fn while saving (showing 5 of 10). These functions will not be directly callable after loading.\n"
     ]
    },
    {
     "name": "stdout",
     "output_type": "stream",
     "text": [
      "INFO:tensorflow:Assets written to: model_save_attention_4\\weights-01-1.66\\assets\n"
     ]
    },
    {
     "name": "stderr",
     "output_type": "stream",
     "text": [
      "INFO:tensorflow:Assets written to: model_save_attention_4\\weights-01-1.66\\assets\n",
      "WARNING:absl:<keras.layers.recurrent.LSTMCell object at 0x0000026BF02ED7C0> has the same name 'LSTMCell' as a built-in Keras object. Consider renaming <class 'keras.layers.recurrent.LSTMCell'> to avoid naming conflicts when loading with `tf.keras.models.load_model`. If renaming is not possible, pass the object in the `custom_objects` parameter of the load function.\n",
      "WARNING:absl:<__main__.Attention object at 0x0000026BF02F0A90> has the same name 'Attention' as a built-in Keras object. Consider renaming <class '__main__.Attention'> to avoid naming conflicts when loading with `tf.keras.models.load_model`. If renaming is not possible, pass the object in the `custom_objects` parameter of the load function.\n",
      "WARNING:absl:<keras.layers.recurrent.LSTMCell object at 0x0000026BFC29E1F0> has the same name 'LSTMCell' as a built-in Keras object. Consider renaming <class 'keras.layers.recurrent.LSTMCell'> to avoid naming conflicts when loading with `tf.keras.models.load_model`. If renaming is not possible, pass the object in the `custom_objects` parameter of the load function.\n"
     ]
    },
    {
     "name": "stdout",
     "output_type": "stream",
     "text": [
      "871/871 [==============================] - 433s 461ms/step - loss: 2.1007 - accuracy: 0.7122 - val_loss: 1.6580 - val_accuracy: 0.7418\n",
      "Epoch 2/10\n",
      "871/871 [==============================] - ETA: 0s - loss: 1.6539 - accuracy: 0.7410\n",
      "Epoch 2: val_loss improved from 1.65801 to 1.53975, saving model to model_save_attention_4\\weights-02-1.54\n"
     ]
    },
    {
     "name": "stderr",
     "output_type": "stream",
     "text": [
      "WARNING:absl:Found untraced functions such as lstm_cell_2_layer_call_fn, lstm_cell_2_layer_call_and_return_conditional_losses, dense_4_layer_call_fn, dense_4_layer_call_and_return_conditional_losses, dense_5_layer_call_fn while saving (showing 5 of 10). These functions will not be directly callable after loading.\n"
     ]
    },
    {
     "name": "stdout",
     "output_type": "stream",
     "text": [
      "INFO:tensorflow:Assets written to: model_save_attention_4\\weights-02-1.54\\assets\n"
     ]
    },
    {
     "name": "stderr",
     "output_type": "stream",
     "text": [
      "INFO:tensorflow:Assets written to: model_save_attention_4\\weights-02-1.54\\assets\n",
      "WARNING:absl:<keras.layers.recurrent.LSTMCell object at 0x0000026BF02ED7C0> has the same name 'LSTMCell' as a built-in Keras object. Consider renaming <class 'keras.layers.recurrent.LSTMCell'> to avoid naming conflicts when loading with `tf.keras.models.load_model`. If renaming is not possible, pass the object in the `custom_objects` parameter of the load function.\n",
      "WARNING:absl:<__main__.Attention object at 0x0000026BF02F0A90> has the same name 'Attention' as a built-in Keras object. Consider renaming <class '__main__.Attention'> to avoid naming conflicts when loading with `tf.keras.models.load_model`. If renaming is not possible, pass the object in the `custom_objects` parameter of the load function.\n",
      "WARNING:absl:<keras.layers.recurrent.LSTMCell object at 0x0000026BFC29E1F0> has the same name 'LSTMCell' as a built-in Keras object. Consider renaming <class 'keras.layers.recurrent.LSTMCell'> to avoid naming conflicts when loading with `tf.keras.models.load_model`. If renaming is not possible, pass the object in the `custom_objects` parameter of the load function.\n"
     ]
    },
    {
     "name": "stdout",
     "output_type": "stream",
     "text": [
      "871/871 [==============================] - 391s 449ms/step - loss: 1.6539 - accuracy: 0.7410 - val_loss: 1.5398 - val_accuracy: 0.7500\n",
      "Epoch 3/10\n",
      "871/871 [==============================] - ETA: 0s - loss: 1.5523 - accuracy: 0.7468\n",
      "Epoch 3: val_loss improved from 1.53975 to 1.49921, saving model to model_save_attention_4\\weights-03-1.50\n"
     ]
    },
    {
     "name": "stderr",
     "output_type": "stream",
     "text": [
      "WARNING:absl:Found untraced functions such as lstm_cell_2_layer_call_fn, lstm_cell_2_layer_call_and_return_conditional_losses, dense_4_layer_call_fn, dense_4_layer_call_and_return_conditional_losses, dense_5_layer_call_fn while saving (showing 5 of 10). These functions will not be directly callable after loading.\n"
     ]
    },
    {
     "name": "stdout",
     "output_type": "stream",
     "text": [
      "INFO:tensorflow:Assets written to: model_save_attention_4\\weights-03-1.50\\assets\n"
     ]
    },
    {
     "name": "stderr",
     "output_type": "stream",
     "text": [
      "INFO:tensorflow:Assets written to: model_save_attention_4\\weights-03-1.50\\assets\n",
      "WARNING:absl:<keras.layers.recurrent.LSTMCell object at 0x0000026BF02ED7C0> has the same name 'LSTMCell' as a built-in Keras object. Consider renaming <class 'keras.layers.recurrent.LSTMCell'> to avoid naming conflicts when loading with `tf.keras.models.load_model`. If renaming is not possible, pass the object in the `custom_objects` parameter of the load function.\n",
      "WARNING:absl:<__main__.Attention object at 0x0000026BF02F0A90> has the same name 'Attention' as a built-in Keras object. Consider renaming <class '__main__.Attention'> to avoid naming conflicts when loading with `tf.keras.models.load_model`. If renaming is not possible, pass the object in the `custom_objects` parameter of the load function.\n",
      "WARNING:absl:<keras.layers.recurrent.LSTMCell object at 0x0000026BFC29E1F0> has the same name 'LSTMCell' as a built-in Keras object. Consider renaming <class 'keras.layers.recurrent.LSTMCell'> to avoid naming conflicts when loading with `tf.keras.models.load_model`. If renaming is not possible, pass the object in the `custom_objects` parameter of the load function.\n"
     ]
    },
    {
     "name": "stdout",
     "output_type": "stream",
     "text": [
      "871/871 [==============================] - 388s 445ms/step - loss: 1.5523 - accuracy: 0.7468 - val_loss: 1.4992 - val_accuracy: 0.7534\n",
      "Epoch 4/10\n",
      "871/871 [==============================] - ETA: 0s - loss: 1.4888 - accuracy: 0.7502\n",
      "Epoch 4: val_loss improved from 1.49921 to 1.47838, saving model to model_save_attention_4\\weights-04-1.48\n"
     ]
    },
    {
     "name": "stderr",
     "output_type": "stream",
     "text": [
      "WARNING:absl:Found untraced functions such as lstm_cell_2_layer_call_fn, lstm_cell_2_layer_call_and_return_conditional_losses, dense_4_layer_call_fn, dense_4_layer_call_and_return_conditional_losses, dense_5_layer_call_fn while saving (showing 5 of 10). These functions will not be directly callable after loading.\n"
     ]
    },
    {
     "name": "stdout",
     "output_type": "stream",
     "text": [
      "INFO:tensorflow:Assets written to: model_save_attention_4\\weights-04-1.48\\assets\n"
     ]
    },
    {
     "name": "stderr",
     "output_type": "stream",
     "text": [
      "INFO:tensorflow:Assets written to: model_save_attention_4\\weights-04-1.48\\assets\n",
      "WARNING:absl:<keras.layers.recurrent.LSTMCell object at 0x0000026BF02ED7C0> has the same name 'LSTMCell' as a built-in Keras object. Consider renaming <class 'keras.layers.recurrent.LSTMCell'> to avoid naming conflicts when loading with `tf.keras.models.load_model`. If renaming is not possible, pass the object in the `custom_objects` parameter of the load function.\n",
      "WARNING:absl:<__main__.Attention object at 0x0000026BF02F0A90> has the same name 'Attention' as a built-in Keras object. Consider renaming <class '__main__.Attention'> to avoid naming conflicts when loading with `tf.keras.models.load_model`. If renaming is not possible, pass the object in the `custom_objects` parameter of the load function.\n",
      "WARNING:absl:<keras.layers.recurrent.LSTMCell object at 0x0000026BFC29E1F0> has the same name 'LSTMCell' as a built-in Keras object. Consider renaming <class 'keras.layers.recurrent.LSTMCell'> to avoid naming conflicts when loading with `tf.keras.models.load_model`. If renaming is not possible, pass the object in the `custom_objects` parameter of the load function.\n"
     ]
    },
    {
     "name": "stdout",
     "output_type": "stream",
     "text": [
      "871/871 [==============================] - 390s 448ms/step - loss: 1.4888 - accuracy: 0.7502 - val_loss: 1.4784 - val_accuracy: 0.7551\n",
      "Epoch 5/10\n",
      "871/871 [==============================] - ETA: 0s - loss: 1.4346 - accuracy: 0.7531\n",
      "Epoch 5: val_loss improved from 1.47838 to 1.46729, saving model to model_save_attention_4\\weights-05-1.47\n"
     ]
    },
    {
     "name": "stderr",
     "output_type": "stream",
     "text": [
      "WARNING:absl:Found untraced functions such as lstm_cell_2_layer_call_fn, lstm_cell_2_layer_call_and_return_conditional_losses, dense_4_layer_call_fn, dense_4_layer_call_and_return_conditional_losses, dense_5_layer_call_fn while saving (showing 5 of 10). These functions will not be directly callable after loading.\n"
     ]
    },
    {
     "name": "stdout",
     "output_type": "stream",
     "text": [
      "INFO:tensorflow:Assets written to: model_save_attention_4\\weights-05-1.47\\assets\n"
     ]
    },
    {
     "name": "stderr",
     "output_type": "stream",
     "text": [
      "INFO:tensorflow:Assets written to: model_save_attention_4\\weights-05-1.47\\assets\n",
      "WARNING:absl:<keras.layers.recurrent.LSTMCell object at 0x0000026BF02ED7C0> has the same name 'LSTMCell' as a built-in Keras object. Consider renaming <class 'keras.layers.recurrent.LSTMCell'> to avoid naming conflicts when loading with `tf.keras.models.load_model`. If renaming is not possible, pass the object in the `custom_objects` parameter of the load function.\n",
      "WARNING:absl:<__main__.Attention object at 0x0000026BF02F0A90> has the same name 'Attention' as a built-in Keras object. Consider renaming <class '__main__.Attention'> to avoid naming conflicts when loading with `tf.keras.models.load_model`. If renaming is not possible, pass the object in the `custom_objects` parameter of the load function.\n",
      "WARNING:absl:<keras.layers.recurrent.LSTMCell object at 0x0000026BFC29E1F0> has the same name 'LSTMCell' as a built-in Keras object. Consider renaming <class 'keras.layers.recurrent.LSTMCell'> to avoid naming conflicts when loading with `tf.keras.models.load_model`. If renaming is not possible, pass the object in the `custom_objects` parameter of the load function.\n"
     ]
    },
    {
     "name": "stdout",
     "output_type": "stream",
     "text": [
      "871/871 [==============================] - 392s 450ms/step - loss: 1.4346 - accuracy: 0.7531 - val_loss: 1.4673 - val_accuracy: 0.7563\n",
      "Epoch 6/10\n",
      "871/871 [==============================] - ETA: 0s - loss: 1.3834 - accuracy: 0.7557\n",
      "Epoch 6: val_loss improved from 1.46729 to 1.46192, saving model to model_save_attention_4\\weights-06-1.46\n"
     ]
    },
    {
     "name": "stderr",
     "output_type": "stream",
     "text": [
      "WARNING:absl:Found untraced functions such as lstm_cell_2_layer_call_fn, lstm_cell_2_layer_call_and_return_conditional_losses, dense_4_layer_call_fn, dense_4_layer_call_and_return_conditional_losses, dense_5_layer_call_fn while saving (showing 5 of 10). These functions will not be directly callable after loading.\n"
     ]
    },
    {
     "name": "stdout",
     "output_type": "stream",
     "text": [
      "INFO:tensorflow:Assets written to: model_save_attention_4\\weights-06-1.46\\assets\n"
     ]
    },
    {
     "name": "stderr",
     "output_type": "stream",
     "text": [
      "INFO:tensorflow:Assets written to: model_save_attention_4\\weights-06-1.46\\assets\n",
      "WARNING:absl:<keras.layers.recurrent.LSTMCell object at 0x0000026BF02ED7C0> has the same name 'LSTMCell' as a built-in Keras object. Consider renaming <class 'keras.layers.recurrent.LSTMCell'> to avoid naming conflicts when loading with `tf.keras.models.load_model`. If renaming is not possible, pass the object in the `custom_objects` parameter of the load function.\n",
      "WARNING:absl:<__main__.Attention object at 0x0000026BF02F0A90> has the same name 'Attention' as a built-in Keras object. Consider renaming <class '__main__.Attention'> to avoid naming conflicts when loading with `tf.keras.models.load_model`. If renaming is not possible, pass the object in the `custom_objects` parameter of the load function.\n",
      "WARNING:absl:<keras.layers.recurrent.LSTMCell object at 0x0000026BFC29E1F0> has the same name 'LSTMCell' as a built-in Keras object. Consider renaming <class 'keras.layers.recurrent.LSTMCell'> to avoid naming conflicts when loading with `tf.keras.models.load_model`. If renaming is not possible, pass the object in the `custom_objects` parameter of the load function.\n"
     ]
    },
    {
     "name": "stdout",
     "output_type": "stream",
     "text": [
      "871/871 [==============================] - 392s 450ms/step - loss: 1.3834 - accuracy: 0.7557 - val_loss: 1.4619 - val_accuracy: 0.7577\n",
      "Epoch 7/10\n",
      "871/871 [==============================] - ETA: 0s - loss: 1.3338 - accuracy: 0.7582\n",
      "Epoch 7: val_loss did not improve from 1.46192\n",
      "871/871 [==============================] - 346s 397ms/step - loss: 1.3338 - accuracy: 0.7582 - val_loss: 1.4629 - val_accuracy: 0.7581\n",
      "Epoch 8/10\n",
      "871/871 [==============================] - ETA: 0s - loss: 1.2854 - accuracy: 0.7614\n",
      "Epoch 8: val_loss did not improve from 1.46192\n",
      "871/871 [==============================] - 344s 395ms/step - loss: 1.2854 - accuracy: 0.7614 - val_loss: 1.4676 - val_accuracy: 0.7584\n",
      "Epoch 9/10\n",
      "871/871 [==============================] - ETA: 0s - loss: 1.2380 - accuracy: 0.7654\n",
      "Epoch 9: val_loss did not improve from 1.46192\n",
      "871/871 [==============================] - 343s 394ms/step - loss: 1.2380 - accuracy: 0.7654 - val_loss: 1.4747 - val_accuracy: 0.7576\n",
      "Epoch 10/10\n",
      "871/871 [==============================] - ETA: 0s - loss: 1.1930 - accuracy: 0.7700\n",
      "Epoch 10: val_loss did not improve from 1.46192\n",
      "871/871 [==============================] - 345s 396ms/step - loss: 1.1930 - accuracy: 0.7700 - val_loss: 1.4830 - val_accuracy: 0.7582\n"
     ]
    }
   ],
   "source": [
    "ques_vocab_size = vocab_size_q + 1\n",
    "ans_vocab_size = vocab_size_a + 1\n",
    "encoder_input_length = 27\n",
    "dencoder_input_length = 27\n",
    "lstm_units = 576\n",
    "attention_units = 576\n",
    "emb_dim = 100\n",
    "\n",
    "model_attention_3 = encoder_decoder(ques_vocab_size, \n",
    "                                  ans_vocab_size, \n",
    "                                  encoder_input_length, \n",
    "                                  dencoder_input_length,\n",
    "                                  emb_dim,\n",
    "                                  lstm_units, \n",
    "                                  attention_units)\n",
    "\n",
    "optimizer = tf.keras.optimizers.Adam()\n",
    "model_attention_3.compile(optimizer=optimizer, loss='sparse_categorical_crossentropy', metrics=['accuracy'])\n",
    "\n",
    "\n",
    "train_steps=train.shape[0]//128\n",
    "valid_steps=validation.shape[0]//128\n",
    "history_3 = model_attention_3.fit(train_dataloader, \\\n",
    "                                      steps_per_epoch=train_steps, \\\n",
    "                                      epochs=10, \\\n",
    "                                      validation_data=test_dataloader, \\\n",
    "                                      validation_steps=valid_steps,\n",
    "                                      callbacks=[checkpoint])\n"
   ]
  },
  {
   "cell_type": "code",
   "execution_count": 17,
   "id": "361dd15a",
   "metadata": {},
   "outputs": [
    {
     "name": "stdout",
     "output_type": "stream",
     "text": [
      "Model: \"Encoder_Decoder_Attention_model\"\n",
      "_________________________________________________________________\n",
      " Layer (type)                Output Shape              Param #   \n",
      "=================================================================\n",
      " encode_model_attention (Enc  multiple                 4530308   \n",
      " oder)                                                           \n",
      "                                                                 \n",
      " Decode_Attention (Decoder)  multiple                  23038905  \n",
      "                                                                 \n",
      "=================================================================\n",
      "Total params: 27,569,213\n",
      "Trainable params: 27,569,213\n",
      "Non-trainable params: 0\n",
      "_________________________________________________________________\n"
     ]
    }
   ],
   "source": [
    "model_attention_3.summary()"
   ]
  },
  {
   "cell_type": "code",
   "execution_count": 23,
   "id": "a289aa25",
   "metadata": {},
   "outputs": [
    {
     "name": "stdout",
     "output_type": "stream",
     "text": [
      "tf.Tensor(\n",
      "[[1.1316193e-06 1.4866842e-08 2.1746123e-01 ... 1.3772574e-08\n",
      "  1.4987359e-08 1.4865537e-08]], shape=(1, 29596), dtype=float32)\n",
      "at time step 0 the word is  [[2]]\n",
      "tf.Tensor(\n",
      "[[1.9283561e-07 1.0089468e-08 5.5138487e-03 ... 9.8793098e-09\n",
      "  8.7075085e-09 1.0267940e-08]], shape=(1, 29596), dtype=float32)\n",
      "at time step 1 the word is  [[17]]\n",
      "tf.Tensor(\n",
      "[[6.6598068e-07 2.2859084e-08 6.3425386e-03 ... 2.1812706e-08\n",
      "  2.3563262e-08 2.2755900e-08]], shape=(1, 29596), dtype=float32)\n",
      "at time step 2 the word is  [[117]]\n",
      "tf.Tensor(\n",
      "[[2.2744962e-05 7.3077930e-09 1.3706234e-01 ... 5.9652661e-09\n",
      "  8.4261034e-09 7.9559452e-09]], shape=(1, 29596), dtype=float32)\n",
      "at time step 3 the word is  [[14863]]\n",
      "PREDICTED STRING: i am sorry <end>\n"
     ]
    },
    {
     "data": {
      "image/png": "[encoded data removed]",
      "text/plain": [
       "<Figure size 720x720 with 1 Axes>"
      ]
     },
     "metadata": {
      "needs_background": "light"
     },
     "output_type": "display_data"
    },
    {
     "name": "stdout",
     "output_type": "stream",
     "text": [
      "Input_sentence: sit down jake\n",
      "English predict: i am sorry\n",
      "English actual: where are they\n"
     ]
    }
   ],
   "source": [
    "model_attention = model_attention_3\n",
    "index = 12000\n",
    "\n",
    "input_test_sentence = validation[\"question\"].values[index]\n",
    "actual = validation[\"answer_out\"].values[index]\n",
    "input_sentence, pred_string = predict(input_test_sentence)\n",
    "import re\n",
    "print(f\"Input_sentence: {input_sentence}\")\n",
    "print(f\"English predict: {re.sub('<end>', '', pred_string).strip()}\")\n",
    "print(f\"English actual: {re.sub('<end>', '', actual).strip()}\")"
   ]
  },
  {
   "cell_type": "code",
   "execution_count": 26,
   "id": "1c2841a6",
   "metadata": {},
   "outputs": [],
   "source": [
    "# model_attention_3.save('model_attention_3',save_format='tf')\n",
    "# model_attention_concat.save('model_attention_concat',save_format='tf')\n",
    "# model_attention_dot.save('model_attention_dot',save_format='tf')\n",
    "# loaded_model = tf.keras.models.load_model('model_attention_3')"
   ]
  },
  {
   "cell_type": "code",
   "execution_count": 32,
   "id": "e65dbe7c",
   "metadata": {},
   "outputs": [
    {
     "name": "stdout",
     "output_type": "stream",
     "text": [
      "Input_sentence: ma i am gonna stay home and watch jackie gleason\n",
      "English predict: i am sorry i am not\n",
      "English actual: you gonna die without a son\n",
      "================================================================================\n",
      "Input_sentence: this looks like a job for superman \n",
      "English predict: what is it\n",
      "English actual: or batman\n",
      "================================================================================\n",
      "Input_sentence: thanks good night mrs mitchell\n",
      "English predict: i am not going to have a baby\n",
      "English actual: good night john\n",
      "================================================================================\n",
      "Input_sentence: the only answer i have for you\n",
      "English predict: i am not going to hurt you\n",
      "English actual: you passed up a dozen chances to arrest her  what toughened you up\n",
      "================================================================================\n",
      "Input_sentence: lyssa \n",
      "English predict: and i am a little sensitivity\n",
      "English actual: come quickly colwyn i can see the eyes of the beast\n",
      "================================================================================\n",
      "Input_sentence: you must think i am a monster\n",
      "English predict: i am not\n",
      "English actual: no but what a pity life is like that\n",
      "================================================================================\n",
      "Input_sentence: turkey mostly\n",
      "English predict: yes yes yes\n",
      "English actual: turkey is are real smart smarter than most people think\n",
      "================================================================================\n",
      "Input_sentence: it certainly could use a pair of shears and a blue pencil\n",
      "English predict: what is it\n",
      "English actual: i will not have it butchered\n",
      "================================================================================\n",
      "Input_sentence:  you know me\n",
      "English predict: i am not\n",
      "English actual: is this a test sir\n",
      "================================================================================\n",
      "Input_sentence: how can you do it to yourself\n",
      "English predict: i am fine\n",
      "English actual: i do not get you\n",
      "================================================================================\n"
     ]
    }
   ],
   "source": [
    "index = 12000\n",
    "model_attention = model_attention_3\n",
    "for index in range(10):\n",
    "    input_test_sentence = train[\"question\"].values[index]\n",
    "    actual = train[\"answer_out\"].values[index]\n",
    "    input_sentence, pred_string = predict(input_test_sentence)\n",
    "    import re\n",
    "    print(f\"Input_sentence: {input_sentence}\")\n",
    "    print(f\"English predict: {re.sub('<end>', '', pred_string).strip()}\")\n",
    "    print(f\"English actual: {re.sub('<end>', '', actual).strip()}\")\n",
    "    print(\"=\"*80)"
   ]
  },
  {
   "cell_type": "code",
   "execution_count": 31,
   "id": "0d9228ec",
   "metadata": {},
   "outputs": [
    {
     "name": "stdout",
     "output_type": "stream",
     "text": [
      "Input_sentence: you are lucky she could not come anyway \n",
      "English predict: i am not\n",
      "English actual: well i am glad you did not thank you\n",
      "================================================================================\n",
      "Input_sentence: i think i have no money\n",
      "English predict: you are not going to be a cop\n",
      "English actual: it is okay  forget it\n",
      "================================================================================\n",
      "Input_sentence: enjoy your last night  where is otis\n",
      "English predict: you are a liar\n",
      "English actual: oh he is coming he got something real special this year\n",
      "================================================================================\n",
      "Input_sentence: what do you want\n",
      "English predict: i am not going to tell you what i am talking about\n",
      "English actual: nothing\n",
      "================================================================================\n",
      "Input_sentence: what is it\n",
      "English predict: i am sorry\n",
      "English actual: i have to pee\n",
      "================================================================================\n",
      "Input_sentence: how you doing man\n",
      "English predict: i am fine\n",
      "English actual: not bad not bad\n",
      "================================================================================\n",
      "Input_sentence: sure why\n",
      "English predict: i am sorry\n",
      "English actual: i am going to the store\n",
      "================================================================================\n",
      "Input_sentence: i hope i am not being crossexamined here\n",
      "English predict: i am sorry i am not\n",
      "English actual: do you feel that way\n",
      "================================================================================\n",
      "Input_sentence: if you push him into something if you ride him\n",
      "English predict: i do not know\n",
      "English actual: you are wrong sean i am where i am today because i was pushed and because i learned to push myself\n",
      "================================================================================\n",
      "Input_sentence: near his right hand about a foot away perhaps more good heavens one does not use a tape measure\n",
      "English predict: yeah i am a little clerk\n",
      "English actual: we do when we get the chance\n",
      "================================================================================\n"
     ]
    }
   ],
   "source": [
    "\n",
    "model_attention = model_attention_3\n",
    "for index in range(10):\n",
    "    input_test_sentence = validation[\"question\"].values[index]\n",
    "    actual = validation[\"answer_out\"].values[index]\n",
    "    input_sentence, pred_string = predict(input_test_sentence)\n",
    "    import re\n",
    "    print(f\"Input_sentence: {input_sentence}\")\n",
    "    print(f\"English predict: {re.sub('<end>', '', pred_string).strip()}\")\n",
    "    print(f\"English actual: {re.sub('<end>', '', actual).strip()}\")\n",
    "    print(\"=\"*80)"
   ]
  },
  {
   "cell_type": "markdown",
   "id": "5b9c9f09",
   "metadata": {},
   "source": [
    "# On random inputs, Sometimes giving Gibberish replies"
   ]
  },
  {
   "cell_type": "code",
   "execution_count": 39,
   "id": "a6dcfff9",
   "metadata": {},
   "outputs": [
    {
     "name": "stdout",
     "output_type": "stream",
     "text": [
      "Input_sentence: hi\n",
      "English predict: what is it\n",
      "================================================================================\n",
      "Input_sentence: where have you been\n",
      "English predict: i am not sure i am sorry i am sorry i am sorry\n",
      "================================================================================\n",
      "Input_sentence: who are you\n",
      "English predict: i am not sure\n",
      "================================================================================\n",
      "Input_sentence: where do you live\n",
      "English predict: i am not sure i am sorry i am not sure i am sorry\n",
      "================================================================================\n",
      "Input_sentence: why are you angry with me did i do anything wrong\n",
      "English predict: i am not sure i am not\n",
      "================================================================================\n"
     ]
    }
   ],
   "source": [
    "model_attention = model_attention_3\n",
    "input_test_sentence = \"hi\"\n",
    "input_sentence, pred_string = predict(input_test_sentence)\n",
    "import re\n",
    "print(f\"Input_sentence: {input_sentence}\")\n",
    "print(f\"English predict: {re.sub('<end>', '', pred_string).strip()}\") \n",
    "print(\"=\"*80)\n",
    "\n",
    "input_test_sentence = \"where have you been\"\n",
    "input_sentence, pred_string = predict(input_test_sentence)\n",
    "import re\n",
    "print(f\"Input_sentence: {input_sentence}\")\n",
    "print(f\"English predict: {re.sub('<end>', '', pred_string).strip()}\") \n",
    "print(\"=\"*80)\n",
    "\n",
    "input_test_sentence = \"who are you\"\n",
    "input_sentence, pred_string = predict(input_test_sentence)\n",
    "import re\n",
    "print(f\"Input_sentence: {input_sentence}\")\n",
    "print(f\"English predict: {re.sub('<end>', '', pred_string).strip()}\") \n",
    "print(\"=\"*80)\n",
    "\n",
    "input_test_sentence = \"where do you live\"\n",
    "input_sentence, pred_string = predict(input_test_sentence)\n",
    "import re\n",
    "print(f\"Input_sentence: {input_sentence}\")\n",
    "print(f\"English predict: {re.sub('<end>', '', pred_string).strip()}\") \n",
    "print(\"=\"*80)\n",
    "\n",
    "input_test_sentence = \"why are you angry with me did i do anything wrong\"\n",
    "input_sentence, pred_string = predict(input_test_sentence)\n",
    "import re\n",
    "print(f\"Input_sentence: {input_sentence}\")\n",
    "print(f\"English predict: {re.sub('<end>', '', pred_string).strip()}\") \n",
    "print(\"=\"*80)"
   ]
  },
  {
   "cell_type": "code",
   "execution_count": null,
   "id": "ea3fab21",
   "metadata": {},
   "outputs": [],
   "source": [
    "#         ques_vocab_size = vocab_size_q + 1 #29704\n",
    "#         ans_vocab_size = vocab_size_a + 1 #29595\n",
    "#         encoder_input_length = 27\n",
    "#         dencoder_input_length = 27\n",
    "#         lstm_units = 576\n",
    "#         attention_units = 576\n",
    "#         embedding_dim = 100"
   ]
  }
 ],
 "metadata": {
  "kernelspec": {
   "display_name": "Python 3 (ipykernel)",
   "language": "python",
   "name": "python3"
  },
  "language_info": {
   "codemirror_mode": {
    "name": "ipython",
    "version": 3
   },
   "file_extension": ".py",
   "mimetype": "text/x-python",
   "name": "python",
   "nbconvert_exporter": "python",
   "pygments_lexer": "ipython3",
   "version": "3.9.7"
  }
 },
 "nbformat": 4,
 "nbformat_minor": 5
}
