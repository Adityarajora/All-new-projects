{
 "cells": [
  {
   "cell_type": "markdown",
   "id": "be97fb43",
   "metadata": {},
   "source": [
    "# After EDA , Applying Various Machine Learning Algorithms"
   ]
  },
  {
   "cell_type": "markdown",
   "id": "49b8183e",
   "metadata": {},
   "source": [
    "### No feature engineering\n",
    "### Applying Min-Max normalization\n",
    "\n",
    "*For all the models*"
   ]
  },
  {
   "cell_type": "markdown",
   "id": "47ed480f",
   "metadata": {},
   "source": [
    "In This notebook, I've tried\n",
    "* Logistic Regression\n",
    "* Decision trees(basic and normalized)\n",
    "* Random forest(basic and normalized)\n",
    "* Light Gradient boosting machine(basic and normalized)\n",
    "* Multi layered perceptron\n",
    "\n",
    "Out of all **Light Gradient boosting machine** performed Phenomenal on Kaggle Data, and put me on top 10% at Kaggle Leaderboard\n"
   ]
  },
  {
   "cell_type": "code",
   "execution_count": 1,
   "id": "4110d776",
   "metadata": {},
   "outputs": [],
   "source": [
    "import numpy as np\n",
    "import pandas as pd\n",
    "import matplotlib.pyplot as plt\n",
    "from sklearn.pipeline import Pipeline\n",
    "from sklearn.impute import SimpleImputer\n",
    "from sklearn.compose import ColumnTransformer\n",
    "from sklearn.preprocessing import OneHotEncoder, StandardScaler\n",
    "from sklearn.model_selection import train_test_split\n",
    "from sklearn.linear_model import LogisticRegression\n",
    "from sklearn.metrics import log_loss\n",
    "from sklearn.metrics import confusion_matrix\n",
    "from sklearn.tree import DecisionTreeClassifier\n",
    "from sklearn.ensemble import RandomForestClassifier\n",
    "from sklearn.model_selection import GridSearchCV, train_test_split, RandomizedSearchCV\n",
    "from sklearn.preprocessing import MinMaxScaler\n",
    "import lightgbm as lgbm\n",
    "import joblib\n",
    "import os\n",
    "import seaborn as sns\n",
    "import matplotlib.pyplot as plt\n",
    "import neurokit2 as nk\n",
    "from biosppy.signals import  ecg\n",
    "import matplotlib as mpl\n",
    "mpl.rcParams['agg.path.chunksize'] = 10000\n",
    "import warnings\n",
    "warnings.filterwarnings(\"ignore\")"
   ]
  },
  {
   "cell_type": "code",
   "execution_count": 3,
   "id": "59040b4d",
   "metadata": {},
   "outputs": [],
   "source": [
    "raw = pd.read_csv(\"train.csv\")"
   ]
  },
  {
   "cell_type": "code",
   "execution_count": 3,
   "id": "2ce21277",
   "metadata": {},
   "outputs": [
    {
     "name": "stdout",
     "output_type": "stream",
     "text": [
      "X.shape:(4867421, 24)\n",
      "Y.shape:(4867421,)\n"
     ]
    }
   ],
   "source": [
    "Y = raw['event']\n",
    "raw_del = raw.drop(['crew', 'experiment', 'seat', 'event'], axis=1 )\n",
    "X = raw_del\n",
    "print(f\"X.shape:{X.shape}\")\n",
    "print(f\"Y.shape:{Y.shape}\")\n"
   ]
  },
  {
   "cell_type": "code",
   "execution_count": null,
   "id": "3aff7952",
   "metadata": {},
   "outputs": [],
   "source": [
    "X.head(2)"
   ]
  },
  {
   "cell_type": "code",
   "execution_count": 5,
   "id": "19c34c19",
   "metadata": {},
   "outputs": [
    {
     "data": {
      "text/plain": [
       "0    A\n",
       "1    A\n",
       "Name: event, dtype: object"
      ]
     },
     "execution_count": 5,
     "metadata": {},
     "output_type": "execute_result"
    }
   ],
   "source": [
    "Y.head(2)"
   ]
  },
  {
   "cell_type": "code",
   "execution_count": 6,
   "id": "9750b4f3",
   "metadata": {},
   "outputs": [
    {
     "name": "stdout",
     "output_type": "stream",
     "text": [
      "X_train.shape:(3893936, 24)\n",
      "y_train.shape:(3893936,)\n",
      "X_test.shape:(973485, 24)\n",
      "y_test.shape:(973485,)\n"
     ]
    }
   ],
   "source": [
    "X_train, X_test, y_train, y_test = train_test_split(X,Y, stratify=Y, test_size=.2)\n",
    "print(f\"X_train.shape:{X_train.shape}\")\n",
    "print(f\"y_train.shape:{y_train.shape}\")\n",
    "print(f\"X_test.shape:{X_test.shape}\")\n",
    "print(f\"y_test.shape:{y_test.shape}\")"
   ]
  },
  {
   "cell_type": "code",
   "execution_count": null,
   "id": "25a457c2",
   "metadata": {},
   "outputs": [],
   "source": [
    "features = X_train.columns"
   ]
  },
  {
   "cell_type": "code",
   "execution_count": null,
   "id": "140f7faa",
   "metadata": {},
   "outputs": [],
   "source": [
    "scaler = MinMaxScaler()\n",
    "scaler.fit(X_train)\n",
    "\n",
    "X_train_norm = scaler.transform(X_train)\n",
    "X_test_norm = scaler.transform(X_test)"
   ]
  },
  {
   "cell_type": "markdown",
   "id": "47823e90",
   "metadata": {},
   "source": [
    "### Before getting started with Training Let's get the Results from RANDOM model, comparison between RANDOM and trained model will get better understanding on whether the training is really causing any impact or not."
   ]
  },
  {
   "cell_type": "code",
   "execution_count": 34,
   "id": "8e825147",
   "metadata": {},
   "outputs": [],
   "source": [
    "d = {'A': 0, 'B': 1, 'C': 2, 'D': 3}\n",
    "y_train_ = np.array(list(map(lambda x: d[x], y_train)))\n",
    "y_test_ =  np.array(list(map(lambda x: d[x], y_test)))"
   ]
  },
  {
   "cell_type": "code",
   "execution_count": 39,
   "id": "f61508d0",
   "metadata": {},
   "outputs": [
    {
     "name": "stdout",
     "output_type": "stream",
     "text": [
      "Log loss on TRAIN Data using Random Model 1.6444425154133833\n",
      "Log loss on TEST Data using Random Model 1.64606303273689\n"
     ]
    }
   ],
   "source": [
    "train_len = X_train.shape[0]\n",
    "test_len = X_test.shape[0]\n",
    " \n",
    "train_predicted_y = np.zeros((train_len,4))\n",
    "for i in range(train_len):\n",
    "    rand_probs = np.random.rand(1,4)\n",
    "    train_predicted_y[i] = ((rand_probs/sum(sum(rand_probs)))[0])\n",
    "print(\"Log loss on TRAIN Data using Random Model\",log_loss(y_train,train_predicted_y, eps=1e-15))\n",
    "\n",
    " \n",
    "test_predicted_y = np.zeros((test_len,4))\n",
    "for i in range(test_len):\n",
    "    rand_probs = np.random.rand(1,4)\n",
    "    test_predicted_y[i] = ((rand_probs/sum(sum(rand_probs)))[0])\n",
    "print(\"Log loss on TEST Data using Random Model\",log_loss(y_test,test_predicted_y, eps=1e-15))\n"
   ]
  },
  {
   "cell_type": "code",
   "execution_count": 37,
   "id": "32c3e2c9",
   "metadata": {},
   "outputs": [],
   "source": []
  },
  {
   "cell_type": "markdown",
   "id": "b7636c56",
   "metadata": {},
   "source": [
    "### Train Confusion matrix on RANDOM MODEL"
   ]
  },
  {
   "cell_type": "code",
   "execution_count": 35,
   "id": "f87dc086",
   "metadata": {},
   "outputs": [
    {
     "name": "stdout",
     "output_type": "stream",
     "text": [
      "Normalized confusion matrix\n",
      "[[0.58611374 0.026852   0.33888336 0.0481509 ]\n",
      " [0.58511872 0.02673072 0.33964394 0.04850662]\n",
      " [0.58437483 0.0269621  0.34042396 0.04823911]\n",
      " [0.58551838 0.02677882 0.33920833 0.04849446]]\n"
     ]
    },
    {
     "data": {
      "image/png": "[encoded data removed]",
      "text/plain": [
       "<Figure size 432x288 with 2 Axes>"
      ]
     },
     "metadata": {
      "needs_background": "light"
     },
     "output_type": "display_data"
    }
   ],
   "source": [
    "conf_mat_val = confusion_matrix(np.argmax(train_predicted_y, axis=1), y_train_)\n",
    "plot_confusion_matrix(conf_mat_val, [\"A\", \"B\", \"C\", \"D\"], title='Confusion matrix on Validation data', normalize=True)"
   ]
  },
  {
   "cell_type": "markdown",
   "id": "e04d7585",
   "metadata": {},
   "source": [
    "### Test Confusion matrix on RANDOM MODEL"
   ]
  },
  {
   "cell_type": "code",
   "execution_count": 36,
   "id": "e9304fab",
   "metadata": {},
   "outputs": [
    {
     "name": "stdout",
     "output_type": "stream",
     "text": [
      "Normalized confusion matrix\n",
      "[[0.58418243 0.02681675 0.34091124 0.04808959]\n",
      " [0.58467298 0.02649058 0.340256   0.04858044]\n",
      " [0.58531266 0.02705411 0.33978848 0.04784475]\n",
      " [0.58696127 0.02696077 0.33719919 0.04887876]]\n"
     ]
    },
    {
     "data": {
      "image/png": "[encoded data removed]",
      "text/plain": [
       "<Figure size 432x288 with 2 Axes>"
      ]
     },
     "metadata": {
      "needs_background": "light"
     },
     "output_type": "display_data"
    }
   ],
   "source": [
    "conf_mat_val = confusion_matrix(np.argmax(test_predicted_y, axis=1), y_test_)\n",
    "plot_confusion_matrix(conf_mat_val, [\"A\", \"B\", \"C\", \"D\"], title='Confusion matrix on Validation data', normalize=True)"
   ]
  },
  {
   "cell_type": "markdown",
   "id": "09bac7af",
   "metadata": {},
   "source": [
    "Log loss on TRAIN Data using Random Model **1.6444425154133833** \n",
    "\n",
    "Log loss on TEST Data using Random Model **1.64606303273689**"
   ]
  },
  {
   "cell_type": "code",
   "execution_count": 11,
   "id": "b7ab33b6",
   "metadata": {},
   "outputs": [],
   "source": [
    "\n"
   ]
  },
  {
   "cell_type": "markdown",
   "id": "d8d012db",
   "metadata": {},
   "source": [
    "# Logistic Regression"
   ]
  },
  {
   "cell_type": "code",
   "execution_count": null,
   "id": "b4c042b3",
   "metadata": {},
   "outputs": [],
   "source": [
    "\n",
    "LoR_rs = LogisticRegression()\n",
    "params = {\"C\":[0.01, 0.001, 1, 0.1, 10]}\n",
    "    \n",
    "rs = RandomizedSearchCV(LoR_rs, params, cv=3, return_train_score=True, n_jobs=-1)\n",
    "rs.fit(X_train_norm, y_train)\n"
   ]
  },
  {
   "cell_type": "code",
   "execution_count": 12,
   "id": "8576b868",
   "metadata": {},
   "outputs": [
    {
     "data": {
      "text/plain": [
       "{'C': 10}"
      ]
     },
     "execution_count": 12,
     "metadata": {},
     "output_type": "execute_result"
    }
   ],
   "source": [
    "rs.best_params_"
   ]
  },
  {
   "cell_type": "code",
   "execution_count": 7,
   "id": "3330f4d3",
   "metadata": {},
   "outputs": [
    {
     "data": {
      "text/plain": [
       "LogisticRegression(C=10)"
      ]
     },
     "execution_count": 7,
     "metadata": {},
     "output_type": "execute_result"
    }
   ],
   "source": [
    "LoR = LogisticRegression(C=10)\n",
    "LoR.fit(X_train_norm, y_train)"
   ]
  },
  {
   "cell_type": "code",
   "execution_count": 8,
   "id": "2b547ec8",
   "metadata": {},
   "outputs": [
    {
     "data": {
      "text/plain": [
       "array(['A', 'B', 'C', 'D'], dtype=object)"
      ]
     },
     "execution_count": 8,
     "metadata": {},
     "output_type": "execute_result"
    }
   ],
   "source": [
    "LoR.classes_"
   ]
  },
  {
   "cell_type": "code",
   "execution_count": 9,
   "id": "fc9e1d36",
   "metadata": {
    "scrolled": false
   },
   "outputs": [
    {
     "data": {
      "image/png": "[encoded data removed]",
      "text/plain": [
       "<Figure size 1080x2520 with 4 Axes>"
      ]
     },
     "metadata": {
      "needs_background": "light"
     },
     "output_type": "display_data"
    }
   ],
   "source": [
    "lor_cls = LoR.classes_\n",
    "plt.figure(figsize=(15,35))\n",
    "for i in range(len(lor_cls)):\n",
    "    \n",
    "    importances = np.array(list(map(lambda x: abs(x), LoR.coef_[i])))\n",
    "    indices = (np.argsort(importances))\n",
    "    ax = plt.subplot(4,1,i+1)\n",
    "    ax.set_title('Feature Importances')\n",
    "    ax.title.set_text(f\"FI for Class:{LoR.classes_[i]}\")\n",
    "    ax.set_xlabel('Relative Importance')\n",
    "    \n",
    "    plt.yticks(range(len(indices)), [features[i] for i in indices])\n",
    "    plt.barh(range(len(indices)), importances[indices], color='r', align='center')\n",
    " \n",
    "   "
   ]
  },
  {
   "cell_type": "code",
   "execution_count": 83,
   "id": "74b23e54",
   "metadata": {},
   "outputs": [],
   "source": [
    "d = {\n",
    "    0:'A',\n",
    "    1:'B',\n",
    "    2:'C',\n",
    "    3:'D'\n",
    "    }\n",
    "d_ = {\n",
    "    'A':0,\n",
    "    'B':1,\n",
    "    'C':2,\n",
    "    'D':3\n",
    "    }\n",
    "    \n",
    "    "
   ]
  },
  {
   "cell_type": "code",
   "execution_count": 10,
   "id": "56aa3099",
   "metadata": {},
   "outputs": [],
   "source": [
    "y_train_pred = LoR.predict_proba(X_train_norm)\n",
    "y_test_pred = LoR.predict_proba(X_test_norm)"
   ]
  },
  {
   "cell_type": "code",
   "execution_count": 91,
   "id": "9f1d247d",
   "metadata": {},
   "outputs": [],
   "source": [
    "y_tr_pred =  np.argmax((y_train_pred), axis=-1)\n",
    "y_te_pred =  np.argmax((y_test_pred), axis=-1)"
   ]
  },
  {
   "cell_type": "code",
   "execution_count": 11,
   "id": "aff47cac",
   "metadata": {},
   "outputs": [
    {
     "name": "stdout",
     "output_type": "stream",
     "text": [
      "Train log_loss:0.9152154639270628\n",
      "Test log_loss:0.9152124679601766\n"
     ]
    }
   ],
   "source": [
    "print(f\"Train log_loss:{log_loss(y_train, y_train_pred)}\")\n",
    "print(f\"Test log_loss:{log_loss(y_test, y_test_pred)}\")"
   ]
  },
  {
   "cell_type": "code",
   "execution_count": 96,
   "id": "18aba288",
   "metadata": {},
   "outputs": [
    {
     "data": {
      "text/plain": [
       "['Logistic_Regression_no_fe.pkl']"
      ]
     },
     "execution_count": 96,
     "metadata": {},
     "output_type": "execute_result"
    }
   ],
   "source": [
    "import joblib\n",
    "joblib.dump(LoR,'Logistic_Regression_no_fe.pkl')"
   ]
  },
  {
   "cell_type": "markdown",
   "id": "686ba0ef",
   "metadata": {},
   "source": [
    "### Clearly can see Logistic Regression performed Badly on the dataset"
   ]
  },
  {
   "cell_type": "code",
   "execution_count": null,
   "id": "d73e7ba0",
   "metadata": {},
   "outputs": [],
   "source": []
  },
  {
   "cell_type": "code",
   "execution_count": 12,
   "id": "843902ee",
   "metadata": {},
   "outputs": [],
   "source": []
  },
  {
   "cell_type": "code",
   "execution_count": null,
   "id": "ed119939",
   "metadata": {},
   "outputs": [],
   "source": []
  },
  {
   "cell_type": "markdown",
   "id": "33a3db18",
   "metadata": {},
   "source": [
    "# Random Forest"
   ]
  },
  {
   "cell_type": "markdown",
   "id": "8fcbf31a",
   "metadata": {},
   "source": [
    "### Random Search"
   ]
  },
  {
   "cell_type": "code",
   "execution_count": 9,
   "id": "b8382a56",
   "metadata": {},
   "outputs": [
    {
     "name": "stdout",
     "output_type": "stream",
     "text": [
      "Fitting 2 folds for each of 6 candidates, totalling 12 fits\n"
     ]
    },
    {
     "data": {
      "text/plain": [
       "RandomizedSearchCV(cv=2, estimator=RandomForestClassifier(), n_jobs=-1,\n",
       "                   param_distributions={'max_depth': [100, 200],\n",
       "                                        'n_estimators': [5, 10, 20]},\n",
       "                   return_train_score=True, verbose=200)"
      ]
     },
     "execution_count": 9,
     "metadata": {},
     "output_type": "execute_result"
    }
   ],
   "source": [
    "RF_rs = RandomForestClassifier()\n",
    "\n",
    "params = {\"n_estimators\":[5, 10, 20],\n",
    "\"max_depth\" : [100, 200],}\n",
    "    \n",
    "rs = RandomizedSearchCV(RF_rs, params, cv=2, return_train_score=True, n_jobs=-1, verbose=200)\n",
    "rs.fit(X_train_norm, y_train)\n"
   ]
  },
  {
   "cell_type": "code",
   "execution_count": 11,
   "id": "e20f1412",
   "metadata": {},
   "outputs": [
    {
     "data": {
      "text/plain": [
       "{'n_estimators': 20, 'max_depth': 200}"
      ]
     },
     "execution_count": 11,
     "metadata": {},
     "output_type": "execute_result"
    }
   ],
   "source": [
    "rs.best_params_"
   ]
  },
  {
   "cell_type": "markdown",
   "id": "83aafd31",
   "metadata": {},
   "source": [
    "### Best Parameters\n",
    "### {'n_estimators': 20, 'max_depth': 200}"
   ]
  },
  {
   "cell_type": "code",
   "execution_count": 12,
   "id": "82a77bbf",
   "metadata": {},
   "outputs": [
    {
     "data": {
      "text/plain": [
       "RandomForestClassifier(max_depth=200, n_estimators=20)"
      ]
     },
     "execution_count": 12,
     "metadata": {},
     "output_type": "execute_result"
    }
   ],
   "source": [
    "RF = RandomForestClassifier(n_estimators = 20, max_depth = 200)\n",
    "RF.fit(X_train_norm, y_train)"
   ]
  },
  {
   "cell_type": "markdown",
   "id": "5b93925c",
   "metadata": {},
   "source": [
    "### Feature Importance"
   ]
  },
  {
   "cell_type": "code",
   "execution_count": 15,
   "id": "d61f0c64",
   "metadata": {},
   "outputs": [
    {
     "data": {
      "image/png": "[encoded data removed]",
      "text/plain": [
       "<Figure size 1440x864 with 1 Axes>"
      ]
     },
     "metadata": {
      "needs_background": "light"
     },
     "output_type": "display_data"
    }
   ],
   "source": [
    "importances = RF.feature_importances_\n",
    "indices = (np.argsort(importances))[:]\n",
    "plt.figure(figsize=(20,12))\n",
    "plt.title('Feature Importances')\n",
    "plt.barh(range(len(indices)), importances[indices], color='r', align='center')\n",
    "plt.yticks(range(len(indices)), [features[i] for i in indices])\n",
    "plt.xlabel('Relative Importance')\n",
    "plt.show()\n",
    "   "
   ]
  },
  {
   "cell_type": "code",
   "execution_count": 16,
   "id": "62273376",
   "metadata": {},
   "outputs": [],
   "source": [
    "y_train_pred = RF.predict_proba(X_train_norm)\n",
    "y_test_pred = RF.predict_proba(X_test_norm)"
   ]
  },
  {
   "cell_type": "code",
   "execution_count": 17,
   "id": "ff864202",
   "metadata": {},
   "outputs": [
    {
     "name": "stdout",
     "output_type": "stream",
     "text": [
      "Train log_loss:0.02411434956523283\n",
      "Test log_loss:0.07210270077912996\n"
     ]
    }
   ],
   "source": [
    "print(f\"Train log_loss:{log_loss(y_train, y_train_pred)}\")\n",
    "print(f\"Test log_loss:{log_loss(y_test, y_test_pred)}\")"
   ]
  },
  {
   "cell_type": "markdown",
   "id": "035ed452",
   "metadata": {},
   "source": [
    "### Log Loss is better now"
   ]
  },
  {
   "cell_type": "code",
   "execution_count": 18,
   "id": "43a540bd",
   "metadata": {},
   "outputs": [
    {
     "data": {
      "text/plain": [
       "['Random_forest_no_fe.pkl']"
      ]
     },
     "execution_count": 18,
     "metadata": {},
     "output_type": "execute_result"
    }
   ],
   "source": [
    "# import joblib\n",
    "# joblib.dump(RF,'Random_forest_no_fe.pkl')\n",
    "# X_train_norm = joblib.load(\"X_train_norm\")\n",
    "# X_test_norm = joblib.load(\"X_test_norm\")\n",
    "# y_train = joblib.load(\"y_train\")\n",
    "# y_test = joblib.load(\"y_Test\")\n",
    "# RF = joblib.load('Random_forest_no_fe.pkl')"
   ]
  },
  {
   "cell_type": "code",
   "execution_count": null,
   "id": "4cb6a1fe",
   "metadata": {},
   "outputs": [],
   "source": []
  },
  {
   "cell_type": "markdown",
   "id": "3e6c05e6",
   "metadata": {},
   "source": [
    "# Decision Tree"
   ]
  },
  {
   "cell_type": "code",
   "execution_count": 23,
   "id": "552cc693",
   "metadata": {},
   "outputs": [
    {
     "name": "stdout",
     "output_type": "stream",
     "text": [
      "Fitting 2 folds for each of 10 candidates, totalling 20 fits\n"
     ]
    },
    {
     "data": {
      "text/plain": [
       "RandomizedSearchCV(cv=2, estimator=DecisionTreeClassifier(), n_jobs=-1,\n",
       "                   param_distributions={'max_depth': [200, 300],\n",
       "                                        'min_samples_leaf': [10, 20, 50],\n",
       "                                        'min_samples_split': [10, 50, 100]},\n",
       "                   verbose=200)"
      ]
     },
     "execution_count": 23,
     "metadata": {},
     "output_type": "execute_result"
    }
   ],
   "source": [
    "from sklearn.tree import DecisionTreeClassifier\n",
    "from sklearn.model_selection import RandomizedSearchCV \n",
    "params = {\"max_depth\" : [200,300], \n",
    "              \"min_samples_split\": [10, 50, 100],\n",
    "          \"min_samples_leaf\": [10, 20, 50]\n",
    "              } \n",
    "DT_rs = DecisionTreeClassifier()\n",
    "rs = RandomizedSearchCV(DT_rs,params,cv=2,verbose=200, n_jobs=-1)\n",
    "rs.fit(X_train_norm, y_train)"
   ]
  },
  {
   "cell_type": "code",
   "execution_count": 1,
   "id": "dc786c67",
   "metadata": {},
   "outputs": [
    {
     "data": {
      "text/plain": [
       "{'n_estimators': 200, 'min_samples_split': 50, 'min_samples_leaf': 50}"
      ]
     },
     "execution_count": 1,
     "metadata": {},
     "output_type": "execute_result"
    }
   ],
   "source": [
    "DT_rs.best_params_ "
   ]
  },
  {
   "cell_type": "code",
   "execution_count": null,
   "id": "9984148a",
   "metadata": {},
   "outputs": [],
   "source": [
    "DT = DecisionTreeClassifier(max_depth= 200, min_samples_split= 50, min_samples_leaf= 50, random_state=40)\n",
    "DT.fit(X_train_norm, y_train)"
   ]
  },
  {
   "cell_type": "code",
   "execution_count": 2,
   "id": "f59beb65",
   "metadata": {},
   "outputs": [],
   "source": [
    "# joblib.dump(DT, \"Decision_tree_no_fe.pkl\")\n",
    "# DT = joblib.load(\"Decision_tree_no_fe.pkl\")"
   ]
  },
  {
   "cell_type": "code",
   "execution_count": 13,
   "id": "9580628b",
   "metadata": {},
   "outputs": [
    {
     "data": {
      "image/png": "[encoded data removed]",
      "text/plain": [
       "<Figure size 1440x864 with 1 Axes>"
      ]
     },
     "metadata": {
      "needs_background": "light"
     },
     "output_type": "display_data"
    }
   ],
   "source": [
    "importances = DT.feature_importances_\n",
    "indices = (np.argsort(importances))[:]\n",
    "plt.figure(figsize=(20,12))\n",
    "plt.title('Feature Importances')\n",
    "plt.barh(range(len(indices)), importances[indices], color='r', align='center')\n",
    "plt.yticks(range(len(indices)), [features[i] for i in indices])\n",
    "plt.xlabel('Relative Importance')\n",
    "plt.show()"
   ]
  },
  {
   "cell_type": "code",
   "execution_count": 3,
   "id": "decf0232",
   "metadata": {},
   "outputs": [],
   "source": [
    "# X_train_norm = joblib.load(\"X_train_norm\")\n",
    "# X_test_norm = joblib.load(\"X_test_norm\")\n",
    "# y_train = joblib.load(\"y_train\")\n",
    "# y_test = joblib.load(\"y_Test\")\n",
    "# # joblib.dump(scaler, \"scaler\")"
   ]
  },
  {
   "cell_type": "code",
   "execution_count": 4,
   "id": "22d92542",
   "metadata": {},
   "outputs": [],
   "source": [
    "y_train_pred = DT.predict_proba(X_train_norm)\n",
    "y_test_pred = DT.predict_proba(X_test_norm)"
   ]
  },
  {
   "cell_type": "code",
   "execution_count": 5,
   "id": "b222669b",
   "metadata": {},
   "outputs": [
    {
     "name": "stdout",
     "output_type": "stream",
     "text": [
      "Train log_loss:0.010608129320006533\n",
      "Test log_loss:0.011524040127252399\n"
     ]
    }
   ],
   "source": [
    "print(f\"Train log_loss:{log_loss(y_train, y_train_pred)}\")\n",
    "print(f\"Test log_loss:{log_loss(y_test, y_test_pred)}\")"
   ]
  },
  {
   "cell_type": "markdown",
   "id": "bafae13b",
   "metadata": {},
   "source": [
    "### Log Loss is better than Random Forest, But on unseen Kaggle test Data it performed really poor"
   ]
  },
  {
   "cell_type": "markdown",
   "id": "7024abd0",
   "metadata": {},
   "source": [
    "![title](DT_score.png)"
   ]
  },
  {
   "cell_type": "markdown",
   "id": "242d2d5d",
   "metadata": {},
   "source": [
    "# Light GBM"
   ]
  },
  {
   "cell_type": "markdown",
   "id": "6c5b3980",
   "metadata": {},
   "source": [
    "#### Random Search for hyperparameters"
   ]
  },
  {
   "cell_type": "code",
   "execution_count": 17,
   "id": "e2062d07",
   "metadata": {},
   "outputs": [
    {
     "name": "stdout",
     "output_type": "stream",
     "text": [
      "Fitting 2 folds for each of 10 candidates, totalling 20 fits\n"
     ]
    },
    {
     "data": {
      "text/plain": [
       "RandomizedSearchCV(cv=2, estimator=LGBMClassifier(), n_jobs=-1,\n",
       "                   param_distributions={'max_depth': [20, 50, 100],\n",
       "                                        'n_estimators': [30, 50, 70],\n",
       "                                        'num_leaves': [20, 50, 70]},\n",
       "                   verbose=200)"
      ]
     },
     "execution_count": 17,
     "metadata": {},
     "output_type": "execute_result"
    }
   ],
   "source": [
    "\n",
    "params = {\"max_depth\" : [20, 50, 100], \n",
    "              \"num_leaves\": [20, 50, 70],\n",
    "          \"n_estimators\": [30, 50, 70]\n",
    "              } \n",
    "LGBM_rs = lgbm.LGBMClassifier()\n",
    "rs = RandomizedSearchCV(LGBM_rs, params, cv=2, verbose=200, n_jobs=-1)\n",
    "rs.fit(X_train_norm, y_train)\n"
   ]
  },
  {
   "cell_type": "code",
   "execution_count": 21,
   "id": "ed4b6cd8",
   "metadata": {},
   "outputs": [
    {
     "name": "stdout",
     "output_type": "stream",
     "text": [
      "Tuned Decision Tree Parameters: {'num_leaves': 70, 'n_estimators': 70, 'max_depth': 100}\n",
      "Best score is 0.9912766927859112\n"
     ]
    }
   ],
   "source": [
    "print(\"Tuned Decision Tree Parameters: {}\".format(rs.best_params_)) \n",
    "print(\"Best score is {}\".format(rs.best_score_)) "
   ]
  },
  {
   "cell_type": "markdown",
   "id": "e2c45d0d",
   "metadata": {},
   "source": [
    "### Tuned Decision Tree Parameters: {'num_leaves': 70, 'n_estimators': 70, 'max_depth': 100}\n",
    "### Best score is 0.9912766927859112"
   ]
  },
  {
   "cell_type": "code",
   "execution_count": 22,
   "id": "7ec0fb16",
   "metadata": {},
   "outputs": [
    {
     "data": {
      "text/plain": [
       "LGBMClassifier(max_depth=100, n_estimators=70, num_leaves=70)"
      ]
     },
     "execution_count": 22,
     "metadata": {},
     "output_type": "execute_result"
    }
   ],
   "source": [
    "LGBM = lgbm.LGBMClassifier(num_leaves = 70, n_estimators = 70, max_depth = 100)\n",
    "LGBM.fit(X_train_norm, y_train)"
   ]
  },
  {
   "cell_type": "code",
   "execution_count": null,
   "id": "812e99d0",
   "metadata": {},
   "outputs": [],
   "source": [
    "features = ['crew', 'eeg_fp1', 'eeg_f7', 'eeg_f8',\n",
    "       'eeg_t6', 'eeg_t3', 'eeg_fp2', 'eeg_o1','eeg_c3',\n",
    "       'eeg_pz', 'eeg_f3', 'eeg_fz', 'eeg_ f4', 'eeg_c4', 'eeg_poz',\n",
    "       'eeg_cz', 'eeg_o2', 'ecg', 'r', 'gsr','pilot']"
   ]
  },
  {
   "cell_type": "code",
   "execution_count": 23,
   "id": "b21d4221",
   "metadata": {},
   "outputs": [
    {
     "data": {
      "image/png": "[encoded data removed]",
      "text/plain": [
       "<Figure size 1440x864 with 1 Axes>"
      ]
     },
     "metadata": {
      "needs_background": "light"
     },
     "output_type": "display_data"
    }
   ],
   "source": [
    "importances = LGBM.feature_importances_\n",
    "indices = (np.argsort(importances))[:]\n",
    "plt.figure(figsize=(20,12))\n",
    "plt.title('Feature Importances')\n",
    "plt.barh(range(len(indices)), importances[indices], color='r', align='center')\n",
    "plt.yticks(range(len(indices)), [features[i] for i in indices])\n",
    "plt.xlabel('Relative Importance')\n",
    "plt.show()"
   ]
  },
  {
   "cell_type": "code",
   "execution_count": 28,
   "id": "caa32149",
   "metadata": {},
   "outputs": [],
   "source": [
    "y_train_pred = LGBM.predict_proba(X_train_norm)\n",
    "y_test_pred = LGBM.predict_proba(X_test_norm)"
   ]
  },
  {
   "cell_type": "code",
   "execution_count": 29,
   "id": "0c555057",
   "metadata": {},
   "outputs": [
    {
     "name": "stdout",
     "output_type": "stream",
     "text": [
      "Train log_loss:0.04256896540791801\n",
      "Test log_loss:0.04247729919623576\n"
     ]
    }
   ],
   "source": [
    "print(f\"Train log_loss:{log_loss(y_train, y_train_pred)}\")\n",
    "print(f\"Test log_loss:{log_loss(y_test, y_test_pred)}\")"
   ]
  },
  {
   "cell_type": "markdown",
   "id": "3952799b",
   "metadata": {},
   "source": [
    "#### Log Loss is good, But on Kaggle test data it's not very great!"
   ]
  },
  {
   "cell_type": "markdown",
   "id": "15a799a2",
   "metadata": {},
   "source": [
    "![title](LGBM_no_fe_score.png)"
   ]
  },
  {
   "cell_type": "code",
   "execution_count": 30,
   "id": "3b80bb1d",
   "metadata": {},
   "outputs": [
    {
     "data": {
      "text/plain": [
       "['light_no_fe.pkl']"
      ]
     },
     "execution_count": 30,
     "metadata": {},
     "output_type": "execute_result"
    }
   ],
   "source": [
    "import joblib\n",
    "joblib.dump(LGBM,'light_no_fe.pkl')"
   ]
  },
  {
   "cell_type": "code",
   "execution_count": 9,
   "id": "d82c6d8b",
   "metadata": {},
   "outputs": [],
   "source": [
    "# joblib.dump(X_train_norm, \"X_train_norm\")\n",
    "# joblib.dump(X_test_norm, \"X_test_norm\")\n",
    "# joblib.dump(y_train, \"y_train\")\n",
    "# joblib.dump(y_test, \"y_Test\")\n",
    "# joblib.dump(scaler, \"scaler\")\n",
    "\n",
    "# X_train_norm = joblib.load(\"X_train_norm\")\n",
    "# X_test_norm = joblib.load(\"X_test_norm\")\n",
    "# y_train = joblib.load(\"y_train\")\n",
    "# y_test = joblib.load(\"y_Test\")\n",
    "\n",
    "# LGBM = joblib.load('light_no_fe.pkl')\n"
   ]
  },
  {
   "cell_type": "code",
   "execution_count": null,
   "id": "4f476ad7",
   "metadata": {},
   "outputs": [],
   "source": []
  },
  {
   "cell_type": "code",
   "execution_count": null,
   "id": "314d0b56",
   "metadata": {},
   "outputs": [],
   "source": []
  },
  {
   "cell_type": "markdown",
   "id": "e5a55b30",
   "metadata": {},
   "source": [
    "# Applying models on Unseen Data"
   ]
  },
  {
   "cell_type": "markdown",
   "id": "1c84c2eb",
   "metadata": {},
   "source": [
    "### Decision Tree"
   ]
  },
  {
   "cell_type": "code",
   "execution_count": 2,
   "id": "519c3b46",
   "metadata": {},
   "outputs": [],
   "source": [
    "scaler = joblib.load(\"scaler\")"
   ]
  },
  {
   "cell_type": "code",
   "execution_count": 3,
   "id": "aa317af1",
   "metadata": {},
   "outputs": [],
   "source": [
    "DT = joblib.load(\"Decision_tree_no_fe.pkl\")"
   ]
  },
  {
   "cell_type": "code",
   "execution_count": 4,
   "id": "942ef19b",
   "metadata": {},
   "outputs": [],
   "source": [
    "test_df = pd.read_csv(\"test.csv\")"
   ]
  },
  {
   "cell_type": "code",
   "execution_count": 5,
   "id": "701e776b",
   "metadata": {},
   "outputs": [
    {
     "data": {
      "text/html": [
       "<div>\n",
       "<style scoped>\n",
       "    .dataframe tbody tr th:only-of-type {\n",
       "        vertical-align: middle;\n",
       "    }\n",
       "\n",
       "    .dataframe tbody tr th {\n",
       "        vertical-align: top;\n",
       "    }\n",
       "\n",
       "    .dataframe thead th {\n",
       "        text-align: right;\n",
       "    }\n",
       "</style>\n",
       "<table border=\"1\" class=\"dataframe\">\n",
       "  <thead>\n",
       "    <tr style=\"text-align: right;\">\n",
       "      <th></th>\n",
       "      <th>id</th>\n",
       "      <th>crew</th>\n",
       "      <th>experiment</th>\n",
       "      <th>time</th>\n",
       "      <th>seat</th>\n",
       "      <th>eeg_fp1</th>\n",
       "      <th>eeg_f7</th>\n",
       "      <th>eeg_f8</th>\n",
       "      <th>eeg_t4</th>\n",
       "      <th>eeg_t6</th>\n",
       "      <th>...</th>\n",
       "      <th>eeg_f4</th>\n",
       "      <th>eeg_c4</th>\n",
       "      <th>eeg_p4</th>\n",
       "      <th>eeg_poz</th>\n",
       "      <th>eeg_c3</th>\n",
       "      <th>eeg_cz</th>\n",
       "      <th>eeg_o2</th>\n",
       "      <th>ecg</th>\n",
       "      <th>r</th>\n",
       "      <th>gsr</th>\n",
       "    </tr>\n",
       "  </thead>\n",
       "  <tbody>\n",
       "    <tr>\n",
       "      <th>0</th>\n",
       "      <td>0</td>\n",
       "      <td>1</td>\n",
       "      <td>LOFT</td>\n",
       "      <td>0.000000</td>\n",
       "      <td>0</td>\n",
       "      <td>17.899500</td>\n",
       "      <td>6.127830</td>\n",
       "      <td>0.994807</td>\n",
       "      <td>-28.206200</td>\n",
       "      <td>-47.695499</td>\n",
       "      <td>...</td>\n",
       "      <td>-7.044480</td>\n",
       "      <td>-14.405100</td>\n",
       "      <td>-4.03384</td>\n",
       "      <td>-0.393799</td>\n",
       "      <td>31.83810</td>\n",
       "      <td>17.075600</td>\n",
       "      <td>-8.137350</td>\n",
       "      <td>-7323.120117</td>\n",
       "      <td>643.177002</td>\n",
       "      <td>594.778992</td>\n",
       "    </tr>\n",
       "    <tr>\n",
       "      <th>1</th>\n",
       "      <td>1</td>\n",
       "      <td>1</td>\n",
       "      <td>LOFT</td>\n",
       "      <td>0.000000</td>\n",
       "      <td>1</td>\n",
       "      <td>45.883202</td>\n",
       "      <td>94.749001</td>\n",
       "      <td>23.290800</td>\n",
       "      <td>1.392000</td>\n",
       "      <td>2.060940</td>\n",
       "      <td>...</td>\n",
       "      <td>19.887501</td>\n",
       "      <td>-215.179001</td>\n",
       "      <td>2.11832</td>\n",
       "      <td>7.340940</td>\n",
       "      <td>9.66785</td>\n",
       "      <td>1169.239990</td>\n",
       "      <td>-0.024414</td>\n",
       "      <td>-3335.080078</td>\n",
       "      <td>826.724976</td>\n",
       "      <td>136.235001</td>\n",
       "    </tr>\n",
       "    <tr>\n",
       "      <th>2</th>\n",
       "      <td>2</td>\n",
       "      <td>1</td>\n",
       "      <td>LOFT</td>\n",
       "      <td>0.003906</td>\n",
       "      <td>0</td>\n",
       "      <td>33.120098</td>\n",
       "      <td>28.356501</td>\n",
       "      <td>-7.239220</td>\n",
       "      <td>-7.690860</td>\n",
       "      <td>-25.833799</td>\n",
       "      <td>...</td>\n",
       "      <td>-7.642560</td>\n",
       "      <td>-10.363600</td>\n",
       "      <td>10.95050</td>\n",
       "      <td>6.513360</td>\n",
       "      <td>36.01860</td>\n",
       "      <td>24.356600</td>\n",
       "      <td>0.956158</td>\n",
       "      <td>-7323.120117</td>\n",
       "      <td>643.177002</td>\n",
       "      <td>594.778992</td>\n",
       "    </tr>\n",
       "    <tr>\n",
       "      <th>3</th>\n",
       "      <td>3</td>\n",
       "      <td>1</td>\n",
       "      <td>LOFT</td>\n",
       "      <td>0.003906</td>\n",
       "      <td>1</td>\n",
       "      <td>43.280102</td>\n",
       "      <td>95.887001</td>\n",
       "      <td>18.702299</td>\n",
       "      <td>-1.432890</td>\n",
       "      <td>-4.232600</td>\n",
       "      <td>...</td>\n",
       "      <td>13.826600</td>\n",
       "      <td>-214.223007</td>\n",
       "      <td>-4.91354</td>\n",
       "      <td>3.504520</td>\n",
       "      <td>3.87811</td>\n",
       "      <td>1159.400024</td>\n",
       "      <td>-0.047607</td>\n",
       "      <td>-3335.080078</td>\n",
       "      <td>826.724976</td>\n",
       "      <td>136.235001</td>\n",
       "    </tr>\n",
       "    <tr>\n",
       "      <th>4</th>\n",
       "      <td>4</td>\n",
       "      <td>1</td>\n",
       "      <td>LOFT</td>\n",
       "      <td>0.007812</td>\n",
       "      <td>0</td>\n",
       "      <td>7.929110</td>\n",
       "      <td>3.460380</td>\n",
       "      <td>-10.860800</td>\n",
       "      <td>-26.366699</td>\n",
       "      <td>-25.894699</td>\n",
       "      <td>...</td>\n",
       "      <td>2.045450</td>\n",
       "      <td>-20.788799</td>\n",
       "      <td>-3.61418</td>\n",
       "      <td>-7.539830</td>\n",
       "      <td>3.08397</td>\n",
       "      <td>13.647900</td>\n",
       "      <td>1.473720</td>\n",
       "      <td>-7323.120117</td>\n",
       "      <td>643.177002</td>\n",
       "      <td>594.778992</td>\n",
       "    </tr>\n",
       "  </tbody>\n",
       "</table>\n",
       "<p>5 rows × 28 columns</p>\n",
       "</div>"
      ],
      "text/plain": [
       "   id  crew experiment      time  seat    eeg_fp1     eeg_f7     eeg_f8  \\\n",
       "0   0     1       LOFT  0.000000     0  17.899500   6.127830   0.994807   \n",
       "1   1     1       LOFT  0.000000     1  45.883202  94.749001  23.290800   \n",
       "2   2     1       LOFT  0.003906     0  33.120098  28.356501  -7.239220   \n",
       "3   3     1       LOFT  0.003906     1  43.280102  95.887001  18.702299   \n",
       "4   4     1       LOFT  0.007812     0   7.929110   3.460380 -10.860800   \n",
       "\n",
       "      eeg_t4     eeg_t6  ...     eeg_f4      eeg_c4    eeg_p4   eeg_poz  \\\n",
       "0 -28.206200 -47.695499  ...  -7.044480  -14.405100  -4.03384 -0.393799   \n",
       "1   1.392000   2.060940  ...  19.887501 -215.179001   2.11832  7.340940   \n",
       "2  -7.690860 -25.833799  ...  -7.642560  -10.363600  10.95050  6.513360   \n",
       "3  -1.432890  -4.232600  ...  13.826600 -214.223007  -4.91354  3.504520   \n",
       "4 -26.366699 -25.894699  ...   2.045450  -20.788799  -3.61418 -7.539830   \n",
       "\n",
       "     eeg_c3       eeg_cz    eeg_o2          ecg           r         gsr  \n",
       "0  31.83810    17.075600 -8.137350 -7323.120117  643.177002  594.778992  \n",
       "1   9.66785  1169.239990 -0.024414 -3335.080078  826.724976  136.235001  \n",
       "2  36.01860    24.356600  0.956158 -7323.120117  643.177002  594.778992  \n",
       "3   3.87811  1159.400024 -0.047607 -3335.080078  826.724976  136.235001  \n",
       "4   3.08397    13.647900  1.473720 -7323.120117  643.177002  594.778992  \n",
       "\n",
       "[5 rows x 28 columns]"
      ]
     },
     "execution_count": 5,
     "metadata": {},
     "output_type": "execute_result"
    }
   ],
   "source": [
    "test_df.head()"
   ]
  },
  {
   "cell_type": "code",
   "execution_count": 6,
   "id": "82494198",
   "metadata": {},
   "outputs": [],
   "source": [
    "test_df_ = test_df.drop(['crew', 'experiment', 'seat', 'id'], axis=1 )"
   ]
  },
  {
   "cell_type": "code",
   "execution_count": 7,
   "id": "65f31e84",
   "metadata": {},
   "outputs": [],
   "source": [
    "test_norm = scaler.transform(test_df_)"
   ]
  },
  {
   "cell_type": "code",
   "execution_count": 10,
   "id": "ef8a8761",
   "metadata": {},
   "outputs": [
    {
     "data": {
      "text/plain": [
       "['test_norm']"
      ]
     },
     "execution_count": 10,
     "metadata": {},
     "output_type": "execute_result"
    }
   ],
   "source": [
    "joblib.dump(test_norm, \"test_norm\")"
   ]
  },
  {
   "cell_type": "code",
   "execution_count": 11,
   "id": "52e1a03e",
   "metadata": {},
   "outputs": [],
   "source": [
    "test_pred = DT.predict_proba(test_norm)"
   ]
  },
  {
   "cell_type": "code",
   "execution_count": 13,
   "id": "3fd8e94b",
   "metadata": {},
   "outputs": [],
   "source": [
    "sub = pd.DataFrame(np.concatenate((np.arange(len(test_norm))[:, np.newaxis], test_pred), axis=1), columns=['id', 'A', 'B', 'C', 'D'],)\n",
    "sub['id'] = sub['id'].astype(int)"
   ]
  },
  {
   "cell_type": "code",
   "execution_count": 14,
   "id": "0238d850",
   "metadata": {},
   "outputs": [
    {
     "data": {
      "text/html": [
       "<div>\n",
       "<style scoped>\n",
       "    .dataframe tbody tr th:only-of-type {\n",
       "        vertical-align: middle;\n",
       "    }\n",
       "\n",
       "    .dataframe tbody tr th {\n",
       "        vertical-align: top;\n",
       "    }\n",
       "\n",
       "    .dataframe thead th {\n",
       "        text-align: right;\n",
       "    }\n",
       "</style>\n",
       "<table border=\"1\" class=\"dataframe\">\n",
       "  <thead>\n",
       "    <tr style=\"text-align: right;\">\n",
       "      <th></th>\n",
       "      <th>id</th>\n",
       "      <th>A</th>\n",
       "      <th>B</th>\n",
       "      <th>C</th>\n",
       "      <th>D</th>\n",
       "    </tr>\n",
       "  </thead>\n",
       "  <tbody>\n",
       "    <tr>\n",
       "      <th>0</th>\n",
       "      <td>0</td>\n",
       "      <td>1.0</td>\n",
       "      <td>0.0</td>\n",
       "      <td>0.0</td>\n",
       "      <td>0.0</td>\n",
       "    </tr>\n",
       "    <tr>\n",
       "      <th>1</th>\n",
       "      <td>1</td>\n",
       "      <td>0.6</td>\n",
       "      <td>0.0</td>\n",
       "      <td>0.4</td>\n",
       "      <td>0.0</td>\n",
       "    </tr>\n",
       "    <tr>\n",
       "      <th>2</th>\n",
       "      <td>2</td>\n",
       "      <td>1.0</td>\n",
       "      <td>0.0</td>\n",
       "      <td>0.0</td>\n",
       "      <td>0.0</td>\n",
       "    </tr>\n",
       "    <tr>\n",
       "      <th>3</th>\n",
       "      <td>3</td>\n",
       "      <td>0.6</td>\n",
       "      <td>0.0</td>\n",
       "      <td>0.4</td>\n",
       "      <td>0.0</td>\n",
       "    </tr>\n",
       "    <tr>\n",
       "      <th>4</th>\n",
       "      <td>4</td>\n",
       "      <td>1.0</td>\n",
       "      <td>0.0</td>\n",
       "      <td>0.0</td>\n",
       "      <td>0.0</td>\n",
       "    </tr>\n",
       "  </tbody>\n",
       "</table>\n",
       "</div>"
      ],
      "text/plain": [
       "   id    A    B    C    D\n",
       "0   0  1.0  0.0  0.0  0.0\n",
       "1   1  0.6  0.0  0.4  0.0\n",
       "2   2  1.0  0.0  0.0  0.0\n",
       "3   3  0.6  0.0  0.4  0.0\n",
       "4   4  1.0  0.0  0.0  0.0"
      ]
     },
     "execution_count": 14,
     "metadata": {},
     "output_type": "execute_result"
    }
   ],
   "source": [
    "sub.head()"
   ]
  },
  {
   "cell_type": "code",
   "execution_count": 15,
   "id": "462ba171",
   "metadata": {},
   "outputs": [],
   "source": [
    "sub.to_csv('result_no_fe.csv', index=False)"
   ]
  },
  {
   "cell_type": "code",
   "execution_count": null,
   "id": "8762e543",
   "metadata": {},
   "outputs": [],
   "source": []
  },
  {
   "cell_type": "markdown",
   "id": "727754fd",
   "metadata": {},
   "source": [
    "# LGBM"
   ]
  },
  {
   "cell_type": "code",
   "execution_count": 10,
   "id": "d50a105b",
   "metadata": {},
   "outputs": [],
   "source": [
    "LGBM = joblib.load(\"light_no_fe.pkl\")"
   ]
  },
  {
   "cell_type": "code",
   "execution_count": 7,
   "id": "29d5998b",
   "metadata": {},
   "outputs": [],
   "source": [
    "test_norm = joblib.load(\"test_norm\")"
   ]
  },
  {
   "cell_type": "code",
   "execution_count": 11,
   "id": "ef4e8a15",
   "metadata": {},
   "outputs": [],
   "source": [
    "test_pred = LGBM.predict_proba(test_norm)"
   ]
  },
  {
   "cell_type": "code",
   "execution_count": 12,
   "id": "88474f38",
   "metadata": {},
   "outputs": [],
   "source": [
    "sub = pd.DataFrame(np.concatenate((np.arange(len(test_norm))[:, np.newaxis], test_pred), axis=1), columns=['id', 'A', 'B', 'C', 'D'],)\n",
    "sub['id'] = sub['id'].astype(int)"
   ]
  },
  {
   "cell_type": "code",
   "execution_count": 13,
   "id": "4557997a",
   "metadata": {},
   "outputs": [
    {
     "data": {
      "text/html": [
       "<div>\n",
       "<style scoped>\n",
       "    .dataframe tbody tr th:only-of-type {\n",
       "        vertical-align: middle;\n",
       "    }\n",
       "\n",
       "    .dataframe tbody tr th {\n",
       "        vertical-align: top;\n",
       "    }\n",
       "\n",
       "    .dataframe thead th {\n",
       "        text-align: right;\n",
       "    }\n",
       "</style>\n",
       "<table border=\"1\" class=\"dataframe\">\n",
       "  <thead>\n",
       "    <tr style=\"text-align: right;\">\n",
       "      <th></th>\n",
       "      <th>id</th>\n",
       "      <th>A</th>\n",
       "      <th>B</th>\n",
       "      <th>C</th>\n",
       "      <th>D</th>\n",
       "    </tr>\n",
       "  </thead>\n",
       "  <tbody>\n",
       "    <tr>\n",
       "      <th>0</th>\n",
       "      <td>0</td>\n",
       "      <td>0.998665</td>\n",
       "      <td>0.000012</td>\n",
       "      <td>0.001302</td>\n",
       "      <td>0.000022</td>\n",
       "    </tr>\n",
       "    <tr>\n",
       "      <th>1</th>\n",
       "      <td>1</td>\n",
       "      <td>0.998786</td>\n",
       "      <td>0.000011</td>\n",
       "      <td>0.001170</td>\n",
       "      <td>0.000033</td>\n",
       "    </tr>\n",
       "    <tr>\n",
       "      <th>2</th>\n",
       "      <td>2</td>\n",
       "      <td>0.999177</td>\n",
       "      <td>0.000008</td>\n",
       "      <td>0.000800</td>\n",
       "      <td>0.000015</td>\n",
       "    </tr>\n",
       "    <tr>\n",
       "      <th>3</th>\n",
       "      <td>3</td>\n",
       "      <td>0.998787</td>\n",
       "      <td>0.000011</td>\n",
       "      <td>0.001170</td>\n",
       "      <td>0.000033</td>\n",
       "    </tr>\n",
       "    <tr>\n",
       "      <th>4</th>\n",
       "      <td>4</td>\n",
       "      <td>0.998191</td>\n",
       "      <td>0.000015</td>\n",
       "      <td>0.001767</td>\n",
       "      <td>0.000027</td>\n",
       "    </tr>\n",
       "  </tbody>\n",
       "</table>\n",
       "</div>"
      ],
      "text/plain": [
       "   id         A         B         C         D\n",
       "0   0  0.998665  0.000012  0.001302  0.000022\n",
       "1   1  0.998786  0.000011  0.001170  0.000033\n",
       "2   2  0.999177  0.000008  0.000800  0.000015\n",
       "3   3  0.998787  0.000011  0.001170  0.000033\n",
       "4   4  0.998191  0.000015  0.001767  0.000027"
      ]
     },
     "execution_count": 13,
     "metadata": {},
     "output_type": "execute_result"
    }
   ],
   "source": [
    "sub.head()"
   ]
  },
  {
   "cell_type": "code",
   "execution_count": 14,
   "id": "229d6b4a",
   "metadata": {},
   "outputs": [],
   "source": [
    "sub.to_csv('result_lgbm_no_fe.csv', index=False)"
   ]
  },
  {
   "cell_type": "code",
   "execution_count": null,
   "id": "c91ed601",
   "metadata": {},
   "outputs": [],
   "source": []
  },
  {
   "cell_type": "markdown",
   "id": "8e4e6df4",
   "metadata": {},
   "source": [
    "# Most basic model"
   ]
  },
  {
   "cell_type": "markdown",
   "id": "893f7754",
   "metadata": {},
   "source": [
    "#### Let's check how will LGBM perform on Completely Raw data not even Normalized"
   ]
  },
  {
   "cell_type": "code",
   "execution_count": 4,
   "id": "77204508",
   "metadata": {},
   "outputs": [],
   "source": [
    "Y = raw['event']\n",
    "X = raw.drop('event',axis=1)"
   ]
  },
  {
   "cell_type": "code",
   "execution_count": 5,
   "id": "fe9add31",
   "metadata": {},
   "outputs": [
    {
     "name": "stdout",
     "output_type": "stream",
     "text": [
      "X_train.shape:(3893936, 27)\n",
      "y_train.shape:(3893936,)\n",
      "X_test.shape:(973485, 27)\n",
      "y_test.shape:(973485,)\n"
     ]
    }
   ],
   "source": [
    "X_train, X_test, y_train, y_test = train_test_split(X,Y, test_size=.2, shuffle=False)\n",
    "print(f\"X_train.shape:{X_train.shape}\")\n",
    "print(f\"y_train.shape:{y_train.shape}\")\n",
    "print(f\"X_test.shape:{X_test.shape}\")\n",
    "print(f\"y_test.shape:{y_test.shape}\")"
   ]
  },
  {
   "cell_type": "code",
   "execution_count": null,
   "id": "10a30af9",
   "metadata": {},
   "outputs": [],
   "source": []
  },
  {
   "cell_type": "code",
   "execution_count": 6,
   "id": "57f8278d",
   "metadata": {},
   "outputs": [],
   "source": [
    "d = {'A': 0, 'B': 1, 'C': 2, 'D': 3}\n",
    "y_train_ = np.array(list(map(lambda x: d[x], y_train)))\n",
    "y_test_ =  np.array(list(map(lambda x: d[x], y_test)))"
   ]
  },
  {
   "cell_type": "code",
   "execution_count": 10,
   "id": "58e3dd6f",
   "metadata": {},
   "outputs": [],
   "source": [
    "X_train['experiment'] = X_train['experiment'].astype('category')\n",
    "X_test['experiment'] = X_test['experiment'].astype('category')"
   ]
  },
  {
   "cell_type": "code",
   "execution_count": 39,
   "id": "91e4c224",
   "metadata": {},
   "outputs": [
    {
     "name": "stdout",
     "output_type": "stream",
     "text": [
      "<start>Training\n",
      "[LightGBM] [Warning] Auto-choosing col-wise multi-threading, the overhead of testing was 0.267049 seconds.\n",
      "You can set `force_col_wise=true` to remove the overhead.\n",
      "[LightGBM] [Info] Total Bins 6135\n",
      "[LightGBM] [Info] Number of data points in the train set: 3893936, number of used features: 27\n",
      "[LightGBM] [Info] Start training from score -0.570771\n",
      "[LightGBM] [Info] Start training from score -3.663356\n",
      "[LightGBM] [Info] Start training from score -1.013233\n",
      "[LightGBM] [Info] Start training from score -3.074330\n",
      "Training until validation scores don't improve for 200 rounds\n",
      "[200]\ttraining's multi_error: 0.0394583\tvalid_1's multi_error: 0.0692286\n",
      "[400]\ttraining's multi_error: 0.0259958\tvalid_1's multi_error: 0.0722374\n",
      "Early stopping, best iteration is:\n",
      "[235]\ttraining's multi_error: 0.036394\tvalid_1's multi_error: 0.0649039\n",
      "<complete>Training\n"
     ]
    }
   ],
   "source": [
    "train = lgbm.Dataset(X_train, label = y_train_, categorical_feature=[1])\n",
    "test = lgbm.Dataset(X_test, label = y_test_, categorical_feature=[1])\n",
    " \n",
    "\n",
    "\n",
    "\n",
    "# Declaring the hyperparameter values. \n",
    "params = {\n",
    "      \"objective\" : \"multiclass\", # used for multiclass softmax classifier\n",
    "      \"metric\" : \"multi_error\",   # Error rate for multiclass classification \n",
    "      \"boosting\" :'gbdt',         # Using Gardient Boosted Decision Trees\n",
    "      'num_class':4,              # Number of desired output classes is 4 \n",
    "      \"num_leaves\" : 30,          # Number of leaves in Tree based algorithms\n",
    "      \"learning_rate\" : 0.01,     \n",
    "      \"bagging_fraction\" : 0.9,   # This is randomly select 90% of data without resampling\\\n",
    "                   # it will decrease impact of high variance on data\n",
    "      \"bagging_seed\" : 0,         # Random seeds for bagging\n",
    "      \"num_threads\" : 4,\n",
    "      \"colsample_bytree\" : 0.5,   # Subsampling fraction for feature\n",
    "      'min_data_in_leaf':100,     # Threshold on Data in a leaf\n",
    "      'min_split_gain':0.00019    # Minmimum gain threshold for splitting the node\n",
    "        }\n",
    "\n",
    "\n",
    "\n",
    "\n",
    "# Training Stage:\n",
    "print('<start>Training')\n",
    "model = lgbm.train(  params, \n",
    "                  train_set = train,\n",
    "                  num_boost_round=1000,\n",
    "                  early_stopping_rounds=200,\n",
    "                  verbose_eval=200, \n",
    "                  valid_sets=[train,test]\n",
    "                )\n",
    "print('<complete>Training')"
   ]
  },
  {
   "cell_type": "code",
   "execution_count": 40,
   "id": "a6582d62",
   "metadata": {},
   "outputs": [
    {
     "data": {
      "text/plain": [
       "['model_simple']"
      ]
     },
     "execution_count": 40,
     "metadata": {},
     "output_type": "execute_result"
    }
   ],
   "source": [
    "# joblib.dump(model, \"model_simple\")\n",
    "# model = joblib.load(\"model_simple\")"
   ]
  },
  {
   "cell_type": "code",
   "execution_count": 41,
   "id": "1d714dcc",
   "metadata": {},
   "outputs": [],
   "source": [
    "# y_train_pred = model.predict(X_train)\n",
    "# y_test_pred = model.predict(X_test)"
   ]
  },
  {
   "cell_type": "code",
   "execution_count": 16,
   "id": "47191da0",
   "metadata": {},
   "outputs": [
    {
     "name": "stdout",
     "output_type": "stream",
     "text": [
      "Train log_loss:0.13599888140534533\n",
      "Test log_loss:0.372470041693679\n"
     ]
    }
   ],
   "source": [
    "\n",
    "print(f\"Train log_loss:{log_loss(y_train, y_train_pred)}\")\n",
    "print(f\"Test log_loss:{log_loss(y_test, y_test_pred)}\")"
   ]
  },
  {
   "cell_type": "code",
   "execution_count": 31,
   "id": "ed313928",
   "metadata": {},
   "outputs": [],
   "source": [
    "import itertools\n",
    "def plot_confusion_matrix(cm, classes,\n",
    "                          normalize=True,\n",
    "                          title='Confusion matrix',\n",
    "                          cmap=plt.cm.Blues):\n",
    "    \"\"\"\n",
    "    This function prints and plots the confusion matrix.\n",
    "    Normalization can be applied by setting `normalize=True`.\n",
    "    \"\"\"\n",
    "    if normalize:\n",
    "        cm = cm.astype('float') / cm.sum(axis=1)[:, np.newaxis]\n",
    "        print(\"Normalized confusion matrix\")\n",
    "    else:\n",
    "        print('Confusion matrix, without normalization')\n",
    "\n",
    "    print(cm)\n",
    "\n",
    "    plt.imshow(cm, interpolation='nearest', cmap=cmap)\n",
    "    plt.title(title)\n",
    "    plt.colorbar()\n",
    "    tick_marks = np.arange(len(classes))\n",
    "    plt.xticks(tick_marks, classes, rotation=45)\n",
    "    plt.yticks(tick_marks, classes)\n",
    "\n",
    "    fmt = '.2f' if normalize else 'd'\n",
    "    thresh = cm.max() / 2.\n",
    "    for i, j in itertools.product(range(cm.shape[0]), range(cm.shape[1])):\n",
    "        plt.text(j, i, format(cm[i, j], fmt),\n",
    "                 horizontalalignment=\"center\",\n",
    "                 color=\"white\" if cm[i, j] > thresh else \"black\")\n",
    "\n",
    "    plt.ylabel('True label')\n",
    "    plt.xlabel('Predicted label')\n",
    "    plt.tight_layout()"
   ]
  },
  {
   "cell_type": "markdown",
   "id": "a9569e13",
   "metadata": {},
   "source": [
    "## Confusion matrix on Train"
   ]
  },
  {
   "cell_type": "code",
   "execution_count": 46,
   "id": "1f3ddbd7",
   "metadata": {},
   "outputs": [
    {
     "name": "stdout",
     "output_type": "stream",
     "text": [
      "Normalized confusion matrix\n",
      "[[9.42652915e-01 1.08281561e-03 1.72012012e-06 5.62625488e-02]\n",
      " [2.21197601e-02 9.77880240e-01 0.00000000e+00 0.00000000e+00]\n",
      " [1.33163882e-03 0.00000000e+00 9.98668361e-01 0.00000000e+00]\n",
      " [7.99902656e-02 0.00000000e+00 0.00000000e+00 9.20009734e-01]]\n"
     ]
    },
    {
     "data": {
      "image/png": "[encoded data removed]",
      "text/plain": [
       "<Figure size 432x288 with 2 Axes>"
      ]
     },
     "metadata": {
      "needs_background": "light"
     },
     "output_type": "display_data"
    }
   ],
   "source": [
    "conf_mat_val = confusion_matrix(np.argmax(y_train_pred, axis=1), y_train_)\n",
    "plot_confusion_matrix(conf_mat_val, [\"A\", \"B\", \"C\", \"D\"], title='Confusion matrix on Validation data', normalize=True)"
   ]
  },
  {
   "cell_type": "code",
   "execution_count": null,
   "id": "3ceef1ec",
   "metadata": {},
   "outputs": [],
   "source": []
  },
  {
   "cell_type": "markdown",
   "id": "356ec852",
   "metadata": {},
   "source": [
    "## Confusion matrix on Test dataset"
   ]
  },
  {
   "cell_type": "code",
   "execution_count": 45,
   "id": "168d7929",
   "metadata": {},
   "outputs": [
    {
     "name": "stdout",
     "output_type": "stream",
     "text": [
      "Normalized confusion matrix\n",
      "[[9.26129580e-01 6.21153111e-03 0.00000000e+00 6.76588889e-02]\n",
      " [1.34489693e-02 9.86551031e-01 0.00000000e+00 0.00000000e+00]\n",
      " [1.37454664e-02 1.18097722e-02 9.74033172e-01 4.11589714e-04]\n",
      " [3.91706380e-01 0.00000000e+00 0.00000000e+00 6.08293620e-01]]\n"
     ]
    },
    {
     "data": {
      "image/png": "[encoded data removed]",
      "text/plain": [
       "<Figure size 432x288 with 2 Axes>"
      ]
     },
     "metadata": {
      "needs_background": "light"
     },
     "output_type": "display_data"
    }
   ],
   "source": [
    "conf_mat_val = confusion_matrix(np.argmax(y_test_pred, axis=1), y_test_)\n",
    "plot_confusion_matrix(conf_mat_val, [\"A\", \"B\", \"C\", \"D\"], title='Confusion matrix on Validation data', normalize=True)"
   ]
  },
  {
   "cell_type": "markdown",
   "id": "77abe061",
   "metadata": {},
   "source": [
    "#### So much confusion in predicting Class 'D', apart from that everything is quite good"
   ]
  },
  {
   "cell_type": "markdown",
   "id": "5a5cffb2",
   "metadata": {},
   "source": [
    "Lets Check on Kaggle Data"
   ]
  },
  {
   "cell_type": "code",
   "execution_count": 23,
   "id": "23d27e19",
   "metadata": {},
   "outputs": [],
   "source": []
  },
  {
   "cell_type": "code",
   "execution_count": 21,
   "id": "4b5d8b92",
   "metadata": {},
   "outputs": [],
   "source": [
    "test_df = pd.read_csv(\"test.csv\")\n",
    "test_df_ = test_df.drop([ 'id'], axis=1 )\n",
    "test_df_['experiment'] = test_df_['experiment'].astype('category')"
   ]
  },
  {
   "cell_type": "code",
   "execution_count": 26,
   "id": "9a4eb54f",
   "metadata": {},
   "outputs": [],
   "source": [
    "y_pred_simple = model.predict(test_df_)"
   ]
  },
  {
   "cell_type": "code",
   "execution_count": 28,
   "id": "e49526a6",
   "metadata": {},
   "outputs": [],
   "source": [
    "sub = pd.DataFrame(np.concatenate((np.arange(len(test_df_))[:, np.newaxis], y_pred_simple), axis=1), columns=['id', 'A', 'B', 'C', 'D'],)\n",
    "sub['id'] = sub['id'].astype(int)"
   ]
  },
  {
   "cell_type": "code",
   "execution_count": 29,
   "id": "7550bc0f",
   "metadata": {},
   "outputs": [],
   "source": [
    "sub.to_csv('result_lgbm_simple.csv', index=False)"
   ]
  },
  {
   "cell_type": "code",
   "execution_count": null,
   "id": "9a7edd24",
   "metadata": {},
   "outputs": [],
   "source": []
  },
  {
   "cell_type": "markdown",
   "id": "9829e74c",
   "metadata": {},
   "source": [
    "# RESULTS on KAGGLE test DATA"
   ]
  },
  {
   "cell_type": "markdown",
   "id": "e24902d8",
   "metadata": {},
   "source": [
    "![title](LGBM_simple.png)"
   ]
  },
  {
   "cell_type": "markdown",
   "id": "eec6ebf8",
   "metadata": {},
   "source": [
    "# Astonishing results with this simple Training dataset no feature engineering"
   ]
  },
  {
   "cell_type": "markdown",
   "id": "3c867a1c",
   "metadata": {},
   "source": [
    "# Lets check on DECISION TREES without altering train data at all!"
   ]
  },
  {
   "cell_type": "code",
   "execution_count": 7,
   "id": "9909a8e2",
   "metadata": {},
   "outputs": [
    {
     "name": "stdout",
     "output_type": "stream",
     "text": [
      "[array(['CA', 'DA', 'SS'], dtype=object)]\n"
     ]
    }
   ],
   "source": [
    "from sklearn.preprocessing import OrdinalEncoder\n",
    "exp_train = np.expand_dims(X_train['experiment'].values, axis=1)\n",
    "exp_test = np.expand_dims(X_test['experiment'].values, axis=1)\n",
    "enc = OrdinalEncoder()\n",
    "enc.fit(exp_train)\n",
    "print(enc.categories_)\n",
    "X_train['experiment'] = enc.fit_transform(exp_train)\n",
    "X_test['experiment'] = enc.fit_transform(exp_test)"
   ]
  },
  {
   "cell_type": "code",
   "execution_count": 9,
   "id": "412d1f05",
   "metadata": {},
   "outputs": [
    {
     "data": {
      "text/plain": [
       "DecisionTreeClassifier(max_depth=200, min_samples_leaf=50, min_samples_split=50,\n",
       "                       random_state=40)"
      ]
     },
     "execution_count": 9,
     "metadata": {},
     "output_type": "execute_result"
    }
   ],
   "source": [
    "from sklearn.tree import DecisionTreeClassifier\n",
    "from sklearn.model_selection import RandomizedSearchCV \n",
    "\n",
    "DT = DecisionTreeClassifier(max_depth = 200, min_samples_split= 50, min_samples_leaf= 50, random_state=40)\n",
    "DT.fit(X_train, y_train)\n",
    "\n",
    "\n"
   ]
  },
  {
   "cell_type": "code",
   "execution_count": 12,
   "id": "9df15bd7",
   "metadata": {},
   "outputs": [],
   "source": [
    "features = X_train.columns"
   ]
  },
  {
   "cell_type": "code",
   "execution_count": 13,
   "id": "dd449731",
   "metadata": {},
   "outputs": [
    {
     "data": {
      "image/png": "[encoded data removed]",
      "text/plain": [
       "<Figure size 1440x864 with 1 Axes>"
      ]
     },
     "metadata": {
      "needs_background": "light"
     },
     "output_type": "display_data"
    }
   ],
   "source": [
    "importances = DT.feature_importances_\n",
    "indices = (np.argsort(importances))[:]\n",
    "plt.figure(figsize=(20,12))\n",
    "plt.title('Feature Importances')\n",
    "plt.barh(range(len(indices)), importances[indices], color='r', align='center')\n",
    "plt.yticks(range(len(indices)), [features[i] for i in indices])\n",
    "plt.xlabel('Relative Importance')\n",
    "plt.show()"
   ]
  },
  {
   "cell_type": "code",
   "execution_count": 15,
   "id": "c97aaaac",
   "metadata": {},
   "outputs": [
    {
     "name": "stdout",
     "output_type": "stream",
     "text": [
      "Train log_loss:0.0012031847185385318\n",
      "Test log_loss:3.1586377305730764\n"
     ]
    }
   ],
   "source": [
    "y_train_pred = DT.predict_proba(X_train)\n",
    "y_test_pred = DT.predict_proba(X_test)\n",
    "print(f\"Train log_loss:{log_loss(y_train, y_train_pred)}\")\n",
    "print(f\"Test log_loss:{log_loss(y_test, y_test_pred)}\")"
   ]
  },
  {
   "cell_type": "markdown",
   "id": "a2534c15",
   "metadata": {},
   "source": [
    "### Clearly its Overfitting, no use of testing it on Kaggle dataset !!!"
   ]
  },
  {
   "cell_type": "markdown",
   "id": "91af6c45",
   "metadata": {},
   "source": [
    "# Trying out RANDOM FOREST without altering trian data at all"
   ]
  },
  {
   "cell_type": "code",
   "execution_count": 17,
   "id": "dab6aeae",
   "metadata": {},
   "outputs": [
    {
     "data": {
      "text/plain": [
       "RandomForestClassifier(max_depth=200, n_estimators=20)"
      ]
     },
     "execution_count": 17,
     "metadata": {},
     "output_type": "execute_result"
    }
   ],
   "source": [
    "RF = RandomForestClassifier(n_estimators = 20, max_depth = 200)\n",
    "RF.fit(X_train, y_train)"
   ]
  },
  {
   "cell_type": "code",
   "execution_count": 18,
   "id": "f7a0ef0e",
   "metadata": {},
   "outputs": [
    {
     "data": {
      "image/png": "[encoded data removed]",
      "text/plain": [
       "<Figure size 1440x864 with 1 Axes>"
      ]
     },
     "metadata": {
      "needs_background": "light"
     },
     "output_type": "display_data"
    }
   ],
   "source": [
    "importances = RF.feature_importances_\n",
    "indices = (np.argsort(importances))[:]\n",
    "plt.figure(figsize=(20,12))\n",
    "plt.title('Feature Importances')\n",
    "plt.barh(range(len(indices)), importances[indices], color='r', align='center')\n",
    "plt.yticks(range(len(indices)), [features[i] for i in indices])\n",
    "plt.xlabel('Relative Importance')\n",
    "plt.show()"
   ]
  },
  {
   "cell_type": "code",
   "execution_count": 20,
   "id": "66e3d1ab",
   "metadata": {},
   "outputs": [],
   "source": [
    "y_train_pred = RF.predict_proba(X_train)\n",
    "y_test_pred = RF.predict_proba(X_test)"
   ]
  },
  {
   "cell_type": "code",
   "execution_count": 21,
   "id": "6d294bf9",
   "metadata": {},
   "outputs": [
    {
     "name": "stdout",
     "output_type": "stream",
     "text": [
      "Train log_loss:0.009149798548948868\n",
      "Test log_loss:0.8016858169944082\n"
     ]
    }
   ],
   "source": [
    "print(f\"Train log_loss:{log_loss(y_train, y_train_pred)}\")\n",
    "print(f\"Test log_loss:{log_loss(y_test, y_test_pred)}\")"
   ]
  },
  {
   "cell_type": "markdown",
   "id": "1e624af4",
   "metadata": {},
   "source": [
    "### Its also overfitting but not as much as decision trees, Lets try on kaggle data!"
   ]
  },
  {
   "cell_type": "code",
   "execution_count": 24,
   "id": "00972bac",
   "metadata": {},
   "outputs": [
    {
     "name": "stdout",
     "output_type": "stream",
     "text": [
      "[array(['LOFT'], dtype=object)]\n"
     ]
    }
   ],
   "source": [
    "test_df = pd.read_csv(\"test.csv\")\n",
    "test_df_ = test_df.drop([ 'id'], axis=1 )\n",
    "exp_test = np.expand_dims(test_df_['experiment'].values, axis=1)\n",
    "enc = OrdinalEncoder()\n",
    "enc.fit(exp_test)\n",
    "print(enc.categories_)\n",
    "test_df_['experiment'] = enc.fit_transform(exp_test)\n",
    "\n"
   ]
  },
  {
   "cell_type": "code",
   "execution_count": 29,
   "id": "417fad48",
   "metadata": {},
   "outputs": [],
   "source": [
    "y_pred_simple = RF.predict_proba(test_df_)"
   ]
  },
  {
   "cell_type": "code",
   "execution_count": 30,
   "id": "8c0e79d4",
   "metadata": {},
   "outputs": [],
   "source": [
    "sub = pd.DataFrame(np.concatenate((np.arange(len(test_df_))[:, np.newaxis], y_pred_simple), axis=1), columns=['id', 'A', 'B', 'C', 'D'],)\n",
    "sub['id'] = sub['id'].astype(int)"
   ]
  },
  {
   "cell_type": "code",
   "execution_count": 31,
   "id": "e1c47cd9",
   "metadata": {},
   "outputs": [],
   "source": [
    "sub.to_csv('result_RF_simple.csv', index=False)"
   ]
  },
  {
   "cell_type": "markdown",
   "id": "6b4c3a6a",
   "metadata": {},
   "source": [
    "![title](RF_simple.png)"
   ]
  },
  {
   "cell_type": "markdown",
   "id": "4ce57497",
   "metadata": {},
   "source": [
    "#### Extremely poor perfomance on Kaggle dataset!"
   ]
  },
  {
   "cell_type": "code",
   "execution_count": null,
   "id": "ae995da4",
   "metadata": {},
   "outputs": [],
   "source": []
  },
  {
   "cell_type": "code",
   "execution_count": null,
   "id": "9ebe8de1",
   "metadata": {},
   "outputs": [],
   "source": []
  },
  {
   "cell_type": "code",
   "execution_count": null,
   "id": "dbe169c8",
   "metadata": {},
   "outputs": [],
   "source": []
  },
  {
   "cell_type": "code",
   "execution_count": null,
   "id": "b1506daa",
   "metadata": {},
   "outputs": [],
   "source": []
  },
  {
   "cell_type": "markdown",
   "id": "28d0b0c3",
   "metadata": {},
   "source": [
    "## Its time for a Neural Network!"
   ]
  },
  {
   "cell_type": "code",
   "execution_count": 2,
   "id": "5d30efe0",
   "metadata": {},
   "outputs": [],
   "source": [
    "import tensorflow as tf\n",
    "# tf.compat.v1.enable_eager_execution()\n",
    "from tensorflow import keras\n",
    "from tensorflow.keras.layers import *\n",
    "from tensorflow.keras.preprocessing import image\n",
    "from tensorflow.keras.models import Model, load_model\n",
    "from tensorflow.keras.layers import UpSampling2D\n",
    "from tensorflow.keras.layers import MaxPooling2D, GlobalAveragePooling2D\n",
    "from tensorflow.keras.layers import concatenate\n",
    "from tensorflow.keras.layers import Multiply\n",
    "from tensorflow.keras.callbacks import EarlyStopping, ModelCheckpoint\n",
    "from tensorflow.keras import backend as K\n",
    "from tensorflow.keras.layers import Input, Add, Dense, Activation, ZeroPadding2D, BatchNormalization, Flatten, Conv2D, AveragePooling2D, MaxPooling2D, GlobalMaxPooling2D\n",
    "from tensorflow.keras.models import Model, load_model, Sequential\n",
    " \n",
    "os.environ['TF_FORCE_GPU_ALLOW_GROWTH'] = 'true'\n",
    "\n",
    "# CuDNNLSTM\n",
    "from tensorflow.keras.layers import Embedding\n",
    "from keras import initializers\n",
    "from keras.models import Sequential\n",
    "from keras.layers import Dense, Conv1D, Concatenate, MaxPooling1D\n",
    "from keras.layers import Flatten, Dropout\n",
    "from tensorflow import keras\n",
    "from tensorflow.keras.callbacks import Callback, ModelCheckpoint, EarlyStopping, TensorBoard, LearningRateScheduler\n",
    "from sklearn.metrics import recall_score, f1_score, roc_curve, auc\n",
    "import datetime\n",
    " "
   ]
  },
  {
   "cell_type": "code",
   "execution_count": 5,
   "id": "5c0beff9",
   "metadata": {},
   "outputs": [],
   "source": [
    "raw = pd.read_csv(\"train.csv\")"
   ]
  },
  {
   "cell_type": "code",
   "execution_count": 6,
   "id": "803aefa7",
   "metadata": {},
   "outputs": [],
   "source": [
    "Y = raw['event']\n",
    "X = raw.drop('event',axis=1)"
   ]
  },
  {
   "cell_type": "code",
   "execution_count": 42,
   "id": "98844f11",
   "metadata": {},
   "outputs": [
    {
     "name": "stdout",
     "output_type": "stream",
     "text": [
      "X_train.shape:(3893936, 27)\n",
      "y_train.shape:(3893936,)\n",
      "X_test.shape:(973485, 27)\n",
      "y_test.shape:(973485,)\n"
     ]
    }
   ],
   "source": [
    "X_train, X_test, y_train, y_test = train_test_split(X,Y, test_size=.2, shuffle=False)\n",
    "print(f\"X_train.shape:{X_train.shape}\")\n",
    "print(f\"y_train.shape:{y_train.shape}\")\n",
    "print(f\"X_test.shape:{X_test.shape}\")\n",
    "print(f\"y_test.shape:{y_test.shape}\")"
   ]
  },
  {
   "cell_type": "code",
   "execution_count": 26,
   "id": "a00c3b24",
   "metadata": {},
   "outputs": [],
   "source": [
    "# d = {'A': 0, 'B': 1, 'C': 2, 'D': 3}\n",
    "# y_train_ = np.array(list(map(lambda x: d[x], y_train)))\n",
    "# y_test_ =  np.array(list(map(lambda x: d[x], y_test)))\n",
    "# from tensorflow.keras.utils import to_categorical\n",
    "# y_train_ohe = to_categorical(y_train_, dtype='int32')\n",
    "# y_test_one = to_categorical(y_test_ , dtype='int32')\n",
    "from sklearn.preprocessing import LabelBinarizer\n",
    "label_as_binary = LabelBinarizer()\n",
    "f = label_as_binary.fit(y_train)\n",
    "y_train_e = f.transform(y_train)\n",
    "y_test_e = f.transform(y_test)"
   ]
  },
  {
   "cell_type": "code",
   "execution_count": 54,
   "id": "a266cd93",
   "metadata": {},
   "outputs": [
    {
     "data": {
      "text/plain": [
       "array([['CA'],\n",
       "       ['CA'],\n",
       "       ['CA'],\n",
       "       ...,\n",
       "       ['CA'],\n",
       "       ['CA'],\n",
       "       ['CA']], dtype=object)"
      ]
     },
     "execution_count": 54,
     "metadata": {},
     "output_type": "execute_result"
    }
   ],
   "source": [
    "\n"
   ]
  },
  {
   "cell_type": "code",
   "execution_count": 56,
   "id": "be717515",
   "metadata": {},
   "outputs": [
    {
     "name": "stdout",
     "output_type": "stream",
     "text": [
      "[array(['CA', 'DA', 'SS'], dtype=object)]\n"
     ]
    }
   ],
   "source": [
    "# X_train['experiment'] = X_train['experiment'].astype('category')\n",
    "# X_test['experiment'] = X_test['experiment'].astype('category')\n",
    "from sklearn.preprocessing import OrdinalEncoder\n",
    "exp_train = np.expand_dims(X_train['experiment'].values, axis=1)\n",
    "exp_test = np.expand_dims(X_test['experiment'].values, axis=1)\n",
    "enc = OrdinalEncoder()\n",
    "enc.fit(exp_train)\n",
    "print(enc.categories_)\n",
    "X_train['experiment'] = enc.fit_transform(exp_train)\n",
    "X_test['experiment'] = enc.fit_transform(exp_test)\n",
    "\n",
    "\n",
    "\n"
   ]
  },
  {
   "cell_type": "code",
   "execution_count": 57,
   "id": "24782f8d",
   "metadata": {},
   "outputs": [],
   "source": [
    "inputs = tf.keras.Input(shape=(27,))\n",
    "x = Dense(128, activation=\"relu\")(inputs)\n",
    "x = Dense(64, activation=\"relu\")(x)\n",
    "x = Dense(32, activation=\"relu\")(x)\n",
    "x = Dense(16, activation=\"relu\")(x) \n",
    "states = Dense(4, activation=\"softmax\")(x)  \n",
    "model = Model(inputs=inputs, outputs=states, name=\"mnist_model\")"
   ]
  },
  {
   "cell_type": "code",
   "execution_count": 58,
   "id": "633f45e6",
   "metadata": {},
   "outputs": [
    {
     "name": "stdout",
     "output_type": "stream",
     "text": [
      "Model: \"mnist_model\"\n",
      "_________________________________________________________________\n",
      " Layer (type)                Output Shape              Param #   \n",
      "=================================================================\n",
      " input_2 (InputLayer)        [(None, 27)]              0         \n",
      "                                                                 \n",
      " dense_5 (Dense)             (None, 128)               3584      \n",
      "                                                                 \n",
      " dense_6 (Dense)             (None, 64)                8256      \n",
      "                                                                 \n",
      " dense_7 (Dense)             (None, 32)                2080      \n",
      "                                                                 \n",
      " dense_8 (Dense)             (None, 16)                528       \n",
      "                                                                 \n",
      " dense_9 (Dense)             (None, 4)                 68        \n",
      "                                                                 \n",
      "=================================================================\n",
      "Total params: 14,516\n",
      "Trainable params: 14,516\n",
      "Non-trainable params: 0\n",
      "_________________________________________________________________\n"
     ]
    }
   ],
   "source": [
    "model.summary()"
   ]
  },
  {
   "cell_type": "code",
   "execution_count": 59,
   "id": "38ce8a41",
   "metadata": {},
   "outputs": [],
   "source": [
    "import datetime \n",
    "filepath=\"model_save/weights-{epoch:02d}-{val_accuracy:.4f}.hdf5\"\n",
    "checkpoint = ModelCheckpoint(filepath=filepath, monitor='val_accuracy',  verbose=1, save_best_only=True, mode='auto')\n",
    "log_dir = os.path.join(\"logs\",'fits', datetime.datetime.now().strftime(\"%Y%m%d-%H%M%S\"))\n",
    "tensorboard_callback = TensorBoard(log_dir=log_dir,histogram_freq=1,write_graph=True)"
   ]
  },
  {
   "cell_type": "code",
   "execution_count": 60,
   "id": "4202475b",
   "metadata": {},
   "outputs": [
    {
     "name": "stdout",
     "output_type": "stream",
     "text": [
      "Not found\n"
     ]
    }
   ],
   "source": [
    "import shutil\n",
    "try:\n",
    "    shutil.rmtree('./logs/')\n",
    "except:\n",
    "    print(\"Not found\")\n",
    "model.compile(optimizer=\"adam\", loss=\"categorical_crossentropy\", metrics=['accuracy'])"
   ]
  },
  {
   "cell_type": "code",
   "execution_count": 61,
   "id": "fc2ccb93",
   "metadata": {},
   "outputs": [
    {
     "name": "stdout",
     "output_type": "stream",
     "text": [
      "Epoch 1/10\n",
      "30405/30422 [============================>.] - ETA: 0s - loss: 0.8245 - accuracy: 0.6523\n",
      "Epoch 1: val_accuracy improved from -inf to 0.61931, saving model to model_save\\weights-01-0.6193.hdf5\n",
      "30422/30422 [==============================] - 97s 3ms/step - loss: 0.8244 - accuracy: 0.6523 - val_loss: 2.9547 - val_accuracy: 0.6193\n",
      "Epoch 2/10\n",
      "30422/30422 [==============================] - ETA: 0s - loss: 0.6847 - accuracy: 0.6843\n",
      "Epoch 2: val_accuracy improved from 0.61931 to 0.68014, saving model to model_save\\weights-02-0.6801.hdf5\n",
      "30422/30422 [==============================] - 95s 3ms/step - loss: 0.6847 - accuracy: 0.6843 - val_loss: 3.5355 - val_accuracy: 0.6801\n",
      "Epoch 3/10\n",
      "30421/30422 [============================>.] - ETA: 0s - loss: 0.6737 - accuracy: 0.6873\n",
      "Epoch 3: val_accuracy did not improve from 0.68014\n",
      "30422/30422 [==============================] - 95s 3ms/step - loss: 0.6737 - accuracy: 0.6873 - val_loss: 5.7700 - val_accuracy: 0.6481\n",
      "Epoch 4/10\n",
      "30412/30422 [============================>.] - ETA: 0s - loss: 0.6703 - accuracy: 0.6885\n",
      "Epoch 4: val_accuracy improved from 0.68014 to 0.70149, saving model to model_save\\weights-04-0.7015.hdf5\n",
      "30422/30422 [==============================] - 96s 3ms/step - loss: 0.6703 - accuracy: 0.6885 - val_loss: 3.7824 - val_accuracy: 0.7015\n",
      "Epoch 5/10\n",
      "30417/30422 [============================>.] - ETA: 0s - loss: 0.6688 - accuracy: 0.6914\n",
      "Epoch 5: val_accuracy did not improve from 0.70149\n",
      "30422/30422 [==============================] - 96s 3ms/step - loss: 0.6688 - accuracy: 0.6914 - val_loss: 8.3459 - val_accuracy: 0.6920\n",
      "Epoch 6/10\n",
      "30419/30422 [============================>.] - ETA: 0s - loss: 0.6614 - accuracy: 0.6948\n",
      "Epoch 6: val_accuracy did not improve from 0.70149\n",
      "30422/30422 [==============================] - 96s 3ms/step - loss: 0.6614 - accuracy: 0.6948 - val_loss: 4.1953 - val_accuracy: 0.6763\n",
      "Epoch 7/10\n",
      "30413/30422 [============================>.] - ETA: 0s - loss: 0.6599 - accuracy: 0.6954\n",
      "Epoch 7: val_accuracy did not improve from 0.70149\n",
      "30422/30422 [==============================] - 97s 3ms/step - loss: 0.6599 - accuracy: 0.6954 - val_loss: 7.0964 - val_accuracy: 0.6698\n",
      "Epoch 8/10\n",
      "30419/30422 [============================>.] - ETA: 0s - loss: 0.6605 - accuracy: 0.6952\n",
      "Epoch 8: val_accuracy did not improve from 0.70149\n",
      "30422/30422 [==============================] - 96s 3ms/step - loss: 0.6605 - accuracy: 0.6952 - val_loss: 5.2156 - val_accuracy: 0.6319\n",
      "Epoch 9/10\n",
      "30408/30422 [============================>.] - ETA: 0s - loss: 0.6597 - accuracy: 0.6956\n",
      "Epoch 9: val_accuracy improved from 0.70149 to 0.71127, saving model to model_save\\weights-09-0.7113.hdf5\n",
      "30422/30422 [==============================] - 97s 3ms/step - loss: 0.6597 - accuracy: 0.6956 - val_loss: 3.9919 - val_accuracy: 0.7113\n",
      "Epoch 10/10\n",
      "30415/30422 [============================>.] - ETA: 0s - loss: 0.6588 - accuracy: 0.6960\n",
      "Epoch 10: val_accuracy did not improve from 0.71127\n",
      "30422/30422 [==============================] - 96s 3ms/step - loss: 0.6588 - accuracy: 0.6960 - val_loss: 9.9797 - val_accuracy: 0.6646\n"
     ]
    }
   ],
   "source": [
    "history = model.fit(X_train,y_train_e,epochs=10, validation_data=(X_test,y_test_e), batch_size=128, callbacks=[checkpoint,\\\n",
    "                                                                                              tensorboard_callback])"
   ]
  },
  {
   "cell_type": "code",
   "execution_count": 71,
   "id": "a0e00d6c",
   "metadata": {},
   "outputs": [
    {
     "data": {
      "text/plain": [
       "<matplotlib.legend.Legend at 0x1edbf4deaf0>"
      ]
     },
     "execution_count": 71,
     "metadata": {},
     "output_type": "execute_result"
    },
    {
     "data": {
      "image/png": "[encoded data removed]",
      "text/plain": [
       "<Figure size 432x288 with 1 Axes>"
      ]
     },
     "metadata": {
      "needs_background": "light"
     },
     "output_type": "display_data"
    }
   ],
   "source": [
    "epoch = 10\n",
    "val_loss = history.history['val_loss']\n",
    "val_acc = history.history['val_accuracy'] \n",
    "loss = history.history['loss'] \n",
    "acc = history.history['accuracy'] \n",
    "plt.xlabel('epoch')\n",
    "plt.ylabel('loss/acc/val/loss/val_acc')\n",
    "plt.title('Learning')\n",
    "plt.plot(range(epoch), loss, label = \"loss\")\n",
    "plt.plot(range(epoch), acc, label = \"acc\") \n",
    "# plt.plot(range(epoch), val_loss, label = \"val_loss\")\n",
    "plt.plot(range(epoch), val_acc, label = \"val_acc\") \n",
    "plt.legend()\n"
   ]
  },
  {
   "cell_type": "code",
   "execution_count": 62,
   "id": "cb937fdd",
   "metadata": {},
   "outputs": [
    {
     "name": "stdout",
     "output_type": "stream",
     "text": [
      "Epoch 1/20\n",
      "30413/30422 [============================>.] - ETA: 0s - loss: 0.6642 - accuracy: 0.6971\n",
      "Epoch 1: val_accuracy did not improve from 0.71127\n",
      "30422/30422 [==============================] - 96s 3ms/step - loss: 0.6642 - accuracy: 0.6971 - val_loss: 18.4843 - val_accuracy: 0.6075\n",
      "Epoch 2/20\n",
      "30410/30422 [============================>.] - ETA: 0s - loss: 0.5596 - accuracy: 0.7796\n",
      "Epoch 2: val_accuracy did not improve from 0.71127\n",
      "30422/30422 [==============================] - 95s 3ms/step - loss: 0.5596 - accuracy: 0.7796 - val_loss: 35.9778 - val_accuracy: 0.6461\n",
      "Epoch 3/20\n",
      "30419/30422 [============================>.] - ETA: 0s - loss: 0.5467 - accuracy: 0.7844\n",
      "Epoch 3: val_accuracy did not improve from 0.71127\n",
      "30422/30422 [==============================] - 96s 3ms/step - loss: 0.5467 - accuracy: 0.7844 - val_loss: 3.3055 - val_accuracy: 0.7007\n",
      "Epoch 4/20\n",
      "30412/30422 [============================>.] - ETA: 0s - loss: 0.2694 - accuracy: 0.9259\n",
      "Epoch 4: val_accuracy did not improve from 0.71127\n",
      "30422/30422 [==============================] - 94s 3ms/step - loss: 0.2693 - accuracy: 0.9259 - val_loss: 4.2735 - val_accuracy: 0.6557\n",
      "Epoch 5/20\n",
      "30422/30422 [==============================] - ETA: 0s - loss: 0.2204 - accuracy: 0.9351\n",
      "Epoch 5: val_accuracy did not improve from 0.71127\n",
      "30422/30422 [==============================] - 96s 3ms/step - loss: 0.2204 - accuracy: 0.9351 - val_loss: 4.1022 - val_accuracy: 0.6644\n",
      "Epoch 6/20\n",
      "30415/30422 [============================>.] - ETA: 0s - loss: 0.1944 - accuracy: 0.9366\n",
      "Epoch 6: val_accuracy did not improve from 0.71127\n",
      "30422/30422 [==============================] - 93s 3ms/step - loss: 0.1945 - accuracy: 0.9366 - val_loss: 1.4770 - val_accuracy: 0.6967\n",
      "Epoch 7/20\n",
      "30420/30422 [============================>.] - ETA: 0s - loss: 0.1788 - accuracy: 0.9391\n",
      "Epoch 7: val_accuracy did not improve from 0.71127\n",
      "30422/30422 [==============================] - 99s 3ms/step - loss: 0.1788 - accuracy: 0.9391 - val_loss: 12.2938 - val_accuracy: 0.7086\n",
      "Epoch 8/20\n",
      "30422/30422 [==============================] - ETA: 0s - loss: 0.1761 - accuracy: 0.9403\n",
      "Epoch 8: val_accuracy did not improve from 0.71127\n",
      "30422/30422 [==============================] - 100s 3ms/step - loss: 0.1761 - accuracy: 0.9403 - val_loss: 2.6163 - val_accuracy: 0.6802\n",
      "Epoch 9/20\n",
      "30411/30422 [============================>.] - ETA: 0s - loss: 0.1605 - accuracy: 0.9432\n",
      "Epoch 9: val_accuracy did not improve from 0.71127\n",
      "30422/30422 [==============================] - 99s 3ms/step - loss: 0.1605 - accuracy: 0.9432 - val_loss: 4.3273 - val_accuracy: 0.6711\n",
      "Epoch 10/20\n",
      "30412/30422 [============================>.] - ETA: 0s - loss: 0.1656 - accuracy: 0.9428\n",
      "Epoch 10: val_accuracy did not improve from 0.71127\n",
      "30422/30422 [==============================] - 100s 3ms/step - loss: 0.1656 - accuracy: 0.9428 - val_loss: 2.5314 - val_accuracy: 0.6827\n",
      "Epoch 11/20\n",
      "30419/30422 [============================>.] - ETA: 0s - loss: 0.1504 - accuracy: 0.9460\n",
      "Epoch 11: val_accuracy did not improve from 0.71127\n",
      "30422/30422 [==============================] - 98s 3ms/step - loss: 0.1504 - accuracy: 0.9460 - val_loss: 5.0168 - val_accuracy: 0.6541\n",
      "Epoch 12/20\n",
      "30420/30422 [============================>.] - ETA: 0s - loss: 0.1630 - accuracy: 0.9434\n",
      "Epoch 12: val_accuracy did not improve from 0.71127\n",
      "30422/30422 [==============================] - 490s 16ms/step - loss: 0.1630 - accuracy: 0.9434 - val_loss: 5.8892 - val_accuracy: 0.6681\n",
      "Epoch 13/20\n",
      "30407/30422 [============================>.] - ETA: 0s - loss: 0.1578 - accuracy: 0.9436\n",
      "Epoch 13: val_accuracy improved from 0.71127 to 0.76626, saving model to model_save\\weights-13-0.7663.hdf5\n",
      "30422/30422 [==============================] - 82s 3ms/step - loss: 0.1578 - accuracy: 0.9436 - val_loss: 19.5290 - val_accuracy: 0.7663\n",
      "Epoch 14/20\n",
      "30404/30422 [============================>.] - ETA: 0s - loss: 0.1607 - accuracy: 0.9441\n",
      "Epoch 14: val_accuracy did not improve from 0.76626\n",
      "30422/30422 [==============================] - 78s 3ms/step - loss: 0.1607 - accuracy: 0.9441 - val_loss: 3.9654 - val_accuracy: 0.7293\n",
      "Epoch 15/20\n",
      "30409/30422 [============================>.] - ETA: 0s - loss: 0.1585 - accuracy: 0.9455\n",
      "Epoch 15: val_accuracy did not improve from 0.76626\n",
      "30422/30422 [==============================] - 78s 3ms/step - loss: 0.1586 - accuracy: 0.9454 - val_loss: 4.3742 - val_accuracy: 0.6688\n",
      "Epoch 16/20\n",
      "30412/30422 [============================>.] - ETA: 0s - loss: 0.1976 - accuracy: 0.9378\n",
      "Epoch 16: val_accuracy did not improve from 0.76626\n",
      "30422/30422 [==============================] - 78s 3ms/step - loss: 0.1975 - accuracy: 0.9378 - val_loss: 6.6103 - val_accuracy: 0.6585\n",
      "Epoch 17/20\n",
      "30402/30422 [============================>.] - ETA: 0s - loss: 0.1566 - accuracy: 0.9443\n",
      "Epoch 17: val_accuracy did not improve from 0.76626\n",
      "30422/30422 [==============================] - 78s 3ms/step - loss: 0.1566 - accuracy: 0.9443 - val_loss: 13.4230 - val_accuracy: 0.6716\n",
      "Epoch 18/20\n",
      "30417/30422 [============================>.] - ETA: 0s - loss: 0.1839 - accuracy: 0.9380\n",
      "Epoch 18: val_accuracy did not improve from 0.76626\n",
      "30422/30422 [==============================] - 117s 4ms/step - loss: 0.1839 - accuracy: 0.9380 - val_loss: 2.7863 - val_accuracy: 0.7133\n",
      "Epoch 19/20\n",
      "30416/30422 [============================>.] - ETA: 0s - loss: 0.1711 - accuracy: 0.9404\n",
      "Epoch 19: val_accuracy did not improve from 0.76626\n",
      "30422/30422 [==============================] - 97s 3ms/step - loss: 0.1711 - accuracy: 0.9404 - val_loss: 3.9635 - val_accuracy: 0.7380\n",
      "Epoch 20/20\n",
      "30408/30422 [============================>.] - ETA: 0s - loss: 0.1683 - accuracy: 0.9402\n",
      "Epoch 20: val_accuracy did not improve from 0.76626\n",
      "30422/30422 [==============================] - 78s 3ms/step - loss: 0.1683 - accuracy: 0.9402 - val_loss: 9.5117 - val_accuracy: 0.7416\n"
     ]
    }
   ],
   "source": [
    "history2 = model.fit(X_train,y_train_e,epochs=20, validation_data=(X_test,y_test_e), batch_size=128, callbacks=[checkpoint,\\\n",
    "                                                                                              tensorboard_callback])"
   ]
  },
  {
   "cell_type": "markdown",
   "id": "025172be",
   "metadata": {},
   "source": [
    "# BEST MODEL\n",
    "* At epoch 13, val_accuracy: **0.76** "
   ]
  },
  {
   "cell_type": "code",
   "execution_count": 70,
   "id": "4cfe6b06",
   "metadata": {},
   "outputs": [
    {
     "data": {
      "text/plain": [
       "<matplotlib.legend.Legend at 0x1edbf45e280>"
      ]
     },
     "execution_count": 70,
     "metadata": {},
     "output_type": "execute_result"
    },
    {
     "data": {
      "image/png": "[encoded data removed]",
      "text/plain": [
       "<Figure size 432x288 with 1 Axes>"
      ]
     },
     "metadata": {
      "needs_background": "light"
     },
     "output_type": "display_data"
    }
   ],
   "source": [
    "epoch = 20\n",
    "val_loss = history2.history['val_loss']\n",
    "val_acc = history2.history['val_accuracy'] \n",
    "loss = history2.history['loss'] \n",
    "acc = history2.history['accuracy'] \n",
    "plt.xlabel('epoch')\n",
    "plt.ylabel('loss/acc/val/loss/val_acc')\n",
    "plt.title('Learning')\n",
    "plt.plot(range(epoch), loss, label = \"loss\")\n",
    "plt.plot(range(epoch), acc, label = \"acc\") \n",
    "# plt.plot(range(epoch), val_loss, label = \"val_loss\")\n",
    "plt.plot(range(epoch), val_acc, label = \"val_acc\") \n",
    "plt.legend()\n"
   ]
  },
  {
   "cell_type": "code",
   "execution_count": 86,
   "id": "5092a393",
   "metadata": {},
   "outputs": [],
   "source": [
    "%load_ext tensorboard"
   ]
  },
  {
   "cell_type": "code",
   "execution_count": 87,
   "id": "bf8c2773",
   "metadata": {},
   "outputs": [
    {
     "data": {
      "text/html": [
       "\n",
       "      <iframe id=\"tensorboard-frame-c729390e1b62afe3\" width=\"100%\" height=\"800\" frameborder=\"0\">\n",
       "      </iframe>\n",
       "      <script>\n",
       "        (function() {\n",
       "          const frame = document.getElementById(\"tensorboard-frame-c729390e1b62afe3\");\n",
       "          const url = new URL(\"/\", window.location);\n",
       "          const port = 8088;\n",
       "          if (port) {\n",
       "            url.port = port;\n",
       "          }\n",
       "          frame.src = url;\n",
       "        })();\n",
       "      </script>\n",
       "    "
      ],
      "text/plain": [
       "<IPython.core.display.HTML object>"
      ]
     },
     "metadata": {},
     "output_type": "display_data"
    }
   ],
   "source": [
    "tensorboard --logdir=logs/fits  --host localhost --port 8088"
   ]
  },
  {
   "cell_type": "code",
   "execution_count": 5,
   "id": "9e6f0331",
   "metadata": {},
   "outputs": [
    {
     "name": "stdout",
     "output_type": "stream",
     "text": [
      "[array(['LOFT'], dtype=object)]\n"
     ]
    }
   ],
   "source": [
    "from sklearn.preprocessing import OrdinalEncoder\n",
    "test_df = pd.read_csv(\"test.csv\")\n",
    "test_df_ = test_df.drop([ 'id'], axis=1 )\n",
    "exp_te = np.expand_dims(test_df_['experiment'].values, axis=1)\n",
    "enc = OrdinalEncoder()\n",
    "enc.fit(exp_te)\n",
    "print(enc.categories_)\n",
    "test_df_['experiment'] = enc.fit_transform(exp_te)  "
   ]
  },
  {
   "cell_type": "code",
   "execution_count": 3,
   "id": "34ca94ee",
   "metadata": {},
   "outputs": [],
   "source": [
    "best_model_loaded = tf.keras.models.load_model(\"model_save/weights-13-0.7663.hdf5\", compile=False) "
   ]
  },
  {
   "cell_type": "markdown",
   "id": "e9f1b066",
   "metadata": {},
   "source": [
    "## CAN'T to prediction on 4GB test data 'cause of OOM error (even 24 GB RAM not enough), same problem in Colab So,  testing in chunks!"
   ]
  },
  {
   "cell_type": "code",
   "execution_count": 6,
   "id": "d99a7dcc",
   "metadata": {},
   "outputs": [
    {
     "name": "stdout",
     "output_type": "stream",
     "text": [
      "(17965143, 27)\n"
     ]
    }
   ],
   "source": [
    "print(test_df_.shape)"
   ]
  },
  {
   "cell_type": "markdown",
   "id": "1aba8d79",
   "metadata": {},
   "source": [
    "## Making prediction on a chunk of size 1000000, will prevent OOM error!"
   ]
  },
  {
   "cell_type": "code",
   "execution_count": 96,
   "id": "e42103f2",
   "metadata": {},
   "outputs": [
    {
     "name": "stderr",
     "output_type": "stream",
     "text": [
      "100%|██████████████████████████████████████████████████████████████████████████████████| 18/18 [07:15<00:00, 24.21s/it]\n"
     ]
    }
   ],
   "source": [
    "from tqdm import tqdm\n",
    "i, j, cnt = 0, 1000000, 1\n",
    "stacked_pred = np.zeros((1,4))\n",
    "for _ in tqdm(range(18)):\n",
    "    chunk = test_df_.iloc[i:j]\n",
    "    y_pred_nn = best_model_loaded.predict(chunk)\n",
    "    stacked_pred = np.vstack((stacked_pred, y_pred_nn))\n",
    "    i = j\n",
    "    j = i + 1000000\n",
    "    cnt += 1\n",
    "    \n",
    "    "
   ]
  },
  {
   "cell_type": "code",
   "execution_count": 101,
   "id": "f20e9104",
   "metadata": {},
   "outputs": [],
   "source": [
    "sub = pd.DataFrame(np.concatenate((np.arange(len(test_df_))[:, np.newaxis], stacked_pred[1:, :]), axis=1), columns=['id', 'A', 'B', 'C', 'D'],)\n",
    "sub['id'] = sub['id'].astype(int)"
   ]
  },
  {
   "cell_type": "code",
   "execution_count": 102,
   "id": "4f13aaff",
   "metadata": {},
   "outputs": [],
   "source": [
    "sub.to_csv('result_neural_network.csv', index=False)"
   ]
  },
  {
   "cell_type": "markdown",
   "id": "b6b6ed3c",
   "metadata": {},
   "source": [
    "![title](NN_no_fe_score.png)"
   ]
  },
  {
   "cell_type": "markdown",
   "id": "fc64afdf",
   "metadata": {},
   "source": [
    "# Extremely Poor results on Neural network model on Kaggle!"
   ]
  },
  {
   "cell_type": "code",
   "execution_count": 82,
   "id": "4a2e9072",
   "metadata": {},
   "outputs": [],
   "source": [
    "# TF_ENABLE_GPU_GARBAGE_COLLECTION=False"
   ]
  },
  {
   "cell_type": "code",
   "execution_count": 84,
   "id": "00cce41a",
   "metadata": {},
   "outputs": [
    {
     "name": "stdout",
     "output_type": "stream",
     "text": [
      "INFO:tensorflow:Assets written to: ram://a4df09ee-865b-458b-846e-dcec2f7dd2ef/assets\n"
     ]
    },
    {
     "data": {
      "text/plain": [
       "['model']"
      ]
     },
     "execution_count": 84,
     "metadata": {},
     "output_type": "execute_result"
    }
   ],
   "source": [
    "# joblib.dump(model, \"model\")"
   ]
  },
  {
   "cell_type": "markdown",
   "id": "7de26c0d",
   "metadata": {},
   "source": [
    "# Summary"
   ]
  },
  {
   "cell_type": "markdown",
   "id": "4de54aee",
   "metadata": {},
   "source": [
    "Log loss on TRAIN Data using Random Model **1.6444425154133833**\n",
    "\n",
    "Log loss on TEST Data using Random Model **1.64606303273689**"
   ]
  },
  {
   "cell_type": "code",
   "execution_count": 43,
   "id": "37ecad81",
   "metadata": {},
   "outputs": [
    {
     "name": "stdout",
     "output_type": "stream",
     "text": [
      "+---------------------+------------------------------------------------+---------------+------------+-----------------------+\n",
      "|        Model        |                    Approach                    | train logloss | cv logloss | Kaggle score(private) |\n",
      "+---------------------+------------------------------------------------+---------------+------------+-----------------------+\n",
      "| Logistic regression |            No FE + min-max scaling             |     0.915     |   0.915    |         10.97         |\n",
      "|    Decision tree    |            No FE + min-max scaling             |     0.010     |   0.0115   |         10.55         |\n",
      "|    Random forest    |            No FE + min-max scaling             |      0.02     |   0.074    |         2.245         |\n",
      "|    Neural network   | No FE + No min-max scaling + using all columns |      0.16     |    0.94    |          5.26         |\n",
      "|      Light GBM      |            No FE + min-max scaling             |     0.0424    |   0.0425   |          1.05         |\n",
      "|      Light GBM      | No FE + No min-max scaling + using all columns |    0.135998   |  0.372470  |          0.53         |\n",
      "+---------------------+------------------------------------------------+---------------+------------+-----------------------+\n"
     ]
    }
   ],
   "source": [
    "from prettytable import PrettyTable \n",
    "\n",
    "myTable = PrettyTable([\"Model\", \"Approach\",\"train logloss\", \"cv logloss\", \"Kaggle score(private)\"])\n",
    "  \n",
    "\n",
    "myTable.add_row([\"Logistic regression\",\"No FE + min-max scaling\", \"0.915\", \"0.915\", \"10.97\"])\n",
    "myTable.add_row([\"Decision tree\",\"No FE + min-max scaling\", \"0.010\", \"0.0115\", \"10.55\"])\n",
    "myTable.add_row([\"Random forest\",\"No FE + min-max scaling\", \"0.02\", \"0.074\", \"2.245\"])\n",
    "myTable.add_row([\"Neural network\",\"No FE + No min-max scaling + using all columns\", \"0.16\", \"0.94\", \"5.26\"])\n",
    "myTable.add_row([\"Light GBM\",\"No FE + min-max scaling\", \"0.0424\", \"0.0425\", \"1.05\"])\n",
    "myTable.add_row([\"Light GBM\",\"No FE + No min-max scaling + using all columns\", \"0.135998\", \"0.372470\", \"0.53\"])\n",
    "print(myTable)"
   ]
  },
  {
   "cell_type": "markdown",
   "id": "4e159b4f",
   "metadata": {},
   "source": [
    "## ALL models are doing bettter than Random model"
   ]
  }
 ],
 "metadata": {
  "kernelspec": {
   "display_name": "Python 3 (ipykernel)",
   "language": "python",
   "name": "python3"
  },
  "language_info": {
   "codemirror_mode": {
    "name": "ipython",
    "version": 3
   },
   "file_extension": ".py",
   "mimetype": "text/x-python",
   "name": "python",
   "nbconvert_exporter": "python",
   "pygments_lexer": "ipython3",
   "version": "3.9.7"
  }
 },
 "nbformat": 4,
 "nbformat_minor": 5
}
