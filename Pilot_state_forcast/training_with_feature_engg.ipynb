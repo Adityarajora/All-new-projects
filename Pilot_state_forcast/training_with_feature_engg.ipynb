{
 "cells": [
  {
   "cell_type": "markdown",
   "id": "4e1fe2b3",
   "metadata": {},
   "source": [
    "# Apply some feature engineering and check whether it will outperform data with no feature engineering"
   ]
  },
  {
   "cell_type": "markdown",
   "id": "a2458767",
   "metadata": {},
   "source": [
    "As I've tried various model in previous notebook, in this notebook using only(with **feature engineering** and top **16 features**)\n",
    "* Light gradient boosting machine\n",
    "* Random forest\n",
    "* Multi layered perceptron\n",
    "\n",
    "(Others are really poor on Kaggle dataset)"
   ]
  },
  {
   "cell_type": "code",
   "execution_count": 2,
   "id": "fa6641ec",
   "metadata": {},
   "outputs": [],
   "source": [
    "import numpy as np\n",
    "import pandas as pd\n",
    "import matplotlib.pyplot as plt\n",
    "from sklearn.pipeline import Pipeline\n",
    "from sklearn.impute import SimpleImputer\n",
    "from sklearn.compose import ColumnTransformer\n",
    "from sklearn.preprocessing import OneHotEncoder, StandardScaler\n",
    "from sklearn.model_selection import train_test_split\n",
    "from sklearn.linear_model import LogisticRegression\n",
    "from sklearn.metrics import log_loss\n",
    "from sklearn.metrics import confusion_matrix\n",
    "from sklearn.tree import DecisionTreeClassifier\n",
    "from sklearn.ensemble import RandomForestClassifier\n",
    "from sklearn.model_selection import GridSearchCV, train_test_split, RandomizedSearchCV\n",
    "from sklearn.preprocessing import MinMaxScaler\n",
    "import lightgbm as lgbm\n",
    "import joblib\n",
    "import os\n",
    "import seaborn as sns\n",
    "import matplotlib.pyplot as plt\n",
    "import neurokit2 as nk\n",
    "from biosppy.signals import  ecg\n",
    "import matplotlib as mpl\n",
    "mpl.rcParams['agg.path.chunksize'] = 10000\n",
    "import warnings\n",
    "warnings.filterwarnings(\"ignore\")"
   ]
  },
  {
   "cell_type": "markdown",
   "id": "2634d119",
   "metadata": {},
   "source": [
    "### Loading Dataset"
   ]
  },
  {
   "cell_type": "code",
   "execution_count": 3,
   "id": "72b7aeb5",
   "metadata": {},
   "outputs": [],
   "source": [
    "raw = pd.read_csv(\"train.csv\")"
   ]
  },
  {
   "cell_type": "code",
   "execution_count": 4,
   "id": "9d386f49",
   "metadata": {},
   "outputs": [
    {
     "name": "stdout",
     "output_type": "stream",
     "text": [
      "X.shape:(4867421, 24)\n",
      "Y.shape:(4867421,)\n"
     ]
    }
   ],
   "source": [
    "Y = raw['event']\n",
    "raw_del = raw.drop(['crew', 'experiment', 'seat', 'event'], axis=1 )\n",
    "X = raw_del\n",
    "print(f\"X.shape:{X.shape}\")\n",
    "print(f\"Y.shape:{Y.shape}\")\n"
   ]
  },
  {
   "cell_type": "code",
   "execution_count": 5,
   "id": "3927f245",
   "metadata": {},
   "outputs": [
    {
     "name": "stdout",
     "output_type": "stream",
     "text": [
      "X_train.shape:(3893936, 24)\n",
      "y_train.shape:(3893936,)\n",
      "X_test.shape:(973485, 24)\n",
      "y_test.shape:(973485,)\n"
     ]
    }
   ],
   "source": [
    "X_train, X_test, y_train, y_test = train_test_split(X,Y, stratify=Y, test_size=.2, random_state=2)\n",
    "print(f\"X_train.shape:{X_train.shape}\")\n",
    "print(f\"y_train.shape:{y_train.shape}\")\n",
    "print(f\"X_test.shape:{X_test.shape}\")\n",
    "print(f\"y_test.shape:{y_test.shape}\")"
   ]
  },
  {
   "cell_type": "code",
   "execution_count": null,
   "id": "2925cb62",
   "metadata": {},
   "outputs": [],
   "source": [
    "features = X_train.columns"
   ]
  },
  {
   "cell_type": "code",
   "execution_count": null,
   "id": "3231cf3f",
   "metadata": {},
   "outputs": [],
   "source": []
  },
  {
   "cell_type": "code",
   "execution_count": null,
   "id": "08e3027c",
   "metadata": {},
   "outputs": [],
   "source": [
    "# scaler = MinMaxScaler()\n",
    "# scaler.fit(X_train)\n",
    "\n",
    "# X_train_norm = scaler.transform(X_train)\n",
    "# X_test_norm = scaler.transform(X_test)\n"
   ]
  },
  {
   "cell_type": "markdown",
   "id": "08bdabba",
   "metadata": {},
   "source": [
    "### Electrode Potential Difference on EEG reading will be our new feature"
   ]
  },
  {
   "cell_type": "code",
   "execution_count": 14,
   "id": "32824c2f",
   "metadata": {},
   "outputs": [],
   "source": [
    "def get_new_features(df):\n",
    "    df['fp1_f7'] = df['eeg_fp1'] - df['eeg_f7']\n",
    "    df['f7_t3'] = df['eeg_f7'] - df['eeg_t3']\n",
    "    df['t3_t5'] = df['eeg_t3'] - df['eeg_t5']\n",
    "    df['t5_o1'] = df['eeg_t5'] - df['eeg_o1']\n",
    "    df['fp1_f3'] = df['eeg_fp1'] - df['eeg_f7']\n",
    "    df['f3_c3'] = df['eeg_f3'] - df['eeg_c3']\n",
    "    df['c3_p3'] = df['eeg_c3'] - df['eeg_p3']\n",
    "    df['p3_o1'] = df['eeg_p3'] - df['eeg_o1']\n",
    "\n",
    "    df['fz_cz'] = df['eeg_fz'] - df['eeg_cz']\n",
    "    df['cz_pz'] = df['eeg_cz'] - df['eeg_pz']\n",
    "    df['pz_poz'] = df['eeg_pz'] - df['eeg_poz']\n",
    "\n",
    "    df['fp2_f8'] = df['eeg_fp2'] - df['eeg_f8']\n",
    "    df['f8_t4'] = df['eeg_f8'] - df['eeg_t4']\n",
    "    df['t4_t6'] = df['eeg_t4'] - df['eeg_t6']\n",
    "    df['t6_o2'] = df['eeg_t6'] - df['eeg_o2']\n",
    "    df['fp2_f4'] = df['eeg_fp2'] - df['eeg_f4']\n",
    "    df['f4_c4'] = df['eeg_f4'] - df['eeg_c4']\n",
    "    df['c4_p4'] = df['eeg_c4'] - df['eeg_p4']\n",
    "    df['p4_o2'] = df['eeg_p4'] - df['eeg_o2']\n",
    "    \n",
    "    \n",
    "    pre_cols = ['eeg_fp1', 'eeg_f7', 'eeg_f8',\\\n",
    "       'eeg_t4', 'eeg_t6', 'eeg_t5', 'eeg_t3', 'eeg_fp2', 'eeg_o1', 'eeg_p3',\\\n",
    "       'eeg_pz', 'eeg_f3', 'eeg_fz', 'eeg_f4', 'eeg_c4', 'eeg_p4', 'eeg_poz',\\\n",
    "       'eeg_c3', 'eeg_cz', 'eeg_o2']\n",
    " \n",
    "    df = df.drop(pre_cols, axis=1)\n",
    "    return df\n",
    "    "
   ]
  },
  {
   "cell_type": "code",
   "execution_count": 17,
   "id": "f388f620",
   "metadata": {},
   "outputs": [],
   "source": [
    "X_train_fe = get_new_features(X_train)\n",
    "X_test_fe = get_new_features(X_test)"
   ]
  },
  {
   "cell_type": "code",
   "execution_count": 18,
   "id": "001bc9b5",
   "metadata": {},
   "outputs": [
    {
     "data": {
      "text/html": [
       "<div>\n",
       "<style scoped>\n",
       "    .dataframe tbody tr th:only-of-type {\n",
       "        vertical-align: middle;\n",
       "    }\n",
       "\n",
       "    .dataframe tbody tr th {\n",
       "        vertical-align: top;\n",
       "    }\n",
       "\n",
       "    .dataframe thead th {\n",
       "        text-align: right;\n",
       "    }\n",
       "</style>\n",
       "<table border=\"1\" class=\"dataframe\">\n",
       "  <thead>\n",
       "    <tr style=\"text-align: right;\">\n",
       "      <th></th>\n",
       "      <th>time</th>\n",
       "      <th>ecg</th>\n",
       "      <th>r</th>\n",
       "      <th>gsr</th>\n",
       "      <th>fp1_f7</th>\n",
       "      <th>f7_t3</th>\n",
       "      <th>t3_t5</th>\n",
       "      <th>t5_o1</th>\n",
       "      <th>fp1_f3</th>\n",
       "      <th>f3_c3</th>\n",
       "      <th>...</th>\n",
       "      <th>cz_pz</th>\n",
       "      <th>pz_poz</th>\n",
       "      <th>fp2_f8</th>\n",
       "      <th>f8_t4</th>\n",
       "      <th>t4_t6</th>\n",
       "      <th>t6_o2</th>\n",
       "      <th>fp2_f4</th>\n",
       "      <th>f4_c4</th>\n",
       "      <th>c4_p4</th>\n",
       "      <th>p4_o2</th>\n",
       "    </tr>\n",
       "  </thead>\n",
       "  <tbody>\n",
       "    <tr>\n",
       "      <th>1801191</th>\n",
       "      <td>21.109375</td>\n",
       "      <td>5862.399902</td>\n",
       "      <td>828.447998</td>\n",
       "      <td>661.953979</td>\n",
       "      <td>4.013599</td>\n",
       "      <td>7.490551</td>\n",
       "      <td>12.518730</td>\n",
       "      <td>-15.817580</td>\n",
       "      <td>4.013599</td>\n",
       "      <td>15.25740</td>\n",
       "      <td>...</td>\n",
       "      <td>18.42991</td>\n",
       "      <td>2.848100</td>\n",
       "      <td>-0.773400</td>\n",
       "      <td>10.163530</td>\n",
       "      <td>-1.480850</td>\n",
       "      <td>-1.872110</td>\n",
       "      <td>-9.237801</td>\n",
       "      <td>5.393700</td>\n",
       "      <td>3.063901</td>\n",
       "      <td>6.817370</td>\n",
       "    </tr>\n",
       "    <tr>\n",
       "      <th>2819484</th>\n",
       "      <td>57.550781</td>\n",
       "      <td>10847.299805</td>\n",
       "      <td>795.296997</td>\n",
       "      <td>1624.750000</td>\n",
       "      <td>8.736801</td>\n",
       "      <td>17.285600</td>\n",
       "      <td>-16.402400</td>\n",
       "      <td>25.702500</td>\n",
       "      <td>8.736801</td>\n",
       "      <td>3.59130</td>\n",
       "      <td>...</td>\n",
       "      <td>12.16164</td>\n",
       "      <td>-5.528600</td>\n",
       "      <td>25.515019</td>\n",
       "      <td>39.235179</td>\n",
       "      <td>25.402298</td>\n",
       "      <td>-47.857798</td>\n",
       "      <td>12.855049</td>\n",
       "      <td>70.952350</td>\n",
       "      <td>-21.023300</td>\n",
       "      <td>-20.489401</td>\n",
       "    </tr>\n",
       "    <tr>\n",
       "      <th>2329712</th>\n",
       "      <td>167.773438</td>\n",
       "      <td>-2221.330078</td>\n",
       "      <td>650.447021</td>\n",
       "      <td>1710.900024</td>\n",
       "      <td>-1.425260</td>\n",
       "      <td>8.166870</td>\n",
       "      <td>-15.972480</td>\n",
       "      <td>12.283575</td>\n",
       "      <td>-1.425260</td>\n",
       "      <td>3.26098</td>\n",
       "      <td>...</td>\n",
       "      <td>5.72684</td>\n",
       "      <td>0.647175</td>\n",
       "      <td>-3.759060</td>\n",
       "      <td>50.490299</td>\n",
       "      <td>-49.567999</td>\n",
       "      <td>11.289593</td>\n",
       "      <td>-4.581860</td>\n",
       "      <td>-13.235401</td>\n",
       "      <td>22.528171</td>\n",
       "      <td>3.741923</td>\n",
       "    </tr>\n",
       "    <tr>\n",
       "      <th>2761553</th>\n",
       "      <td>279.351562</td>\n",
       "      <td>10732.000000</td>\n",
       "      <td>795.906982</td>\n",
       "      <td>1764.699951</td>\n",
       "      <td>-10.335180</td>\n",
       "      <td>-4.266648</td>\n",
       "      <td>-4.959792</td>\n",
       "      <td>13.634600</td>\n",
       "      <td>-10.335180</td>\n",
       "      <td>-0.33520</td>\n",
       "      <td>...</td>\n",
       "      <td>-2.07110</td>\n",
       "      <td>-3.784310</td>\n",
       "      <td>1.375000</td>\n",
       "      <td>-11.188350</td>\n",
       "      <td>9.267650</td>\n",
       "      <td>-10.653000</td>\n",
       "      <td>3.912599</td>\n",
       "      <td>-12.061799</td>\n",
       "      <td>-12.947790</td>\n",
       "      <td>9.898290</td>\n",
       "    </tr>\n",
       "    <tr>\n",
       "      <th>3186090</th>\n",
       "      <td>53.453125</td>\n",
       "      <td>9927.769531</td>\n",
       "      <td>798.146973</td>\n",
       "      <td>1843.510010</td>\n",
       "      <td>4.126101</td>\n",
       "      <td>-11.868400</td>\n",
       "      <td>-3.342620</td>\n",
       "      <td>-11.988410</td>\n",
       "      <td>4.126101</td>\n",
       "      <td>-3.37750</td>\n",
       "      <td>...</td>\n",
       "      <td>0.75195</td>\n",
       "      <td>-0.915070</td>\n",
       "      <td>-3.727420</td>\n",
       "      <td>-9.086660</td>\n",
       "      <td>6.833970</td>\n",
       "      <td>-12.458280</td>\n",
       "      <td>-12.942530</td>\n",
       "      <td>-0.690480</td>\n",
       "      <td>-0.005250</td>\n",
       "      <td>-4.800130</td>\n",
       "    </tr>\n",
       "  </tbody>\n",
       "</table>\n",
       "<p>5 rows × 23 columns</p>\n",
       "</div>"
      ],
      "text/plain": [
       "               time           ecg           r          gsr     fp1_f7  \\\n",
       "1801191   21.109375   5862.399902  828.447998   661.953979   4.013599   \n",
       "2819484   57.550781  10847.299805  795.296997  1624.750000   8.736801   \n",
       "2329712  167.773438  -2221.330078  650.447021  1710.900024  -1.425260   \n",
       "2761553  279.351562  10732.000000  795.906982  1764.699951 -10.335180   \n",
       "3186090   53.453125   9927.769531  798.146973  1843.510010   4.126101   \n",
       "\n",
       "             f7_t3      t3_t5      t5_o1     fp1_f3     f3_c3  ...     cz_pz  \\\n",
       "1801191   7.490551  12.518730 -15.817580   4.013599  15.25740  ...  18.42991   \n",
       "2819484  17.285600 -16.402400  25.702500   8.736801   3.59130  ...  12.16164   \n",
       "2329712   8.166870 -15.972480  12.283575  -1.425260   3.26098  ...   5.72684   \n",
       "2761553  -4.266648  -4.959792  13.634600 -10.335180  -0.33520  ...  -2.07110   \n",
       "3186090 -11.868400  -3.342620 -11.988410   4.126101  -3.37750  ...   0.75195   \n",
       "\n",
       "           pz_poz     fp2_f8      f8_t4      t4_t6      t6_o2     fp2_f4  \\\n",
       "1801191  2.848100  -0.773400  10.163530  -1.480850  -1.872110  -9.237801   \n",
       "2819484 -5.528600  25.515019  39.235179  25.402298 -47.857798  12.855049   \n",
       "2329712  0.647175  -3.759060  50.490299 -49.567999  11.289593  -4.581860   \n",
       "2761553 -3.784310   1.375000 -11.188350   9.267650 -10.653000   3.912599   \n",
       "3186090 -0.915070  -3.727420  -9.086660   6.833970 -12.458280 -12.942530   \n",
       "\n",
       "             f4_c4      c4_p4      p4_o2  \n",
       "1801191   5.393700   3.063901   6.817370  \n",
       "2819484  70.952350 -21.023300 -20.489401  \n",
       "2329712 -13.235401  22.528171   3.741923  \n",
       "2761553 -12.061799 -12.947790   9.898290  \n",
       "3186090  -0.690480  -0.005250  -4.800130  \n",
       "\n",
       "[5 rows x 23 columns]"
      ]
     },
     "execution_count": 18,
     "metadata": {},
     "output_type": "execute_result"
    }
   ],
   "source": [
    "X_train_fe.head()"
   ]
  },
  {
   "cell_type": "code",
   "execution_count": 16,
   "id": "9d627ce3",
   "metadata": {},
   "outputs": [],
   "source": [
    "features = X_train_fe.columns"
   ]
  },
  {
   "cell_type": "markdown",
   "id": "bb1a5ccf",
   "metadata": {},
   "source": [
    "### Before getting started with Training Let's get the Results from RANDOM model, comparison between RANDOM and trained model will get better understanding on whether the training is really causing any impact or not."
   ]
  },
  {
   "cell_type": "code",
   "execution_count": 7,
   "id": "a79fbacf",
   "metadata": {},
   "outputs": [],
   "source": [
    "d = {'A': 0, 'B': 1, 'C': 2, 'D': 3}\n",
    "y_train_ = np.array(list(map(lambda x: d[x], y_train)))\n",
    "y_test_ =  np.array(list(map(lambda x: d[x], y_test)))"
   ]
  },
  {
   "cell_type": "code",
   "execution_count": 8,
   "id": "c6571385",
   "metadata": {},
   "outputs": [
    {
     "name": "stdout",
     "output_type": "stream",
     "text": [
      "Log loss on TRAIN Data using Random Model 1.6453471449107933\n",
      "Log loss on TEST Data using Random Model 1.6453310877290241\n"
     ]
    }
   ],
   "source": [
    "train_len = X_train.shape[0]\n",
    "test_len = X_test.shape[0]\n",
    " \n",
    "train_predicted_y = np.zeros((train_len,4))\n",
    "for i in range(train_len):\n",
    "    rand_probs = np.random.rand(1,4)\n",
    "    train_predicted_y[i] = ((rand_probs/sum(sum(rand_probs)))[0])\n",
    "print(\"Log loss on TRAIN Data using Random Model\",log_loss(y_train,train_predicted_y, eps=1e-15))\n",
    "\n",
    " \n",
    "test_predicted_y = np.zeros((test_len,4))\n",
    "for i in range(test_len):\n",
    "    rand_probs = np.random.rand(1,4)\n",
    "    test_predicted_y[i] = ((rand_probs/sum(sum(rand_probs)))[0])\n",
    "print(\"Log loss on TEST Data using Random Model\",log_loss(y_test,test_predicted_y, eps=1e-15))\n"
   ]
  },
  {
   "cell_type": "markdown",
   "id": "f262bbd7",
   "metadata": {},
   "source": [
    "### Train Confusion matrix on RANDOM MODEL"
   ]
  },
  {
   "cell_type": "code",
   "execution_count": 10,
   "id": "72930561",
   "metadata": {},
   "outputs": [
    {
     "name": "stdout",
     "output_type": "stream",
     "text": [
      "Normalized confusion matrix\n",
      "[[0.5849807  0.02694848 0.33961198 0.04845884]\n",
      " [0.58501413 0.02684349 0.33987379 0.04826859]\n",
      " [0.58538416 0.02671514 0.33953845 0.04836225]\n",
      " [0.58574632 0.02681638 0.33913615 0.04830115]]\n"
     ]
    },
    {
     "data": {
      "image/png": "[encoded data removed]",
      "text/plain": [
       "<Figure size 432x288 with 2 Axes>"
      ]
     },
     "metadata": {
      "needs_background": "light"
     },
     "output_type": "display_data"
    }
   ],
   "source": [
    "conf_mat_val = confusion_matrix(np.argmax(train_predicted_y, axis=1), y_train_)\n",
    "plot_confusion_matrix(conf_mat_val, [\"A\", \"B\", \"C\", \"D\"], title='Confusion matrix on Validation data', normalize=True)"
   ]
  },
  {
   "cell_type": "markdown",
   "id": "5164e10c",
   "metadata": {},
   "source": [
    "### Test Confusion matrix on RANDOM MODEL"
   ]
  },
  {
   "cell_type": "code",
   "execution_count": 11,
   "id": "4e995513",
   "metadata": {},
   "outputs": [
    {
     "name": "stdout",
     "output_type": "stream",
     "text": [
      "Normalized confusion matrix\n",
      "[[0.58547905 0.02678138 0.33934053 0.04839904]\n",
      " [0.5850819  0.02675266 0.33972563 0.0484398 ]\n",
      " [0.58485779 0.02689144 0.33985609 0.04839468]\n",
      " [0.58570251 0.02689647 0.33924244 0.04815858]]\n"
     ]
    },
    {
     "data": {
      "image/png": "[encoded data removed]",
      "text/plain": [
       "<Figure size 432x288 with 2 Axes>"
      ]
     },
     "metadata": {
      "needs_background": "light"
     },
     "output_type": "display_data"
    }
   ],
   "source": [
    "conf_mat_val = confusion_matrix(np.argmax(test_predicted_y, axis=1), y_test_)\n",
    "plot_confusion_matrix(conf_mat_val, [\"A\", \"B\", \"C\", \"D\"], title='Confusion matrix on Validation data', normalize=True)"
   ]
  },
  {
   "cell_type": "code",
   "execution_count": null,
   "id": "c0e74456",
   "metadata": {},
   "outputs": [],
   "source": []
  },
  {
   "cell_type": "markdown",
   "id": "06b1b531",
   "metadata": {},
   "source": [
    "# Random Forest"
   ]
  },
  {
   "cell_type": "code",
   "execution_count": null,
   "id": "edb186d6",
   "metadata": {},
   "outputs": [],
   "source": []
  },
  {
   "cell_type": "code",
   "execution_count": 31,
   "id": "f397ec62",
   "metadata": {},
   "outputs": [
    {
     "name": "stdout",
     "output_type": "stream",
     "text": [
      "Fitting 2 folds for each of 6 candidates, totalling 12 fits\n"
     ]
    },
    {
     "data": {
      "text/plain": [
       "RandomizedSearchCV(cv=2, estimator=RandomForestClassifier(), n_jobs=-1,\n",
       "                   param_distributions={'max_depth': [100, 200],\n",
       "                                        'n_estimators': [5, 10, 20]},\n",
       "                   return_train_score=True, verbose=200)"
      ]
     },
     "execution_count": 31,
     "metadata": {},
     "output_type": "execute_result"
    }
   ],
   "source": [
    "RF_rs = RandomForestClassifier()\n",
    "\n",
    "params = {\"n_estimators\":[5, 10, 20],\n",
    "\"max_depth\" : [100, 200],}\n",
    "    \n",
    "rs = RandomizedSearchCV(RF_rs, params, cv=2, return_train_score=True, n_jobs=-1, verbose=200)\n",
    "rs.fit(X_train_fe, y_train)"
   ]
  },
  {
   "cell_type": "code",
   "execution_count": 32,
   "id": "2c491b35",
   "metadata": {},
   "outputs": [
    {
     "data": {
      "text/plain": [
       "{'n_estimators': 20, 'max_depth': 200}"
      ]
     },
     "execution_count": 32,
     "metadata": {},
     "output_type": "execute_result"
    }
   ],
   "source": [
    "rs.best_params_"
   ]
  },
  {
   "cell_type": "code",
   "execution_count": 34,
   "id": "6244210e",
   "metadata": {},
   "outputs": [
    {
     "data": {
      "text/plain": [
       "0.9868724087915158"
      ]
     },
     "execution_count": 34,
     "metadata": {},
     "output_type": "execute_result"
    }
   ],
   "source": [
    "rs.best_score_"
   ]
  },
  {
   "cell_type": "code",
   "execution_count": 35,
   "id": "71aaa929",
   "metadata": {},
   "outputs": [
    {
     "data": {
      "text/plain": [
       "RandomForestClassifier(max_depth=200, n_estimators=20)"
      ]
     },
     "execution_count": 35,
     "metadata": {},
     "output_type": "execute_result"
    }
   ],
   "source": [
    "RF = RandomForestClassifier(n_estimators = 20, max_depth = 200)\n",
    "RF.fit(X_train_fe, y_train)"
   ]
  },
  {
   "cell_type": "code",
   "execution_count": 36,
   "id": "4a5c8a1f",
   "metadata": {},
   "outputs": [
    {
     "data": {
      "image/png": "[encoded data removed]",
      "text/plain": [
       "<Figure size 1440x864 with 1 Axes>"
      ]
     },
     "metadata": {
      "needs_background": "light"
     },
     "output_type": "display_data"
    }
   ],
   "source": [
    "importances = RF.feature_importances_\n",
    "indices = (np.argsort(importances))[:]\n",
    "plt.figure(figsize=(20,12))\n",
    "plt.title('Feature Importances')\n",
    "plt.barh(range(len(indices)), importances[indices], color='r', align='center')\n",
    "plt.yticks(range(len(indices)), [features[i] for i in indices])\n",
    "plt.xlabel('Relative Importance')\n",
    "plt.show()\n",
    "   "
   ]
  },
  {
   "cell_type": "code",
   "execution_count": 4,
   "id": "08cb3198",
   "metadata": {},
   "outputs": [],
   "source": [
    "# joblib.dump(X_train_fe, \"X_train_fe\")\n",
    "# joblib.dump(X_test_fe, \"X_test_fe\")\n",
    "# joblib.dump(y_train, \"y_train\")\n",
    "# joblib.dump(y_test, \"y_test\")\n",
    "# joblib.dump(scaler, \"scaler\")\n",
    "\n",
    "# X_train_fe = joblib.load(\"X_train_fe\")\n",
    "# X_test_fe = joblib.load(\"X_test_fe\")\n",
    "# y_train = joblib.load(\"y_train\")\n",
    "# y_test = joblib.load(\"y_Test\")"
   ]
  },
  {
   "cell_type": "code",
   "execution_count": 9,
   "id": "dff346e1",
   "metadata": {},
   "outputs": [],
   "source": [
    "y_train_pred = RF.predict_proba(X_train_fe)\n",
    "y_test_pred = RF.predict_proba(X_test_fe)"
   ]
  },
  {
   "cell_type": "code",
   "execution_count": 12,
   "id": "7e0ae20a",
   "metadata": {},
   "outputs": [
    {
     "name": "stdout",
     "output_type": "stream",
     "text": [
      "Train log_loss:0.08983134\n",
      "Test log_loss:0.10121189\n"
     ]
    }
   ],
   "source": [
    "print(f\"Train log_loss:{log_loss(y_train, y_train_pred)}\")\n",
    "print(f\"Test log_loss:{log_loss(y_test, y_test_pred)}\")"
   ]
  },
  {
   "cell_type": "code",
   "execution_count": 8,
   "id": "2fe93987",
   "metadata": {},
   "outputs": [],
   "source": [
    "import joblib\n",
    "RF = joblib.load('Random_forest_fe.pkl')"
   ]
  },
  {
   "cell_type": "markdown",
   "id": "442f3929",
   "metadata": {},
   "source": [
    "# Light GBM"
   ]
  },
  {
   "cell_type": "code",
   "execution_count": 5,
   "id": "443506ae",
   "metadata": {},
   "outputs": [],
   "source": [
    "d = {'A': 0, 'B': 1, 'C': 2, 'D': 3}\n",
    "\n",
    "y_train_ = np.array(list(map(lambda x: d[x], y_train)))\n",
    "y_test_ =  np.array(list(map(lambda x: d[x], y_test)))\n"
   ]
  },
  {
   "cell_type": "code",
   "execution_count": null,
   "id": "bfefe16d",
   "metadata": {},
   "outputs": [],
   "source": []
  },
  {
   "cell_type": "code",
   "execution_count": 6,
   "id": "49500a26",
   "metadata": {},
   "outputs": [
    {
     "name": "stdout",
     "output_type": "stream",
     "text": [
      "<start>Training\n",
      "[LightGBM] [Warning] Auto-choosing col-wise multi-threading, the overhead of testing was 0.258227 seconds.\n",
      "You can set `force_col_wise=true` to remove the overhead.\n",
      "[LightGBM] [Info] Total Bins 5865\n",
      "[LightGBM] [Info] Number of data points in the train set: 3893936, number of used features: 23\n",
      "[LightGBM] [Info] Start training from score -0.535663\n",
      "[LightGBM] [Info] Start training from score -3.618199\n",
      "[LightGBM] [Info] Start training from score -1.080163\n",
      "[LightGBM] [Info] Start training from score -3.029336\n",
      "Training until validation scores don't improve for 200 rounds\n",
      "[100]\ttraining's multi_error: 0.0904329\tvalid_1's multi_error: 0.0903958\n",
      "[200]\ttraining's multi_error: 0.0625085\tvalid_1's multi_error: 0.0625546\n",
      "[300]\ttraining's multi_error: 0.0473945\tvalid_1's multi_error: 0.0474912\n",
      "[400]\ttraining's multi_error: 0.0344582\tvalid_1's multi_error: 0.0345141\n",
      "[500]\ttraining's multi_error: 0.0260677\tvalid_1's multi_error: 0.0262829\n",
      "[600]\ttraining's multi_error: 0.0211809\tvalid_1's multi_error: 0.021535\n",
      "[700]\ttraining's multi_error: 0.01716\tvalid_1's multi_error: 0.0176068\n",
      "[800]\ttraining's multi_error: 0.0149219\tvalid_1's multi_error: 0.0153356\n",
      "[900]\ttraining's multi_error: 0.0133669\tvalid_1's multi_error: 0.0137075\n",
      "[1000]\ttraining's multi_error: 0.01206\tvalid_1's multi_error: 0.0124265\n",
      "[1100]\ttraining's multi_error: 0.010995\tvalid_1's multi_error: 0.0113695\n",
      "[1200]\ttraining's multi_error: 0.0100243\tvalid_1's multi_error: 0.0103617\n",
      "[1300]\ttraining's multi_error: 0.00921895\tvalid_1's multi_error: 0.00959542\n",
      "[1400]\ttraining's multi_error: 0.00824795\tvalid_1's multi_error: 0.00857229\n",
      "[1500]\ttraining's multi_error: 0.00773536\tvalid_1's multi_error: 0.00802375\n",
      "[1600]\ttraining's multi_error: 0.00724973\tvalid_1's multi_error: 0.00756252\n",
      "[1700]\ttraining's multi_error: 0.00675332\tvalid_1's multi_error: 0.00710232\n",
      "[1800]\ttraining's multi_error: 0.00631341\tvalid_1's multi_error: 0.00665855\n",
      "[1900]\ttraining's multi_error: 0.00584011\tvalid_1's multi_error: 0.0061891\n",
      "[2000]\ttraining's multi_error: 0.00533368\tvalid_1's multi_error: 0.005695\n",
      "Did not meet early stopping. Best iteration is:\n",
      "[2000]\ttraining's multi_error: 0.00533368\tvalid_1's multi_error: 0.005695\n",
      "<complete>Training\n"
     ]
    }
   ],
   "source": [
    "train = lgbm.Dataset(X_train_fe, label = y_train_)\n",
    "\n",
    "\n",
    "\n",
    "test = lgbm.Dataset(X_test_fe, label = y_test_)\n",
    " \n",
    "\n",
    "\n",
    "\n",
    "# Declaring the hyperparameter values. \n",
    "params = {\n",
    "      \"objective\" : \"multiclass\", # used for multiclass softmax classifier\n",
    "      \"metric\" : \"multi_error\",   # Error rate for multiclass classification \n",
    "      \"boosting\" :'gbdt',         # Using Gardient Boosted Decision Trees\n",
    "      'num_class':4,              # Number of desired output classes is 4 \n",
    "      \"num_leaves\" : 59,          # Number of leaves in Tree based algorithms\n",
    "      \"learning_rate\" : 0.01,     \n",
    "      \"bagging_fraction\" : 0.9,   # This is randomly select 90% of data without resampling\\\n",
    "                   # it will decrease impact of high variance on data\n",
    "      \"bagging_seed\" : 0,         # Random seeds for bagging\n",
    "      \"num_threads\" : 4,\n",
    "      \"colsample_bytree\" : 0.5,   # Subsampling fraction for feature\n",
    "      'min_data_in_leaf':100,     # Threshold on Data in a leaf\n",
    "      'min_split_gain':0.00019    # Minmimum gain threshold for splitting the node\n",
    "        }\n",
    "\n",
    "\n",
    "\n",
    "\n",
    "# Training Stage:\n",
    "print('<start>Training')\n",
    "model = lgbm.train(  params, \n",
    "                  train_set = train,\n",
    "                  num_boost_round=2000,\n",
    "                  early_stopping_rounds=200,\n",
    "                  verbose_eval=100, \n",
    "                  valid_sets=[train,test]\n",
    "                )\n",
    "print('<complete>Training')"
   ]
  },
  {
   "cell_type": "code",
   "execution_count": 3,
   "id": "9a79ab45",
   "metadata": {},
   "outputs": [],
   "source": [
    "# joblib.dump(model, \"model_fe\")\n",
    "# import joblib\n",
    "# model = joblib.load(\"model_fe\")"
   ]
  },
  {
   "cell_type": "code",
   "execution_count": null,
   "id": "ff39ee5d",
   "metadata": {},
   "outputs": [],
   "source": []
  },
  {
   "cell_type": "code",
   "execution_count": 10,
   "id": "ca266cbd",
   "metadata": {},
   "outputs": [
    {
     "data": {
      "image/png": "[encoded data removed]",
      "text/plain": [
       "<Figure size 864x720 with 1 Axes>"
      ]
     },
     "metadata": {
      "needs_background": "light"
     },
     "output_type": "display_data"
    }
   ],
   "source": [
    "fig, ax = plt.subplots(figsize=(12,10))\n",
    "lgbm.plot_importance(model, height=0.8, ax=ax)\n",
    "ax.grid(False)\n",
    "plt.ylabel('Feature', size=12)\n",
    "plt.xlabel('Importance', size=12)\n",
    "plt.title(\"Importance of the Features of our LightGBM Model\", fontsize=15)\n",
    "plt.show()"
   ]
  },
  {
   "cell_type": "code",
   "execution_count": 6,
   "id": "4ae99302",
   "metadata": {},
   "outputs": [],
   "source": [
    "# y_train_pred = model.predict(X_train_fe)\n",
    "# y_test_pred = model.predict(X_test_fe)"
   ]
  },
  {
   "cell_type": "code",
   "execution_count": 8,
   "id": "5680302e",
   "metadata": {},
   "outputs": [
    {
     "name": "stdout",
     "output_type": "stream",
     "text": [
      "Train log_loss:0.0324\n",
      "Test log_loss:0.04024\n"
     ]
    }
   ],
   "source": [
    "print(f\"Train log_loss:{log_loss(y_train, y_train_pred)}\")\n",
    "print(f\"Test log_loss:{log_loss(y_test, y_test_pred)}\")"
   ]
  },
  {
   "cell_type": "code",
   "execution_count": null,
   "id": "8ac5a963",
   "metadata": {},
   "outputs": [],
   "source": []
  },
  {
   "cell_type": "code",
   "execution_count": 3,
   "id": "cc3962f4",
   "metadata": {},
   "outputs": [],
   "source": [
    "test_df = pd.read_csv(\"test.csv\")"
   ]
  },
  {
   "cell_type": "code",
   "execution_count": 7,
   "id": "2c237445",
   "metadata": {},
   "outputs": [],
   "source": [
    "test_df_ = test_df.drop(['crew', 'experiment', 'seat', 'id'], axis=1 )\n",
    "test_df_fe = get_new_features(test_df_)"
   ]
  },
  {
   "cell_type": "code",
   "execution_count": 3,
   "id": "4b6621cc",
   "metadata": {},
   "outputs": [],
   "source": [
    "# joblib.dump(test_df_fe, \"test_df_fe\")\n",
    "test_df_fe = joblib.load(\"test_df_fe\")"
   ]
  },
  {
   "cell_type": "code",
   "execution_count": 4,
   "id": "82e4d03c",
   "metadata": {},
   "outputs": [],
   "source": [
    "y_pred = model.predict(test_df_fe)"
   ]
  },
  {
   "cell_type": "code",
   "execution_count": 7,
   "id": "26a9f36a",
   "metadata": {},
   "outputs": [],
   "source": [
    "sub = pd.DataFrame(np.concatenate((np.arange(len(test_df_fe))[:, np.newaxis], y_pred), axis=1), columns=['id', 'A', 'B', 'C', 'D'],)\n",
    "sub['id'] = sub['id'].astype(int)"
   ]
  },
  {
   "cell_type": "code",
   "execution_count": 12,
   "id": "55b027b9",
   "metadata": {},
   "outputs": [
    {
     "data": {
      "text/plain": [
       "'<bound method Booster.feature_importance of <lightgbm.basic.Booster object at 0x00000297F5E06D00>>'"
      ]
     },
     "execution_count": 12,
     "metadata": {},
     "output_type": "execute_result"
    }
   ],
   "source": [
    "model.feature_importance"
   ]
  },
  {
   "cell_type": "code",
   "execution_count": 8,
   "id": "422c2306",
   "metadata": {},
   "outputs": [],
   "source": [
    "sub.to_csv('result_lgbm_fe.csv', index=False)"
   ]
  },
  {
   "cell_type": "markdown",
   "id": "42372d03",
   "metadata": {},
   "source": [
    "### Results on Kaggle dataset"
   ]
  },
  {
   "cell_type": "markdown",
   "id": "ee79f94f",
   "metadata": {},
   "source": [
    "![title](LGBM_fe_score.png)"
   ]
  },
  {
   "cell_type": "markdown",
   "id": "eccfc26a",
   "metadata": {},
   "source": [
    "### Results are better than NO feature engineered data(only normalized)"
   ]
  },
  {
   "cell_type": "markdown",
   "id": "4742f597",
   "metadata": {},
   "source": [
    "# Selecting only top 16 features"
   ]
  },
  {
   "cell_type": "code",
   "execution_count": 5,
   "id": "b17331cc",
   "metadata": {},
   "outputs": [],
   "source": [
    "feature_16 = [\"r\", \"gsr\", \"ecg\", \"pz_poz\", \"f3_c3\", \"fp1_f7\" ,\"fp2_f4\", \"f7_t3\", \"fz_cz\", \"f4_c4\", \"cz_pz\", \"f8_t4\", \"t3_t5\", \"t6_o2\", \"t5_o1\", \"c3_p3\"]"
   ]
  },
  {
   "cell_type": "code",
   "execution_count": 6,
   "id": "03ee1a33",
   "metadata": {},
   "outputs": [],
   "source": [
    "# X_train_fe = joblib.load(\"X_train_fe\")\n",
    "# X_test_fe = joblib.load(\"X_test_fe\")\n",
    "# y_train = joblib.load(\"y_train\")\n",
    "# y_test = joblib.load(\"y_Test\")"
   ]
  },
  {
   "cell_type": "code",
   "execution_count": 7,
   "id": "779842c2",
   "metadata": {},
   "outputs": [],
   "source": [
    "X_train_fe_16 = X_train_fe[feature_16]\n",
    "X_test_fe_16 = X_test_fe[feature_16]"
   ]
  },
  {
   "cell_type": "code",
   "execution_count": null,
   "id": "77e57dc1",
   "metadata": {},
   "outputs": [],
   "source": []
  },
  {
   "cell_type": "code",
   "execution_count": 21,
   "id": "89dc3170",
   "metadata": {},
   "outputs": [],
   "source": [
    "d = {'A': 0, 'B': 1, 'C': 2, 'D': 3}\n",
    "y_train_ = np.array(list(map(lambda x: d[x], y_train)))\n",
    "y_test_ =  np.array(list(map(lambda x: d[x], y_test)))"
   ]
  },
  {
   "cell_type": "code",
   "execution_count": 22,
   "id": "3c2a5f41",
   "metadata": {},
   "outputs": [
    {
     "name": "stdout",
     "output_type": "stream",
     "text": [
      "<start>Training\n",
      "[LightGBM] [Warning] Auto-choosing col-wise multi-threading, the overhead of testing was 0.146329 seconds.\n",
      "You can set `force_col_wise=true` to remove the overhead.\n",
      "[LightGBM] [Info] Total Bins 4080\n",
      "[LightGBM] [Info] Number of data points in the train set: 3893936, number of used features: 16\n",
      "[LightGBM] [Info] Start training from score -0.535663\n",
      "[LightGBM] [Info] Start training from score -3.618199\n",
      "[LightGBM] [Info] Start training from score -1.080163\n",
      "[LightGBM] [Info] Start training from score -3.029336\n",
      "Training until validation scores don't improve for 200 rounds\n",
      "[200]\ttraining's multi_error: 0.101366\tvalid_1's multi_error: 0.101402\n",
      "[400]\ttraining's multi_error: 0.0911936\tvalid_1's multi_error: 0.0912556\n",
      "[600]\ttraining's multi_error: 0.0824631\tvalid_1's multi_error: 0.0826114\n",
      "[800]\ttraining's multi_error: 0.0764386\tvalid_1's multi_error: 0.0767439\n",
      "[1000]\ttraining's multi_error: 0.0720895\tvalid_1's multi_error: 0.0725158\n",
      "Did not meet early stopping. Best iteration is:\n",
      "[1000]\ttraining's multi_error: 0.0720895\tvalid_1's multi_error: 0.0725158\n",
      "<complete>Training\n"
     ]
    }
   ],
   "source": [
    "train = lgbm.Dataset(X_train_fe_16, label = y_train_)\n",
    "test = lgbm.Dataset(X_test_fe_16, label = y_test_)\n",
    " \n",
    "\n",
    "\n",
    "\n",
    "# Declaring the hyperparameter values. \n",
    "params = {\n",
    "      \"objective\" : \"multiclass\", # used for multiclass softmax classifier\n",
    "      \"metric\" : \"multi_error\",   # Error rate for multiclass classification \n",
    "      \"boosting\" :'gbdt',         # Using Gardient Boosted Decision Trees\n",
    "      'num_class':4,              # Number of desired output classes is 4 \n",
    "      \"num_leaves\" : 40,          # Number of leaves in Tree based algorithms\n",
    "      \"learning_rate\" : 0.01,     \n",
    "      \"bagging_fraction\" : 0.9,   # This is randomly select 90% of data without resampling\\\n",
    "                   # it will decrease impact of high variance on data\n",
    "      \"bagging_seed\" : 0,         # Random seeds for bagging\n",
    "      \"num_threads\" : 4,\n",
    "      \"colsample_bytree\" : 0.5,   # Subsampling fraction for feature\n",
    "      'min_data_in_leaf':100,     # Threshold on Data in a leaf\n",
    "      'min_split_gain':0.00019    # Minmimum gain threshold for splitting the node\n",
    "        }\n",
    "\n",
    "\n",
    "\n",
    "\n",
    "# Training Stage:\n",
    "print('<start>Training')\n",
    "model = lgbm.train(  params, \n",
    "                  train_set = train,\n",
    "                  num_boost_round=1000,\n",
    "                  early_stopping_rounds=200,\n",
    "                  verbose_eval=200, \n",
    "                  valid_sets=[train,test]\n",
    "                )\n",
    "print('<complete>Training')"
   ]
  },
  {
   "cell_type": "code",
   "execution_count": 23,
   "id": "c173066c",
   "metadata": {
    "scrolled": true
   },
   "outputs": [
    {
     "data": {
      "text/plain": [
       "['model_fe_16']"
      ]
     },
     "execution_count": 23,
     "metadata": {},
     "output_type": "execute_result"
    }
   ],
   "source": [
    "joblib.dump(model, \"model_fe_16\")\n",
    "# model = joblib.load(\"model_fe_16\")"
   ]
  },
  {
   "cell_type": "code",
   "execution_count": 13,
   "id": "db430ebd",
   "metadata": {
    "scrolled": false
   },
   "outputs": [
    {
     "data": {
      "image/png": "[encoded data removed]",
      "text/plain": [
       "<Figure size 864x720 with 1 Axes>"
      ]
     },
     "metadata": {
      "needs_background": "light"
     },
     "output_type": "display_data"
    }
   ],
   "source": [
    "fig, ax = plt.subplots(figsize=(12,10))\n",
    "lgbm.plot_importance(model, height=0.8, ax=ax)\n",
    "ax.grid(False)\n",
    "plt.ylabel('Feature', size=12)\n",
    "plt.xlabel('Importance', size=12)\n",
    "plt.title(\"Importance of the Features of our LightGBM Model\", fontsize=15)\n",
    "plt.show()"
   ]
  },
  {
   "cell_type": "code",
   "execution_count": null,
   "id": "8ddf94e6",
   "metadata": {},
   "outputs": [],
   "source": []
  },
  {
   "cell_type": "code",
   "execution_count": 24,
   "id": "9ae51207",
   "metadata": {},
   "outputs": [],
   "source": [
    "y_train_pred = model.predict(X_train_fe_16)\n",
    "y_test_pred = model.predict(X_test_fe_16)"
   ]
  },
  {
   "cell_type": "code",
   "execution_count": 26,
   "id": "8e1db08a",
   "metadata": {},
   "outputs": [
    {
     "name": "stdout",
     "output_type": "stream",
     "text": [
      "Train log_loss:0.21101605248555028\n",
      "Test log_loss:0.21178669528772975\n"
     ]
    }
   ],
   "source": [
    "print(f\"Train log_loss:{log_loss(y_train_, y_train_pred)}\")\n",
    "print(f\"Test log_loss:{log_loss(y_test_, y_test_pred)}\")"
   ]
  },
  {
   "cell_type": "code",
   "execution_count": 9,
   "id": "10eba7f5",
   "metadata": {},
   "outputs": [],
   "source": [
    "import itertools\n",
    "def plot_confusion_matrix(cm, classes,\n",
    "                          normalize=True,\n",
    "                          title='Confusion matrix',\n",
    "                          cmap=plt.cm.Blues):\n",
    "    \"\"\"\n",
    "    This function prints and plots the confusion matrix.\n",
    "    Normalization can be applied by setting `normalize=True`.\n",
    "    \"\"\"\n",
    "    if normalize:\n",
    "        cm = cm.astype('float') / cm.sum(axis=1)[:, np.newaxis]\n",
    "        print(\"Normalized confusion matrix\")\n",
    "    else:\n",
    "        print('Confusion matrix, without normalization')\n",
    "\n",
    "    print(cm)\n",
    "\n",
    "    plt.imshow(cm, interpolation='nearest', cmap=cmap)\n",
    "    plt.title(title)\n",
    "    plt.colorbar()\n",
    "    tick_marks = np.arange(len(classes))\n",
    "    plt.xticks(tick_marks, classes, rotation=45)\n",
    "    plt.yticks(tick_marks, classes)\n",
    "\n",
    "    fmt = '.2f' if normalize else 'd'\n",
    "    thresh = cm.max() / 2.\n",
    "    for i, j in itertools.product(range(cm.shape[0]), range(cm.shape[1])):\n",
    "        plt.text(j, i, format(cm[i, j], fmt),\n",
    "                 horizontalalignment=\"center\",\n",
    "                 color=\"white\" if cm[i, j] > thresh else \"black\")\n",
    "\n",
    "    plt.ylabel('True label')\n",
    "    plt.xlabel('Predicted label')\n",
    "    plt.tight_layout()"
   ]
  },
  {
   "cell_type": "markdown",
   "id": "6a449aa6",
   "metadata": {},
   "source": [
    "### Confusion matrix on Train data"
   ]
  },
  {
   "cell_type": "code",
   "execution_count": 29,
   "id": "ab711749",
   "metadata": {},
   "outputs": [
    {
     "name": "stdout",
     "output_type": "stream",
     "text": [
      "Normalized confusion matrix\n",
      "[[8.97390046e-01 2.04314088e-02 1.59750121e-02 6.62035330e-02]\n",
      " [6.45400862e-02 9.35206318e-01 2.53595624e-04 0.00000000e+00]\n",
      " [1.20194602e-02 1.09428724e-03 9.86406829e-01 4.79424014e-04]\n",
      " [4.88332282e-02 0.00000000e+00 5.04549959e-03 9.46121272e-01]]\n"
     ]
    },
    {
     "data": {
      "image/png": "[encoded data removed]",
      "text/plain": [
       "<Figure size 432x288 with 2 Axes>"
      ]
     },
     "metadata": {
      "needs_background": "light"
     },
     "output_type": "display_data"
    }
   ],
   "source": [
    "conf_mat_val = confusion_matrix(np.argmax(y_train_pred, axis=1), y_train_)\n",
    "plot_confusion_matrix(conf_mat_val, [\"A\", \"B\", \"C\", \"D\"], title='Confusion matrix on Validation data', normalize=True)"
   ]
  },
  {
   "cell_type": "markdown",
   "id": "b806d8ea",
   "metadata": {},
   "source": [
    "### Confusion matrix on Test data"
   ]
  },
  {
   "cell_type": "code",
   "execution_count": 30,
   "id": "df191d0b",
   "metadata": {},
   "outputs": [
    {
     "name": "stdout",
     "output_type": "stream",
     "text": [
      "Normalized confusion matrix\n",
      "[[8.97021554e-01 2.05798000e-02 1.61323895e-02 6.62662567e-02]\n",
      " [6.73665792e-02 9.32341791e-01 2.91630213e-04 0.00000000e+00]\n",
      " [1.23608405e-02 1.16652354e-03 9.86004795e-01 4.67840577e-04]\n",
      " [5.02084466e-02 0.00000000e+00 5.61899583e-03 9.44172558e-01]]\n"
     ]
    },
    {
     "data": {
      "image/png": "[encoded data removed]",
      "text/plain": [
       "<Figure size 432x288 with 2 Axes>"
      ]
     },
     "metadata": {
      "needs_background": "light"
     },
     "output_type": "display_data"
    }
   ],
   "source": [
    "conf_mat_val = confusion_matrix(np.argmax(y_test_pred, axis=1), y_test_)\n",
    "plot_confusion_matrix(conf_mat_val, [\"A\", \"B\", \"C\", \"D\"], title='Confusion matrix on Validation data', normalize=True)"
   ]
  },
  {
   "cell_type": "markdown",
   "id": "480d75e3",
   "metadata": {},
   "source": [
    "#### Greate results!"
   ]
  },
  {
   "cell_type": "code",
   "execution_count": null,
   "id": "e5e4168a",
   "metadata": {},
   "outputs": [],
   "source": []
  },
  {
   "cell_type": "markdown",
   "id": "d55256f3",
   "metadata": {},
   "source": [
    "#### Testing on Kaggle data"
   ]
  },
  {
   "cell_type": "code",
   "execution_count": 5,
   "id": "9ff8bd04",
   "metadata": {},
   "outputs": [],
   "source": [
    "# joblib.dump(test_df_fe, \"test_df_fe\")\n",
    "test_df_fe_16 = joblib.load(\"test_df_fe\")[feature_16]"
   ]
  },
  {
   "cell_type": "code",
   "execution_count": 6,
   "id": "0ca1a48b",
   "metadata": {},
   "outputs": [],
   "source": [
    "y_pred_16 = model.predict(test_df_fe_16)"
   ]
  },
  {
   "cell_type": "code",
   "execution_count": 8,
   "id": "8818e696",
   "metadata": {},
   "outputs": [],
   "source": [
    "sub = pd.DataFrame(np.concatenate((np.arange(len(test_df_fe_16))[:, np.newaxis], y_pred_16), axis=1), columns=['id', 'A', 'B', 'C', 'D'],)\n",
    "sub['id'] = sub['id'].astype(int)"
   ]
  },
  {
   "cell_type": "code",
   "execution_count": 9,
   "id": "de4194a9",
   "metadata": {},
   "outputs": [],
   "source": [
    "sub.to_csv('result_lgbm_fe_16.csv', index=False)"
   ]
  },
  {
   "cell_type": "markdown",
   "id": "4b905059",
   "metadata": {},
   "source": [
    "## Lets Check What's the status on Kaggle dataset"
   ]
  },
  {
   "cell_type": "markdown",
   "id": "67a30750",
   "metadata": {},
   "source": [
    "![title](LGBM_fe_16_score.png)"
   ]
  },
  {
   "cell_type": "markdown",
   "id": "00a7cc14",
   "metadata": {},
   "source": [
    "### Oh, results are better If take only important features than taking all features!"
   ]
  },
  {
   "cell_type": "markdown",
   "id": "33d17f48",
   "metadata": {},
   "source": []
  },
  {
   "cell_type": "code",
   "execution_count": null,
   "id": "d32bd6df",
   "metadata": {},
   "outputs": [],
   "source": []
  },
  {
   "cell_type": "markdown",
   "id": "ae2f7d9a",
   "metadata": {},
   "source": [
    "### Let's try Neural network on  top 16 features"
   ]
  },
  {
   "cell_type": "code",
   "execution_count": 8,
   "id": "1cf3bcd5",
   "metadata": {},
   "outputs": [],
   "source": [
    "import tensorflow as tf\n",
    "# tf.compat.v1.enable_eager_execution()\n",
    "from tensorflow import keras\n",
    "from tensorflow.keras.layers import *\n",
    "from tensorflow.keras.preprocessing import image\n",
    "from tensorflow.keras.models import Model, load_model\n",
    "from tensorflow.keras.layers import UpSampling2D\n",
    "from tensorflow.keras.layers import MaxPooling2D, GlobalAveragePooling2D\n",
    "from tensorflow.keras.layers import concatenate\n",
    "from tensorflow.keras.layers import Multiply\n",
    "from tensorflow.keras.callbacks import EarlyStopping, ModelCheckpoint\n",
    "from tensorflow.keras import backend as K\n",
    "from tensorflow.keras.layers import Input, Add, Dense, Activation, ZeroPadding2D, BatchNormalization, Flatten, Conv2D, AveragePooling2D, MaxPooling2D, GlobalMaxPooling2D\n",
    "from tensorflow.keras.models import Model, load_model, Sequential\n",
    " \n",
    "os.environ['TF_FORCE_GPU_ALLOW_GROWTH'] = 'true'\n",
    "\n",
    "# CuDNNLSTM\n",
    "from tensorflow.keras.layers import Embedding\n",
    "from keras import initializers\n",
    "from keras.models import Sequential\n",
    "from keras.layers import Dense, Conv1D, Concatenate, MaxPooling1D\n",
    "from keras.layers import Flatten, Dropout\n",
    "from tensorflow import keras\n",
    "from tensorflow.keras.callbacks import Callback, ModelCheckpoint, EarlyStopping, TensorBoard, LearningRateScheduler\n",
    "from sklearn.metrics import recall_score, f1_score, roc_curve, auc\n",
    "import datetime\n",
    " "
   ]
  },
  {
   "cell_type": "code",
   "execution_count": 11,
   "id": "28c6efed",
   "metadata": {},
   "outputs": [],
   "source": [
    "from sklearn.preprocessing import LabelBinarizer\n",
    "label_as_binary = LabelBinarizer()\n",
    "f = label_as_binary.fit(y_train)\n",
    "y_train_e = f.transform(y_train)\n",
    "y_test_e = f.transform(y_test)"
   ]
  },
  {
   "cell_type": "code",
   "execution_count": 12,
   "id": "dd69349a",
   "metadata": {},
   "outputs": [
    {
     "data": {
      "text/html": [
       "<div>\n",
       "<style scoped>\n",
       "    .dataframe tbody tr th:only-of-type {\n",
       "        vertical-align: middle;\n",
       "    }\n",
       "\n",
       "    .dataframe tbody tr th {\n",
       "        vertical-align: top;\n",
       "    }\n",
       "\n",
       "    .dataframe thead th {\n",
       "        text-align: right;\n",
       "    }\n",
       "</style>\n",
       "<table border=\"1\" class=\"dataframe\">\n",
       "  <thead>\n",
       "    <tr style=\"text-align: right;\">\n",
       "      <th></th>\n",
       "      <th>time</th>\n",
       "      <th>ecg</th>\n",
       "      <th>r</th>\n",
       "      <th>gsr</th>\n",
       "      <th>fp1_f7</th>\n",
       "      <th>f7_t3</th>\n",
       "      <th>t3_t5</th>\n",
       "      <th>t5_o1</th>\n",
       "      <th>fp1_f3</th>\n",
       "      <th>f3_c3</th>\n",
       "      <th>...</th>\n",
       "      <th>cz_pz</th>\n",
       "      <th>pz_poz</th>\n",
       "      <th>fp2_f8</th>\n",
       "      <th>f8_t4</th>\n",
       "      <th>t4_t6</th>\n",
       "      <th>t6_o2</th>\n",
       "      <th>fp2_f4</th>\n",
       "      <th>f4_c4</th>\n",
       "      <th>c4_p4</th>\n",
       "      <th>p4_o2</th>\n",
       "    </tr>\n",
       "  </thead>\n",
       "  <tbody>\n",
       "    <tr>\n",
       "      <th>1801191</th>\n",
       "      <td>21.109375</td>\n",
       "      <td>5862.399902</td>\n",
       "      <td>828.447998</td>\n",
       "      <td>661.953979</td>\n",
       "      <td>4.013599</td>\n",
       "      <td>7.490551</td>\n",
       "      <td>12.518730</td>\n",
       "      <td>-15.817580</td>\n",
       "      <td>4.013599</td>\n",
       "      <td>15.25740</td>\n",
       "      <td>...</td>\n",
       "      <td>18.42991</td>\n",
       "      <td>2.848100</td>\n",
       "      <td>-0.773400</td>\n",
       "      <td>10.163530</td>\n",
       "      <td>-1.480850</td>\n",
       "      <td>-1.872110</td>\n",
       "      <td>-9.237801</td>\n",
       "      <td>5.393700</td>\n",
       "      <td>3.063901</td>\n",
       "      <td>6.817370</td>\n",
       "    </tr>\n",
       "    <tr>\n",
       "      <th>2819484</th>\n",
       "      <td>57.550781</td>\n",
       "      <td>10847.299805</td>\n",
       "      <td>795.296997</td>\n",
       "      <td>1624.750000</td>\n",
       "      <td>8.736801</td>\n",
       "      <td>17.285600</td>\n",
       "      <td>-16.402400</td>\n",
       "      <td>25.702500</td>\n",
       "      <td>8.736801</td>\n",
       "      <td>3.59130</td>\n",
       "      <td>...</td>\n",
       "      <td>12.16164</td>\n",
       "      <td>-5.528600</td>\n",
       "      <td>25.515019</td>\n",
       "      <td>39.235179</td>\n",
       "      <td>25.402298</td>\n",
       "      <td>-47.857798</td>\n",
       "      <td>12.855049</td>\n",
       "      <td>70.952350</td>\n",
       "      <td>-21.023300</td>\n",
       "      <td>-20.489401</td>\n",
       "    </tr>\n",
       "    <tr>\n",
       "      <th>2329712</th>\n",
       "      <td>167.773438</td>\n",
       "      <td>-2221.330078</td>\n",
       "      <td>650.447021</td>\n",
       "      <td>1710.900024</td>\n",
       "      <td>-1.425260</td>\n",
       "      <td>8.166870</td>\n",
       "      <td>-15.972480</td>\n",
       "      <td>12.283575</td>\n",
       "      <td>-1.425260</td>\n",
       "      <td>3.26098</td>\n",
       "      <td>...</td>\n",
       "      <td>5.72684</td>\n",
       "      <td>0.647175</td>\n",
       "      <td>-3.759060</td>\n",
       "      <td>50.490299</td>\n",
       "      <td>-49.567999</td>\n",
       "      <td>11.289593</td>\n",
       "      <td>-4.581860</td>\n",
       "      <td>-13.235401</td>\n",
       "      <td>22.528171</td>\n",
       "      <td>3.741923</td>\n",
       "    </tr>\n",
       "    <tr>\n",
       "      <th>2761553</th>\n",
       "      <td>279.351562</td>\n",
       "      <td>10732.000000</td>\n",
       "      <td>795.906982</td>\n",
       "      <td>1764.699951</td>\n",
       "      <td>-10.335180</td>\n",
       "      <td>-4.266648</td>\n",
       "      <td>-4.959792</td>\n",
       "      <td>13.634600</td>\n",
       "      <td>-10.335180</td>\n",
       "      <td>-0.33520</td>\n",
       "      <td>...</td>\n",
       "      <td>-2.07110</td>\n",
       "      <td>-3.784310</td>\n",
       "      <td>1.375000</td>\n",
       "      <td>-11.188350</td>\n",
       "      <td>9.267650</td>\n",
       "      <td>-10.653000</td>\n",
       "      <td>3.912599</td>\n",
       "      <td>-12.061799</td>\n",
       "      <td>-12.947790</td>\n",
       "      <td>9.898290</td>\n",
       "    </tr>\n",
       "    <tr>\n",
       "      <th>3186090</th>\n",
       "      <td>53.453125</td>\n",
       "      <td>9927.769531</td>\n",
       "      <td>798.146973</td>\n",
       "      <td>1843.510010</td>\n",
       "      <td>4.126101</td>\n",
       "      <td>-11.868400</td>\n",
       "      <td>-3.342620</td>\n",
       "      <td>-11.988410</td>\n",
       "      <td>4.126101</td>\n",
       "      <td>-3.37750</td>\n",
       "      <td>...</td>\n",
       "      <td>0.75195</td>\n",
       "      <td>-0.915070</td>\n",
       "      <td>-3.727420</td>\n",
       "      <td>-9.086660</td>\n",
       "      <td>6.833970</td>\n",
       "      <td>-12.458280</td>\n",
       "      <td>-12.942530</td>\n",
       "      <td>-0.690480</td>\n",
       "      <td>-0.005250</td>\n",
       "      <td>-4.800130</td>\n",
       "    </tr>\n",
       "  </tbody>\n",
       "</table>\n",
       "<p>5 rows × 23 columns</p>\n",
       "</div>"
      ],
      "text/plain": [
       "               time           ecg           r          gsr     fp1_f7  \\\n",
       "1801191   21.109375   5862.399902  828.447998   661.953979   4.013599   \n",
       "2819484   57.550781  10847.299805  795.296997  1624.750000   8.736801   \n",
       "2329712  167.773438  -2221.330078  650.447021  1710.900024  -1.425260   \n",
       "2761553  279.351562  10732.000000  795.906982  1764.699951 -10.335180   \n",
       "3186090   53.453125   9927.769531  798.146973  1843.510010   4.126101   \n",
       "\n",
       "             f7_t3      t3_t5      t5_o1     fp1_f3     f3_c3  ...     cz_pz  \\\n",
       "1801191   7.490551  12.518730 -15.817580   4.013599  15.25740  ...  18.42991   \n",
       "2819484  17.285600 -16.402400  25.702500   8.736801   3.59130  ...  12.16164   \n",
       "2329712   8.166870 -15.972480  12.283575  -1.425260   3.26098  ...   5.72684   \n",
       "2761553  -4.266648  -4.959792  13.634600 -10.335180  -0.33520  ...  -2.07110   \n",
       "3186090 -11.868400  -3.342620 -11.988410   4.126101  -3.37750  ...   0.75195   \n",
       "\n",
       "           pz_poz     fp2_f8      f8_t4      t4_t6      t6_o2     fp2_f4  \\\n",
       "1801191  2.848100  -0.773400  10.163530  -1.480850  -1.872110  -9.237801   \n",
       "2819484 -5.528600  25.515019  39.235179  25.402298 -47.857798  12.855049   \n",
       "2329712  0.647175  -3.759060  50.490299 -49.567999  11.289593  -4.581860   \n",
       "2761553 -3.784310   1.375000 -11.188350   9.267650 -10.653000   3.912599   \n",
       "3186090 -0.915070  -3.727420  -9.086660   6.833970 -12.458280 -12.942530   \n",
       "\n",
       "             f4_c4      c4_p4      p4_o2  \n",
       "1801191   5.393700   3.063901   6.817370  \n",
       "2819484  70.952350 -21.023300 -20.489401  \n",
       "2329712 -13.235401  22.528171   3.741923  \n",
       "2761553 -12.061799 -12.947790   9.898290  \n",
       "3186090  -0.690480  -0.005250  -4.800130  \n",
       "\n",
       "[5 rows x 23 columns]"
      ]
     },
     "execution_count": 12,
     "metadata": {},
     "output_type": "execute_result"
    }
   ],
   "source": [
    "X_train_fe.head()"
   ]
  },
  {
   "cell_type": "code",
   "execution_count": 20,
   "id": "bcc4054b",
   "metadata": {},
   "outputs": [],
   "source": [
    "inputs = tf.keras.Input(shape=(23,))\n",
    "x = Dense(128, activation=\"relu\")(inputs)\n",
    "x = Dense(64, activation=\"relu\")(x)\n",
    "x = Dense(32, activation=\"relu\")(x)\n",
    "x = Dense(16, activation=\"relu\")(x) \n",
    "x = Dense(8, activation=\"relu\")(x) \n",
    "states = Dense(4, activation=\"softmax\")(x)  \n",
    "model = Model(inputs=inputs, outputs=states, name=\"mnist_model\")"
   ]
  },
  {
   "cell_type": "code",
   "execution_count": 21,
   "id": "acf656c3",
   "metadata": {},
   "outputs": [
    {
     "name": "stdout",
     "output_type": "stream",
     "text": [
      "Model: \"mnist_model\"\n",
      "_________________________________________________________________\n",
      " Layer (type)                Output Shape              Param #   \n",
      "=================================================================\n",
      " input_4 (InputLayer)        [(None, 23)]              0         \n",
      "                                                                 \n",
      " dense_15 (Dense)            (None, 128)               3072      \n",
      "                                                                 \n",
      " dense_16 (Dense)            (None, 64)                8256      \n",
      "                                                                 \n",
      " dense_17 (Dense)            (None, 32)                2080      \n",
      "                                                                 \n",
      " dense_18 (Dense)            (None, 16)                528       \n",
      "                                                                 \n",
      " dense_19 (Dense)            (None, 8)                 136       \n",
      "                                                                 \n",
      " dense_20 (Dense)            (None, 4)                 36        \n",
      "                                                                 \n",
      "=================================================================\n",
      "Total params: 14,108\n",
      "Trainable params: 14,108\n",
      "Non-trainable params: 0\n",
      "_________________________________________________________________\n"
     ]
    }
   ],
   "source": [
    "model.summary()"
   ]
  },
  {
   "cell_type": "code",
   "execution_count": 22,
   "id": "d6933c98",
   "metadata": {},
   "outputs": [],
   "source": [
    "import datetime \n",
    "filepath=\"model_save_fe/weights-{epoch:02d}-{val_accuracy:.4f}.hdf5\"\n",
    "checkpoint = ModelCheckpoint(filepath=filepath, monitor='val_accuracy',  verbose=1, save_best_only=True, mode='auto')\n",
    "log_dir = os.path.join(\"logs\",'fits', datetime.datetime.now().strftime(\"%Y%m%d-%H%M%S\"))\n",
    "tensorboard_callback = TensorBoard(log_dir=log_dir,histogram_freq=1,write_graph=True)"
   ]
  },
  {
   "cell_type": "code",
   "execution_count": 23,
   "id": "1bdf183d",
   "metadata": {},
   "outputs": [],
   "source": [
    "import shutil\n",
    "try:\n",
    "    shutil.rmtree('./logs/')\n",
    "except:\n",
    "    print(\"Not found\")\n",
    "model.compile(optimizer=\"adam\", loss=\"categorical_crossentropy\", metrics=['accuracy'])"
   ]
  },
  {
   "cell_type": "code",
   "execution_count": 24,
   "id": "d71d4690",
   "metadata": {},
   "outputs": [
    {
     "name": "stdout",
     "output_type": "stream",
     "text": [
      "Epoch 1/10\n",
      "30417/30422 [============================>.] - ETA: 0s - loss: 1.0381 - accuracy: 0.5643\n",
      "Epoch 1: val_accuracy improved from -inf to 0.66605, saving model to model_save_fe\\weights-01-0.6660.hdf5\n",
      "30422/30422 [==============================] - 104s 3ms/step - loss: 1.0381 - accuracy: 0.5643 - val_loss: 0.9207 - val_accuracy: 0.6660\n",
      "Epoch 2/10\n",
      "30406/30422 [============================>.] - ETA: 0s - loss: 0.9265 - accuracy: 0.5651\n",
      "Epoch 2: val_accuracy did not improve from 0.66605\n",
      "30422/30422 [==============================] - 86s 3ms/step - loss: 0.9265 - accuracy: 0.5651 - val_loss: 0.9185 - val_accuracy: 0.6660\n",
      "Epoch 3/10\n",
      "30410/30422 [============================>.] - ETA: 0s - loss: 0.9265 - accuracy: 0.5651\n",
      "Epoch 3: val_accuracy did not improve from 0.66605\n",
      "30422/30422 [==============================] - 78s 3ms/step - loss: 0.9265 - accuracy: 0.5651 - val_loss: 0.9169 - val_accuracy: 0.6660\n",
      "Epoch 4/10\n",
      "30416/30422 [============================>.] - ETA: 0s - loss: 0.9265 - accuracy: 0.5651\n",
      "Epoch 4: val_accuracy did not improve from 0.66605\n",
      "30422/30422 [==============================] - 84s 3ms/step - loss: 0.9265 - accuracy: 0.5651 - val_loss: 0.9242 - val_accuracy: 0.6660\n",
      "Epoch 5/10\n",
      "30409/30422 [============================>.] - ETA: 0s - loss: 0.9265 - accuracy: 0.5651\n",
      "Epoch 5: val_accuracy did not improve from 0.66605\n",
      "30422/30422 [==============================] - 84s 3ms/step - loss: 0.9265 - accuracy: 0.5651 - val_loss: 0.9193 - val_accuracy: 0.6660\n",
      "Epoch 6/10\n",
      "30407/30422 [============================>.] - ETA: 0s - loss: 0.9265 - accuracy: 0.5651\n",
      "Epoch 6: val_accuracy did not improve from 0.66605\n",
      "30422/30422 [==============================] - 82s 3ms/step - loss: 0.9265 - accuracy: 0.5651 - val_loss: 0.9182 - val_accuracy: 0.6660\n",
      "Epoch 7/10\n",
      "30416/30422 [============================>.] - ETA: 0s - loss: 0.9265 - accuracy: 0.5651\n",
      "Epoch 7: val_accuracy did not improve from 0.66605\n",
      "30422/30422 [==============================] - 84s 3ms/step - loss: 0.9265 - accuracy: 0.5651 - val_loss: 0.9204 - val_accuracy: 0.6660\n",
      "Epoch 8/10\n",
      "30413/30422 [============================>.] - ETA: 0s - loss: 0.9265 - accuracy: 0.5651\n",
      "Epoch 8: val_accuracy did not improve from 0.66605\n",
      "30422/30422 [==============================] - 83s 3ms/step - loss: 0.9265 - accuracy: 0.5651 - val_loss: 0.9169 - val_accuracy: 0.6660\n",
      "Epoch 9/10\n",
      "30409/30422 [============================>.] - ETA: 0s - loss: 0.9265 - accuracy: 0.5651\n",
      "Epoch 9: val_accuracy did not improve from 0.66605\n",
      "30422/30422 [==============================] - 82s 3ms/step - loss: 0.9265 - accuracy: 0.5651 - val_loss: 0.9171 - val_accuracy: 0.6660\n",
      "Epoch 10/10\n",
      "30419/30422 [============================>.] - ETA: 0s - loss: 0.9265 - accuracy: 0.5651\n",
      "Epoch 10: val_accuracy did not improve from 0.66605\n",
      "30422/30422 [==============================] - 83s 3ms/step - loss: 0.9265 - accuracy: 0.5651 - val_loss: 0.9221 - val_accuracy: 0.6660\n"
     ]
    }
   ],
   "source": [
    "history = model.fit(X_train_fe,y_train_e,epochs=10, validation_data=(X_test_fe,y_test_e), batch_size=128, callbacks=[checkpoint,\\\n",
    "                                                                                              tensorboard_callback])"
   ]
  },
  {
   "cell_type": "markdown",
   "id": "6b0c6bda",
   "metadata": {},
   "source": [
    "# Using this neural network trained on top 16 features won't be helpful as accuracy not increasing after 1 epoch!"
   ]
  },
  {
   "cell_type": "code",
   "execution_count": null,
   "id": "576ae97f",
   "metadata": {},
   "outputs": [],
   "source": []
  },
  {
   "cell_type": "code",
   "execution_count": null,
   "id": "77e8e598",
   "metadata": {},
   "outputs": [],
   "source": []
  },
  {
   "cell_type": "code",
   "execution_count": null,
   "id": "bfac75f5",
   "metadata": {},
   "outputs": [],
   "source": []
  },
  {
   "cell_type": "code",
   "execution_count": null,
   "id": "aa11bafa",
   "metadata": {},
   "outputs": [],
   "source": []
  },
  {
   "cell_type": "code",
   "execution_count": 1,
   "id": "d8bf3a2e",
   "metadata": {},
   "outputs": [],
   "source": [
    "# test_df_fe_16 = joblib.load(\"test_df_fe\")[feature_16]\n",
    "# y_pred_16 = model.predict(test_df_fe_16)\n",
    "# sub = pd.DataFrame(np.concatenate((np.arange(len(test_df_fe_16))[:, np.newaxis], y_pred_16), axis=1), columns=['id', 'A', 'B', 'C', 'D'],)\n",
    "# sub['id'] = sub['id'].astype(int)"
   ]
  },
  {
   "cell_type": "markdown",
   "id": "ae3e5168",
   "metadata": {},
   "source": [
    "# Summary"
   ]
  },
  {
   "cell_type": "markdown",
   "id": "d24e2c1d",
   "metadata": {},
   "source": [
    "Log loss on TRAIN Data using Random Model **1.6453471449107933**\n",
    "\n",
    "Log loss on TEST Data using Random Model **1.6453310877290241**"
   ]
  },
  {
   "cell_type": "code",
   "execution_count": 2,
   "id": "3a0b3273",
   "metadata": {},
   "outputs": [
    {
     "name": "stdout",
     "output_type": "stream",
     "text": [
      "+---------------+-------------------------------------------+---------------+------------+-----------------------+\n",
      "|     Model     |                  Approach                 | train logloss | cv logloss | Kaggle score(private) |\n",
      "+---------------+-------------------------------------------+---------------+------------+-----------------------+\n",
      "| Random forest |          FE + No min-max scaling          |   0.08983134  | 0.10121189 |          5.52         |\n",
      "|   Light GBM   |          FE + No min-max scaling          |      0.03     |    0.04    |          1.13         |\n",
      "|   Light GBM   | FE + No min-max scaling + Top 16 features |      0.21     |    0.21    |         0.852         |\n",
      "+---------------+-------------------------------------------+---------------+------------+-----------------------+\n"
     ]
    }
   ],
   "source": [
    "from prettytable import PrettyTable \n",
    "\n",
    "myTable = PrettyTable([\"Model\", \"Approach\",\"train logloss\", \"cv logloss\", \"Kaggle score(private)\"])\n",
    "  \n",
    "myTable.add_row([\"Random forest\",\"FE + No min-max scaling\", \"0.08983134\", \"0.10121189\", \"5.52\"])\n",
    "myTable.add_row([\"Light GBM\",\"FE + No min-max scaling\", \"0.03\", \"0.04\", \"1.13\"])\n",
    "myTable.add_row([\"Light GBM\",\"FE + No min-max scaling + Top 16 features\", \"0.21\", \"0.21\", \"0.852\"])\n",
    "print(myTable)"
   ]
  },
  {
   "cell_type": "markdown",
   "id": "785942ea",
   "metadata": {},
   "source": [
    "Better performance than Random model!"
   ]
  }
 ],
 "metadata": {
  "kernelspec": {
   "display_name": "Python 3 (ipykernel)",
   "language": "python",
   "name": "python3"
  },
  "language_info": {
   "codemirror_mode": {
    "name": "ipython",
    "version": 3
   },
   "file_extension": ".py",
   "mimetype": "text/x-python",
   "name": "python",
   "nbconvert_exporter": "python",
   "pygments_lexer": "ipython3",
   "version": "3.9.7"
  }
 },
 "nbformat": 4,
 "nbformat_minor": 5
}
